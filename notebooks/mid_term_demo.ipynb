{
 "cells": [
  {
   "cell_type": "code",
   "execution_count": 2,
   "metadata": {},
   "outputs": [],
   "source": [
    "#Python Library for Dataframe usage\n",
    "import pandas as pd\n",
    "import numpy as np\n",
    "import matplotlib.pyplot as plt\n",
    "%matplotlib inline\n",
    "\n",
    "#Libraries for Graph\n",
    "import networkx as nx"
   ]
  },
  {
   "cell_type": "code",
   "execution_count": 22,
   "metadata": {},
   "outputs": [],
   "source": [
    "#Serializing to a file\n",
    "import _pickle as pickle\n",
    "\n",
    "#Python Libraries for Mongos Database\n",
    "import pymongo\n",
    "from pymongo import MongoClient"
   ]
  },
  {
   "cell_type": "code",
   "execution_count": 30,
   "metadata": {},
   "outputs": [],
   "source": [
    "#PandaDF of ingredients and their associated flavor molecules\n",
    "#Opening the pickled file\n",
    "pickle_in = open(\"../data/ingredients/ingredient_only_pd.pickle\", \"rb\")\n",
    "\n",
    "#Getting the dictionary from the pickle\n",
    "ingredient_only_pd = pickle.load(pickle_in)"
   ]
  },
  {
   "cell_type": "code",
   "execution_count": 31,
   "metadata": {},
   "outputs": [
    {
     "data": {
      "text/html": [
       "<div>\n",
       "<style scoped>\n",
       "    .dataframe tbody tr th:only-of-type {\n",
       "        vertical-align: middle;\n",
       "    }\n",
       "\n",
       "    .dataframe tbody tr th {\n",
       "        vertical-align: top;\n",
       "    }\n",
       "\n",
       "    .dataframe thead th {\n",
       "        text-align: right;\n",
       "    }\n",
       "</style>\n",
       "<table border=\"1\" class=\"dataframe\">\n",
       "  <thead>\n",
       "    <tr style=\"text-align: right;\">\n",
       "      <th></th>\n",
       "      <th>_id</th>\n",
       "      <th>ingredient</th>\n",
       "      <th>catgeory</th>\n",
       "      <th>molecules</th>\n",
       "      <th>molecule_IDs</th>\n",
       "      <th>set_molecules</th>\n",
       "      <th>set_molecules_ID</th>\n",
       "      <th>molecule_quantity</th>\n",
       "    </tr>\n",
       "  </thead>\n",
       "  <tbody>\n",
       "    <tr>\n",
       "      <th>0</th>\n",
       "      <td>5ca27b8f13218a1eabac63d6</td>\n",
       "      <td>Egg</td>\n",
       "      <td>Animal Product</td>\n",
       "      <td>[L-arginine, 3-Methylindole, 2,5-Dimethylpyraz...</td>\n",
       "      <td>[6322, 6736, 31252, 7909, 7284, 7501, 9609, 12...</td>\n",
       "      <td>{betaine, Diethyl sulfide, octanoic acid, L-ar...</td>\n",
       "      <td>{9261, 12232, 994, 11509, 8184, 7284, 3776, 96...</td>\n",
       "      <td>55</td>\n",
       "    </tr>\n",
       "    <tr>\n",
       "      <th>8</th>\n",
       "      <td>5ca27b9913218a1eabac63de</td>\n",
       "      <td>Arrack</td>\n",
       "      <td>Beverage Alcoholic</td>\n",
       "      <td>[Propyl acetate, Methyl Acetate, benzaldehyde,...</td>\n",
       "      <td>[7997, 6584, 240, 31249, 1031]</td>\n",
       "      <td>{Diethyl Succinate, benzaldehyde, Methyl Aceta...</td>\n",
       "      <td>{31249, 1031, 7997, 6584, 240}</td>\n",
       "      <td>5</td>\n",
       "    </tr>\n",
       "    <tr>\n",
       "      <th>9</th>\n",
       "      <td>5ca27b9b13218a1eabac63df</td>\n",
       "      <td>Beer</td>\n",
       "      <td>Beverage Alcoholic</td>\n",
       "      <td>[(2E,4E)-Undeca-2,4-dienal, Isoamyl butyrate, ...</td>\n",
       "      <td>[5367531, 7795, 20083, 10558, 16617, 12209, 22...</td>\n",
       "      <td>{2-Pentanol, Nonyl Acetate, Pentanal, (-)-Epic...</td>\n",
       "      <td>{7342, 5366074, 240925, 26334, 8158, 11509, 10...</td>\n",
       "      <td>263</td>\n",
       "    </tr>\n",
       "    <tr>\n",
       "      <th>10</th>\n",
       "      <td>5ca27b9c13218a1eabac63e0</td>\n",
       "      <td>Bantu Beer</td>\n",
       "      <td>Beverage Alcoholic</td>\n",
       "      <td>[1-octanol, Phenethyl acetate, Pentanal, Propi...</td>\n",
       "      <td>[957, 7654, 8063, 527, 7147, 12209, 1068, 240,...</td>\n",
       "      <td>{1-octanol, Methyl tetradecanoate, Pentanal, I...</td>\n",
       "      <td>{527, 6354, 6560, 8063, 12209, 7147, 8038, 765...</td>\n",
       "      <td>13</td>\n",
       "    </tr>\n",
       "    <tr>\n",
       "      <th>11</th>\n",
       "      <td>5ca27b9d13218a1eabac63e1</td>\n",
       "      <td>Brandy</td>\n",
       "      <td>Beverage Alcoholic</td>\n",
       "      <td>[2-Furaldehyde, 2-Methylhexanoic Acid, Ethyl 2...</td>\n",
       "      <td>[7362, 20653, 5364399, 61386, 12327, 7762, 805...</td>\n",
       "      <td>{octanoic acid, Isobutyl Acetate, Ethyl Cinnam...</td>\n",
       "      <td>{5364399, 10430, 8892, 19310, 7654, 5364231, 6...</td>\n",
       "      <td>50</td>\n",
       "    </tr>\n",
       "  </tbody>\n",
       "</table>\n",
       "</div>"
      ],
      "text/plain": [
       "                         _id  ingredient            catgeory  \\\n",
       "0   5ca27b8f13218a1eabac63d6         Egg      Animal Product   \n",
       "8   5ca27b9913218a1eabac63de      Arrack  Beverage Alcoholic   \n",
       "9   5ca27b9b13218a1eabac63df        Beer  Beverage Alcoholic   \n",
       "10  5ca27b9c13218a1eabac63e0  Bantu Beer  Beverage Alcoholic   \n",
       "11  5ca27b9d13218a1eabac63e1      Brandy  Beverage Alcoholic   \n",
       "\n",
       "                                            molecules  \\\n",
       "0   [L-arginine, 3-Methylindole, 2,5-Dimethylpyraz...   \n",
       "8   [Propyl acetate, Methyl Acetate, benzaldehyde,...   \n",
       "9   [(2E,4E)-Undeca-2,4-dienal, Isoamyl butyrate, ...   \n",
       "10  [1-octanol, Phenethyl acetate, Pentanal, Propi...   \n",
       "11  [2-Furaldehyde, 2-Methylhexanoic Acid, Ethyl 2...   \n",
       "\n",
       "                                         molecule_IDs  \\\n",
       "0   [6322, 6736, 31252, 7909, 7284, 7501, 9609, 12...   \n",
       "8                      [7997, 6584, 240, 31249, 1031]   \n",
       "9   [5367531, 7795, 20083, 10558, 16617, 12209, 22...   \n",
       "10  [957, 7654, 8063, 527, 7147, 12209, 1068, 240,...   \n",
       "11  [7362, 20653, 5364399, 61386, 12327, 7762, 805...   \n",
       "\n",
       "                                        set_molecules  \\\n",
       "0   {betaine, Diethyl sulfide, octanoic acid, L-ar...   \n",
       "8   {Diethyl Succinate, benzaldehyde, Methyl Aceta...   \n",
       "9   {2-Pentanol, Nonyl Acetate, Pentanal, (-)-Epic...   \n",
       "10  {1-octanol, Methyl tetradecanoate, Pentanal, I...   \n",
       "11  {octanoic acid, Isobutyl Acetate, Ethyl Cinnam...   \n",
       "\n",
       "                                     set_molecules_ID  molecule_quantity  \n",
       "0   {9261, 12232, 994, 11509, 8184, 7284, 3776, 96...                 55  \n",
       "8                      {31249, 1031, 7997, 6584, 240}                  5  \n",
       "9   {7342, 5366074, 240925, 26334, 8158, 11509, 10...                263  \n",
       "10  {527, 6354, 6560, 8063, 12209, 7147, 8038, 765...                 13  \n",
       "11  {5364399, 10430, 8892, 19310, 7654, 5364231, 6...                 50  "
      ]
     },
     "execution_count": 31,
     "metadata": {},
     "output_type": "execute_result"
    }
   ],
   "source": [
    "ingredient_only_pd.head()"
   ]
  },
  {
   "cell_type": "code",
   "execution_count": 32,
   "metadata": {},
   "outputs": [],
   "source": [
    "#now filter out only those with recipes from puppy API"
   ]
  },
  {
   "cell_type": "code",
   "execution_count": null,
   "metadata": {},
   "outputs": [],
   "source": []
  },
  {
   "cell_type": "code",
   "execution_count": null,
   "metadata": {},
   "outputs": [],
   "source": []
  },
  {
   "cell_type": "code",
   "execution_count": null,
   "metadata": {},
   "outputs": [],
   "source": []
  },
  {
   "cell_type": "code",
   "execution_count": null,
   "metadata": {},
   "outputs": [],
   "source": []
  },
  {
   "cell_type": "code",
   "execution_count": 23,
   "metadata": {},
   "outputs": [],
   "source": [
    "#accessing mongoDB\n",
    "client = MongoClient()\n",
    "database = client['food_map']   # Database name (to connect to)\n",
    "collections = database['flavor_molecules']"
   ]
  },
  {
   "cell_type": "code",
   "execution_count": 24,
   "metadata": {},
   "outputs": [],
   "source": [
    "#Getting the dataset from MongoDB into Pandas\n",
    "flavorDB_pandas = pd.DataFrame(list(collections.find()))\n",
    "flavorDB_pandas = flavorDB_pandas[[\"_id\", \"ingredient\", \"catgeory\", \"molecules\", \"molecule_IDs\"]]"
   ]
  },
  {
   "cell_type": "code",
   "execution_count": 25,
   "metadata": {},
   "outputs": [
    {
     "data": {
      "text/html": [
       "<div>\n",
       "<style scoped>\n",
       "    .dataframe tbody tr th:only-of-type {\n",
       "        vertical-align: middle;\n",
       "    }\n",
       "\n",
       "    .dataframe tbody tr th {\n",
       "        vertical-align: top;\n",
       "    }\n",
       "\n",
       "    .dataframe thead th {\n",
       "        text-align: right;\n",
       "    }\n",
       "</style>\n",
       "<table border=\"1\" class=\"dataframe\">\n",
       "  <thead>\n",
       "    <tr style=\"text-align: right;\">\n",
       "      <th></th>\n",
       "      <th>_id</th>\n",
       "      <th>ingredient</th>\n",
       "      <th>catgeory</th>\n",
       "      <th>molecules</th>\n",
       "      <th>molecule_IDs</th>\n",
       "    </tr>\n",
       "  </thead>\n",
       "  <tbody>\n",
       "    <tr>\n",
       "      <th>0</th>\n",
       "      <td>5ca27b8f13218a1eabac63d6</td>\n",
       "      <td>Egg</td>\n",
       "      <td>Animal Product</td>\n",
       "      <td>[L-arginine, 3-Methylindole, 2,5-Dimethylpyraz...</td>\n",
       "      <td>[6322, 6736, 31252, 7909, 7284, 7501, 9609, 12...</td>\n",
       "    </tr>\n",
       "    <tr>\n",
       "      <th>1</th>\n",
       "      <td>5ca27b9113218a1eabac63d7</td>\n",
       "      <td>Bakery Products</td>\n",
       "      <td>Bakery</td>\n",
       "      <td>[2,3-Dimethylpyrazine, 2,5-Dimethylpyrazine, 2...</td>\n",
       "      <td>[22201, 31252, 26331, 27457, 7976, 26808]</td>\n",
       "    </tr>\n",
       "    <tr>\n",
       "      <th>2</th>\n",
       "      <td>5ca27b9213218a1eabac63d8</td>\n",
       "      <td>Bread</td>\n",
       "      <td>Bakery</td>\n",
       "      <td>[coumarin, Methyl Benzoate, 3-Hexanone, Gerani...</td>\n",
       "      <td>[323, 7150, 11509, 637566, 439341, 33931, 9261...</td>\n",
       "    </tr>\n",
       "    <tr>\n",
       "      <th>3</th>\n",
       "      <td>5ca27b9313218a1eabac63d9</td>\n",
       "      <td>Rye Bread</td>\n",
       "      <td>Bakery</td>\n",
       "      <td>[2-Methylbutyl Acetate, 3-methylthiopropanol, ...</td>\n",
       "      <td>[12209, 10448, 5372954, 8468, 643731, 7344, 18...</td>\n",
       "    </tr>\n",
       "    <tr>\n",
       "      <th>4</th>\n",
       "      <td>5ca27b9413218a1eabac63da</td>\n",
       "      <td>Wheaten Bread</td>\n",
       "      <td>Bakery</td>\n",
       "      <td>[Difurfuryl ether, 2-Undecanone, Octyl acetate...</td>\n",
       "      <td>[263034, 8163, 8164, 12170, 228583, 9589, 6375...</td>\n",
       "    </tr>\n",
       "  </tbody>\n",
       "</table>\n",
       "</div>"
      ],
      "text/plain": [
       "                        _id       ingredient        catgeory  \\\n",
       "0  5ca27b8f13218a1eabac63d6              Egg  Animal Product   \n",
       "1  5ca27b9113218a1eabac63d7  Bakery Products          Bakery   \n",
       "2  5ca27b9213218a1eabac63d8            Bread          Bakery   \n",
       "3  5ca27b9313218a1eabac63d9        Rye Bread          Bakery   \n",
       "4  5ca27b9413218a1eabac63da    Wheaten Bread          Bakery   \n",
       "\n",
       "                                           molecules  \\\n",
       "0  [L-arginine, 3-Methylindole, 2,5-Dimethylpyraz...   \n",
       "1  [2,3-Dimethylpyrazine, 2,5-Dimethylpyrazine, 2...   \n",
       "2  [coumarin, Methyl Benzoate, 3-Hexanone, Gerani...   \n",
       "3  [2-Methylbutyl Acetate, 3-methylthiopropanol, ...   \n",
       "4  [Difurfuryl ether, 2-Undecanone, Octyl acetate...   \n",
       "\n",
       "                                        molecule_IDs  \n",
       "0  [6322, 6736, 31252, 7909, 7284, 7501, 9609, 12...  \n",
       "1          [22201, 31252, 26331, 27457, 7976, 26808]  \n",
       "2  [323, 7150, 11509, 637566, 439341, 33931, 9261...  \n",
       "3  [12209, 10448, 5372954, 8468, 643731, 7344, 18...  \n",
       "4  [263034, 8163, 8164, 12170, 228583, 9589, 6375...  "
      ]
     },
     "execution_count": 25,
     "metadata": {},
     "output_type": "execute_result"
    }
   ],
   "source": [
    "flavorDB_pandas.head()"
   ]
  },
  {
   "cell_type": "code",
   "execution_count": 28,
   "metadata": {},
   "outputs": [
    {
     "name": "stdout",
     "output_type": "stream",
     "text": [
      "List of catgories of food:  ['Animal Product' 'Bakery' 'Beverage' 'Beverage Alcoholic'\n",
      " 'Beverage Caffeinated' 'Cereal' 'Maize' 'Dairy' 'Essential Oil' 'Berry'\n",
      " 'Seafood' 'Fish' 'Flower' 'Fruit' 'Fruit-Berry' 'Fruit Citrus'\n",
      " 'Fruit Essence' 'Fungus' 'Herb' 'Meat' 'Dish' 'Nut' 'Seed' 'Legume'\n",
      " 'Plant Derivative' 'Plant' 'Spice' 'Vegetable' 'Cabbage' 'Vegetable Root'\n",
      " 'Vegetable Fruit' 'Gourd' 'Vegetable Stem' 'Vegetable Tuber' 'Additive']\n"
     ]
    }
   ],
   "source": [
    "print(\"List of catgories of food: \", flavorDB_pandas[\"catgeory\"].unique())"
   ]
  },
  {
   "cell_type": "code",
   "execution_count": null,
   "metadata": {},
   "outputs": [],
   "source": []
  },
  {
   "cell_type": "code",
   "execution_count": 7,
   "metadata": {},
   "outputs": [],
   "source": [
    "#Opening the pickled file for full graph\n",
    "pickle_in = open(\"../data/graph/molecule_full_graph.pickle\",\"rb\")\n",
    "full_graph = pickle.load(pickle_in)"
   ]
  },
  {
   "cell_type": "code",
   "execution_count": 15,
   "metadata": {},
   "outputs": [],
   "source": [
    "#returns a dictionary based on attributes\n",
    "ingredient_node_attribute = nx.get_node_attributes(full_graph, 'ingredient_node')\n",
    "molecule_node_attribute = nx.get_node_attributes(full_graph, 'molecule_node')"
   ]
  },
  {
   "cell_type": "code",
   "execution_count": 17,
   "metadata": {},
   "outputs": [],
   "source": [
    "#list of ingredients\n",
    "ingredient_list = []\n",
    "for node, boolean in ingredient_node_attribute.items():    \n",
    "    if boolean == True:\n",
    "        ingredient_list.append(node)\n",
    "\n",
    "#list of non ingredients\n",
    "molecule_list = []\n",
    "for node, boolean in molecule_node_attribute.items():   \n",
    "    if boolean == True:\n",
    "        molecule_list.append(node)"
   ]
  },
  {
   "cell_type": "code",
   "execution_count": 19,
   "metadata": {},
   "outputs": [
    {
     "name": "stdout",
     "output_type": "stream",
     "text": [
      "number of ingredients:  267\n"
     ]
    }
   ],
   "source": [
    "print(\"number of ingredients: \", len(ingredient_list))"
   ]
  },
  {
   "cell_type": "code",
   "execution_count": 20,
   "metadata": {},
   "outputs": [
    {
     "name": "stdout",
     "output_type": "stream",
     "text": [
      "number of molecules:  1467\n"
     ]
    }
   ],
   "source": [
    "print(\"number of molecules: \", len(molecule_list))"
   ]
  },
  {
   "cell_type": "markdown",
   "metadata": {},
   "source": [
    "# Demo of Common Pairings\n",
    "- Will turn this into a function"
   ]
  },
  {
   "cell_type": "code",
   "execution_count": 8,
   "metadata": {},
   "outputs": [
    {
     "data": {
      "text/plain": [
       "NodeView(('Egg', '3-(Methylthio)propionaldehyde', '2,3-Pentanedione', 'Octanal', 'Pyrrole', 'Methyl butyrate', 'hydrogen sulfide', 'm-cresol', 'methanethiol', 'CID 644104', 'Heptanoic Acid', 'Dimethyl disulfide', '1-Octen-3-Ol', '2,5-Dimethylfuran', 'thiamine', 'Styrene', '3-Methylbutanal', 'L-arginine', '2-Ethyl-3-Methylpyrazine', '2,5-Dimethylpyrazine', '4-Methyl-2-pentanone', '1-octanol', 'Propionaldehyde', 'l-Menthol', '2-Methylbutyraldehyde', 'Dl-Phenylalanine', '2-Ethylfuran', 'phenol', 'octanoic acid', 'dimethyl sulfide', '2-Pentanone', '1-Penten-3-Ol', '4-Methylthiazole', 'Thiamine Hydrochloride', 'Nonanal', 'L-histidine', 'Tiglic aldehyde', 'isopropanol', '2-Pentylfuran', '50-69-1', 'Isobutyraldehyde', 'Pyridine', 'P-Cresol', 'indole', 'Diethyl sulfide', '1-Undecanol', 'Octan-2-one', '5-Methylfurfural', '3-Hexanone', 'Pyrazine', 'lactic acid', 'L-phenylalanine', '2-Methylpyrazine', 'phenylacetaldehyde', '3-Methylindole', 'betaine', 'Beer', 'Ethyl Propionate', '2,4-dihydroxybenzoic acid', '1-Heptanol', 'Phenylacetic Acid', 'Pentanal', '2-Phenylethyl octanoate', 'Isopentyl formate', 'Ethyl Lactate', 'butyric acid', 'gamma-Caprolactone', 'Octan-2-ol', 'Isopentyl hexanoate', 'Furfuryl Alcohol', 'daidzein', '2-Ethyl-3,5-Dimethylpyrazine', 'cis-3-Hexenal', 'Isobutyl hexanoate', 'S-Methyl thioacetate', 'Isobutyl Formate', 'Ethyl Formate', '2-Heptyl butanoate', '1-Nonanol', 'Violet leaf aldehyde', 'Prenylthiol', 'stearic acid', 'Ethyl Isobutyrate', '3-Hydroxy-2-Pentanone', '2,3-butanedione', '2-Phenylethyl hexanoate', '3-Ethylpyridine', 'Isobutyric Acid', 'Ethyl trans-4-decenoate', '3-Acetylpyridine', 'Ethyl dodecanoate', 'Acetyl isobutyryl', '2-Undecanone', 'vanillin', 'Alpha-Phellandrene', 'Phenethyl isobutyrate', '2-Heptanone', 'Decanal', '3-Hexenal', 'Isoamyl mercaptan', '2-Methoxy-4-vinylphenol', '4-Vinylphenol', 'Propyl acetate', 'Phenethylamine', 'Hexyl octanoate', '2-Nonanol', 'trimethylamine', 'Xanthohumol', '3-Methylcyclopentane-1,2-dione', 'luteolin', 'Syringaldehyde', '2,3-Hexanedione', 'Isoamyl Isovalerate', '2-Acetyl-5-Methylfuran', 'Geranyl isobutyrate', 'Phenethyl acetate', '2-Nonanone', '2-Ethyl-5-Methylpyrazine', 'glycerol', 'Methyl Nicotinate', 'Ethyl 3-Hexenoate', '19872-52-7', 'Citronellol', '1-Decanol', 'Myrcene', '2-Acetylpyrrole', '3-methylthiopropanol', '2-Hepten-4-One', 'Isoamyl butyrate', 'Dodecanal', 'Isovaleric Acid', 'trans-2-Hexen-1-Ol', 'Benzothiazole', '1-Phenylethyl isobutyrate', 'Octyl butyrate', '2-Acetylpyridine', 'naringenin', 'Benzyl isobutyrate', 'L-Malic acid', '2-Pentenoic Acid', 'gamma-Heptalactone', 'lauric acid', '2-Phenylethyl propionate', '2-Methoxy-4-Methylphenol', '2-oxobutanoic acid', '28664-35-9', '3-Methyl-2-oxobutanoic acid', 'cis-Jasmone', '4-Decenoic acid', 'Isopentyl octanoate', 'Furfuryl acetate', 'Cinnamic Acid', 'naringin', '3-Phenylpropanal', 'Hexyl isobutyrate', 'resveratrol', 'Damascenone', 'trans-2-Hexenal', 'oleic acid', 'methylglyoxal', 'gamma-Decalactone', '2-Acetylfuran', 'trans-2-Nonenal', 'Geranyl Acetate', 'Decanoic acid', 'Isopentyl isobutyrate', 'Pyruvic acid', 'Vanillic acid', 'Isopropyl Acetate', 'dimethyl sulfoxide', 'Maltol', 'Sinapic Acid', '1-Phenylethyl propionate', 'Pyrrolidine', '4-Ethylsyringol', 'Nonanoic Acid', '(2E,4E)-deca-2,4-dienal', '(-)-Epicatechin', 'Heptyl acetate', 'Butylamine', 'Isoamylamine', '4-Ethyl-2-methoxyphenol', 'Isoamyl Acetate', 'Thiazole', 'Ethyl Isovalerate', 'gamma-Dodecalactone', '2-Methylpentanal', 'S-Methyl 2-methylbutanethioate', 'Phenethyl butyrate', '4-Hydroxybenzoic Acid', 'kaempferol', '(-)-Epigallocatechin', 'Citronellyl acetate', 'alpha-TERPINEOL', '2-Methyl-2-Pentenal', 'Undecanal', 'Phenylethyl isovalerate', '2-Phenylethanol', 'nerol', 'Methyl Hexanoate', 'Ethyl Nonanoate', '3-Methyl-2-Buten-1-Ol', '(-)-Epigallocatechin gallate', 'Cianidanol', '3-Phenylpropanoic acid', 'Isoamyl laurate', '1-propanol', 'Isobutyl Acetate', '4-Ethylphenol', 'Hexyl acetate', 'Ethyl Octanoate', 'Nerolidol', 'Isopentyl benzoate', '3,4-Dihydroxybenzoic Acid', 'Hexyl Butyrate', 'guaiacol', '2,3,5,6-Tetramethylpyrazine', 'Ethyl Heptanoate', 'gamma-Valerolactone', '2,3-Dimethylpyrazine', 'palmitic acid', '6-Methyl-5-Hepten-2-One', 'Ethyl Butyrate', 'Nonyl Acetate', '(-)-Epicatechin gallate', 'Isoamyl nonanoate', 'Ethyl tetradecanoate', 'quercetin', '3658-77-3', 'Methyl Acetate', '(2E,4E)-Undeca-2,4-dienal', 'Salicylaldehyde', '2,3,5-Trimethylpyrazine', 'Fenchol', '3-Hydroxypyruvic acid', 'Isoxanthohumol', '1-Furfurylpyrrole', 'Ethyl 3-(methylthio)propionate', 'trans-3-Hexenoic acid', 'Methyl Linoleate', 'Isoeugenol', '2-(4-Hydroxyphenyl)ethanol', '1-Propanethiol', 'eugenol', '2,6-Nonadienal', 'Isobutyl benzoate', '2,6-Dimethoxy-4-methylphenol', 'Heptyl formate', '13679-85-1', 'gamma-Butyrolactone', '4-hydroxybenzaldehyde', 'salicylic acid', '1-Dodecanol', 'Hexanoic Acid', '4-Propenyl-2,6-dimethoxyphenol', 'farnesol', '23747-48-0', 'Pentyl Hexanoate', 'gamma-Nonanolactone', '2-Heptanol', 'Gallocatechin', '2-Methylbutyl Acetate', '2-Acetylthiazole', 'Undecanoic Acid', '2-Methyl-1-propanol', '9-Decenoic acid', 'resorcinol', 'Isoamyl propionate', '1-Hepten-3-Ol', 'Delta-Nonalactone', 'Tetradecanal', 'propionic acid', '3-(Methylthio)propyl acetate', 'S-Methyl hexanethioate', 'Dimethyl trisulfide', 'S-Ethyl ethanethioate', '2-Ethylpyrazine', 'apigenin', '2,6-Dimethylpyridine', '2-Methylbutanoic acid', 'Tetradecanoic acid', '2-Pentanol', 'Isobutyl mercaptan', 'Brandy', '1-Hexanol', 'Methyl octanoate', '2-Furaldehyde', '2,4-Dimethylbenzaldehyde', '4-Methyl-5-Thiazoleethanol', '3-Methyl-1-Pentanol', 'Ethyl caproate', '4-isopropylbenzaldehyde', '2-Methylhexanoic Acid', 'Ethyl 2-octenoate', 'cis-3-Hexenyl acetate', 'Ethyl Cinnamate', 'cis-3-Hexenyl lactate', 'Ethyl Undecanoate', 'Methyl 2-furoate', '2-Phenylethyl formate', '1-butanol', 'Propyl Formate', 'Apple Brandy', 'Ethyl hex-2-enoate', 'Beta-Terpineol', '(Z)-Hex-3-en-1-ol', 'Methyl tetradecanoate', 'Diethyl Succinate', 'Ethyl Benzoate', 'Beta-Ionone', 'Isobutyl butyrate', 'Diethyl Malonate', '13002-09-0', 'beta-Cyclocitral', 'Blackberry Brandy', 'acetaldehyde', 'Cherry Brandy', 'Pear Brandy', 'Propyl 2,4-decadienoate', 'Butyl acetate', '3025-30-7', 'Ethyl trans-2-decenoate', '3-Methyl-1-butanol', '2,4-Decadienoic acid methyl ester', 'Plum Brandy', 'Methyl Propionate', '3-Heptanone', 'Isopropyl Formate', 'Ethyl 3-phenylpropionate', 'Ethyl salicylate', '2-Butenoic acid, hexyl ester', 'Methyl cinnamate', 'Isopropyl Propionate', 'Isopropyl Myristate', 'methyl salicylate', 'Raspberry Brandy', 'alpha-Ionol', 'Alpha-Ionone', 'Weinbrand Brandy', 'sulfur dioxide', 'Isobutyl heptanoate', 'Diisopropyl disulfide', 'Gin', 'Linalyl Acetate', 'Beta-Pinene', 'Alpha-Pinene', 'Rum', 'delta-Octanolactone', 'Hexyl Hexanoate', '3,4-Dimethoxystyrene', 'Ethyl Crotonate', 'formic acid', '4-(Ethoxymethyl)-2-methoxyphenol', 'Ethyl 2-methylbutyrate', 'Propyl Hexanoate', 'Propyl Propionate', '2-Methylpentanoic acid', 'Biphenyl', 'Mesityl Oxide', 'Linalool', 'Ethyl cyclohexanecarboxylate', 'Delta-Decalactone', 'o-cresol', '2-Methyltetrahydrofuran-3-One', '2,6-Dimethylpyrazine', 'Ethyl 3-(2-furyl)propionate', 'Propyl heptanoate', '2-Tridecanone', '3-Methylvaleric acid', '3-(2-Furyl)acrolein', '3-Octanol', 'p-Tolyl isovalerate', 'Propyl butyrate', '623-15-4', '3-Phenylpropyl acetate', '2,6-Dimethylphenol', '2-Methoxy-4-Propylphenol', 'Ethyl Stearate', 'Methyl propenyl ketone', 'Ethyl methyl sulfide', '1-Phenylethanol', 'Ethyl 3-hydroxybutyrate', 'Ethyl pentanoate', '3-Phenylpropan-1-ol', 'Isobutyl propionate', 'Isopulegol', 'Isoamyl salicylate', '4-Propylphenol', 'Acetal', '4-Methylpentanoic Acid', 'trans-2-Octen-1-Ol', '2,3-Heptanedione', 'Alpha-Terpinene', 'Whiskey lactone', 'Ethyl 4-methoxybenzoate', 'Methyl Dodecanoate', 'Bourbon Whisky', 'Ethyl Palmitate', '5-Ethyl-2-methylpyridine', 'Butyl laurate', 'Isobutyl isobutyrate', 'Geraniol', '2-Methylbutyl isovalerate', 'Butyl pentanoate', 'Japanese Whisky', '2-Isopropylphenol', 'Quinoline', '6-Methylquinoline', 'Wine', \"2',4'-Dimethylacetophenone\", 'cis-Cinnamic acid', 'Lavender lactone', 'Methyl Anthranilate', 'Geranic Acid', 'cis-3-Hexenyl crotonate', 'caftaric acid', 'Isophorone', '3-Methyl-2-Butanol', 'Dl-Alanine', 'Ethyl Sorbate', '2-Methoxypyrazine', 'Isoquercitrin', 'Tangeretin', 'Ethyl Phenylacetate', 'Methyl Valerate', 'Hotrienol', 'acetoin', 'Ethyl Pyruvate', 'acetone', '3-hydroxy-4-phenylbutan-2-one', '3,4-Dihydroxybenzaldehyde', 'Isorhamnetin', 'Ethyl Levulinate', '2-Ethylhexan-1-ol', 'Champagne', 'Cider', 'Hexyl isovalerate', 'Amyl octanoate', '3-Methylbutyl 2-methylbutanoate', '4-[(Z)-prop-1-enyl]phenol', '4-Ethylbenzaldehyde', 'Butyl Lactate', 'Diethyl Malate', '1-Octen-3-One', 'Plum Wine', 'Port Wine', 'Isopentyl cinnamate', 'DL-Tartaric acid', '4-Methyl-2-phenyl-1,3-dioxolane', 'Red Wine', 'Ethyl 3-hydroxyhexanoate', '4-Allyl-2,6-dimethoxyphenol', '3-oxobutan-2-yl acetate', 'cis-2-Hexen-1-ol', 'trans-2-Hexenyl acetate', '2,6-Dimethyl-4-heptanol', '87-91-2', 'Octyl acetate', 'Rose Wine', '2-Methyl-3-Heptanone', 'Sake', 'Levulinic Acid', 'Sherry', \"2'-Hydroxyacetophenone\", '24168-70-5', 'Piperonal', 'ethyl acetoacetate', '2-Furylacetone', 'Alpha-Methylcinnamaldehyde', \"4'-Methoxyacetophenone\", '2-Isobutyl-3-Methoxypyrazine', '2-Methoxy-3-Methylpyrazine', \"4'-Hydroxyacetophenone\", 'Piperidine', 'Butyl Formate', '1-Aminopropan-2-ol', 'Strawberry Wine', '4077-47-8', 'White Wine', '2-isopropyl-6-methoxypyrazine', '2,2,6-Trimethylcyclohexanone', '1-Terpineol', 'Methyl Nonanoate', '13679-86-2', '3-Octen-2-One', 'Methyl Heptanoate', 'Hexyl 2-methylbutanoate', 'Neryl acetate', '4-Methyl-2-oxovaleric acid', 'Nerol oxide', 'Ocimene quintoxide', '3,7-Dimethyloctane-1,7-diol', 'Decyl butyrate', 'Linaloyl oxide', 'Geranyl formate', 'benzoic acid', '1-Methylnaphthalene', 'Triethyl Citrate', '2-Isopropyl-3-Methoxypyrazine', 'Isobutyl Isovalerate', 'butyraldehyde', '1,1-Dimethoxyethane', 'trans-2-Hexenoic acid', 'Thymol', 'Methyl 4-hydroxybenzoate', '3,4-Dimethylphenol', 'Methyl 3-(methylthio)propionate', 'Theaspirane', 'Rose oxide', 'Methyl 4-Methoxybenzoate', 'Coffee', 'ethyl methyl trisulfide', 'Furfuryl isovalerate', 'caffeine', '2-Acetyl-1-ethylpyrrole', '1-(3,6-dimethylpyrazin-2-yl)ethanone', 'Difurfuryl Disulfide', 'Furfuryl methyl disulfide', '14400-67-0', '2,5-Diethyl-3-Methylpyrazine', '2-Acetyl-3-Methylpyrazine', '2-Butanone', '698-10-2', '2-Propylpyrazine', 'Furfuryl methyl sulfide', '2,3,6-Trimethylphenol', '4,5-Dimethylthiazole', 'Methyl Benzoate', '2-Ethyl-4-hydroxy-5-methyl-3(2H)-furanone', 'Difurfuryl ether', '2-(Methoxymethyl)furan', 'Benzyl formate', '2-Methoxybenzenethiol', 'Thioanisole', '3-Octanone', '2-(Methylthio)phenol', 'Octane-2,3-dione', '2,5-Dimethylphenol', '2-Isopropyl-5-methylpyrazine', '3-Methyl-2-Cyclohexen-1-One', '2-Methylbenzenethiol', '5-Methylquinoxaline', '2-Ethyl-4-Methylthiazole', '1-Hydroxybutan-2-one', '42348-12-9', '5-Ethyl-2-hydroxy-3-methylcyclopent-2-en-1-one', '2(5H)-Furanone', '4,5-Dimethyl-2-propyloxazole', '2-Propionylpyrrole', '13494-07-0', '2-Methyl-5-Vinylpyrazine', '3,4-Dimethyl-1,2-cyclopentanedione', '2-Pentadecanone', '2,4,5-Trimethylthiazole', '2-Phenyl-2-Butenal', '3-Mercapto-3-methyl-1-butanol', '2-Butylfuran', 'Difurfuryl sulfide', '3-Mercapto-3-methylbutyl formate', '6-methyl-2-(oxiran-2-yl)hept-5-en-2-ol', '3,3-Dimethylacrylic acid', '2-Methyl-5-(methylthio)furan', '2,5-Dimethylthiazole', '5-Ethyl-2-methylthiazole', 'Acetylpyrazine', 'S-Methyl 2-furancarbothioate', '3-Heptanol', 'Ethyl methyl disulfide', 'Methyl isovalerate', '4-Heptanone', '3-Acetyl-2,5-dimethylfuran', 'Propiophenone', '2-(4-Methoxyphenoxy)propanoic acid', '1-Butanol, 3-mercapto-2-methyl-', '6,7-Dihydro-2,3-Dimethyl-5H-Cyclopentapyrazine', '2-Methylthioacetaldehyde', 'Tetrahydrothiophen-3-one', 'Tetrahydrofurfuryl Alcohol', '2-Methyl-3-furanthiol', '1195-32-0', '13679-70-4', 'Furfuryl mercaptan', '2-Methylfuran', '2,5-Dimethyl-4-ethoxy-3(2H)-furanone', 'Furfuryl propionate', '2,3-Diethyl-5-Methylpyrazine', 'ethanol', 'Hexanal', '1-Phenyl-1,2-Propanedione', '3,4-Hexanedione', '5-Methylhexane-2,3-dione', 'S-Furfuryl thioacetate', '2-Propylphenol', '2,5-Dimethyl-4-ethyloxazole', '5,6,7,8-Tetrahydroquinoxaline', '2,3-Dimethylbenzofuran', '2-Ethyl-4,5-dimethyloxazole', '2-Acetyl-1-methylpyrrole', '2-Isobutyl-3-Methylpyrazine', 'Benzyl Mercaptan', 'Methyl Phenylacetate', '2,4,5-Trimethyloxazole', '1-(Methylthio)-2-butanone', '3-Methylcyclohexane-1,2-dione', 'Green Tea', 'Diphenyl oxide', 'Dihydro-alpha-ionone', 'Vitamin U', '1125-21-9', '1,4-Dimethoxybenzene', 'cis-3-Hexenyl benzoate', 'coumarin', '6-Methylhepta-3,5-dien-2-one', 'Bis(2-methyl-3-furyl)disulfide', 'Methyl jasmonate', 'cis-3-Hexenyl hexanoate', 'delta-Hexalactone', '5-Methyl-3-Hexen-2-One', 'Safranal', 'Jasmine lactone', 'Barley', 'DL-Liquiritigenin', 'Silica', 'hydrogen peroxide', 'Ethyl Vinyl Ketone', 'Ethanamine', 'nicotine', 'Neral', 'phloretin', 'NSC5112', '7-Methoxycoumarin', 'Aconitic Acid', 'cinnamyl alcohol', 'Acrolein', 'benzyl alcohol', 'Tributyrin', 'D-mannitol', 'alpha-Maltose', '(Z)-cinnamyl alcohol', '3-Pentanone', 'Menthone', '1-Pyrroline', 'L-aspartic acid', 'Daidzin', 'Citral', 'isoliquiritigenin', 'indole-3-acetic acid', 'Dl-Methionine', 'D-Lactic acid', 'Farnesal', 'Cyclopentanone', '(+)-Neomenthol', 'benzaldehyde', '3-Methyl-2-butenal', '2-Methyl-1-Butanol', '(+)-delta-Cadinene', 'hydrogen cyanide', 'Taxifolin', 'alpha-L-Sorbopyranose', 'Linamarin', 'Ethyl Acetate', '2-Isopropyl-5-methylcyclohexanone', 'succinic acid', 'p-coumaric acid', 'Allyl Alcohol', 'Benzyl Benzoate', '4-Hexen-3-One', 'Phlorizin', 'calcium lactate', 'trans-3-Hexen-1-ol', 'cinnamaldehyde', 'Heptanal', '104-50-7', 'Diethylamine', 'Oats', 'Isopropenylpyrazine', '2-Pentylpyridine', '7-methyl-4-methylidene-1-propan-2-yl-2,3,4a,5,6,8a-hexahydro-1H-naphthalene', \"3',4'-Dimethoxyacetophenone\", '(2Z,4E)-nona-2,4-dienal', '2-Propylpyridine', '3,5-Octadien-2-one', 'Beta-Caryophyllene', 'Glutaric Acid', 'STK737742', '2-Isopropyl-4-methylthiazole', '(E)-Hept-2-enal', 'trans,trans-2,4-Nonadienal', 'Dipentene', '1,2-propanediol', 'Rice', '1,2-Dimethoxybenzene', '2,4-Hexadienal', '1-Pentanol', '(2E,4E)-Octa-2,4-dienal', 'Gamma-undecalactone', 'trans-Aconitic acid', '1-Popc', 'Hexyl cinnamic aldehyde', \"4'-Methylacetophenone\", 'naphthalene', 'Farnesylacetone', 'trans-2-Dodecenal', 'trans-2-Octenal', 'Corn', '2-Decanone', '2-Ethylbutanal', 'Tridecanal', '2-Methyl-3-Pentanone', '2-Hexanone', '6,10,14-Trimethylpentadecan-2-one', 'Isopropylamine', '(Z)-Ethyl cinnamate', '4a(2H)-Naphthol, octahydro-4,8a-dimethyl-', 'Bisabolol', 'L-lysine', 'trans,trans-2,4-Heptadienal', 'Chrysoeriol', 'Longifolene', '1-Hexen-3-Ol', '1,2,4-Trimethylbenzene', 'beta-cis-farnesene', 'Acetovanillone', 'methoxsalen', 'Carvacrol', '2-Hexanol', 'Nerylacetone', 'alpha-Muurolene', '2-Undecanol', '(+)-alpha-Terpineol', 'L-Rhamnose', 'Eucalyptol', 'propyl gallate', 'AC1L9CNW', 'Corn Oil', 'cis-3-Hexenyl formate', 'Hexyl formate', 'Popcorn', '2-propionyl-2-thiazoline', '2-propionyl-1-pyrroline', '1-(3,4-dihydro-2H-1,4-thiazin-5-yl)ethanone', 'Sweetcorn', '2-Acetyl-2-thiazoline', 'Butter', 'Glycerides, palm-oil mono- and di-, hydrogenated, 3-oxooctanoates', 'Delta-Dodecalactone', '23726-92-3', 'trans-2-Pentenal', '3-Nonanone', '3-Decanone', 'Hexyl benzoate', 'Propyl Benzoate', 'delta-Tetradecalactone', 'Anisole', 'delta-Undecalactone', '4-Hexen-1-Ol', 'cis-4-Heptenal', 'Glycerides, palm-oil mono- and di-, hydrogenated, 3-oxododecanoates', 'trans-2-Decenal', 'Buttermilk', 'Cheese', 'S-Methyl 3-methylbutanethioate', 'Butyl isobutyrate', 'Butyl Isovalerate', '8-Nonen-2-one', '2,3,5-Trithiahexane', 'S-Methyl propanethioate', 'Isoborneol', 'S-Methyl thiobutyrate', 'Ethyl 3-methylpentanoate', 'Methyl 2-methylbutyrate', 'Blue Cheese', 'Decyl Acetate', '2-Ethylbutyric Acid', 'Isopropyl Hexanoate', 'Isopropyl butyrate', '4-Methylanisole', '4-Methyloctanoic acid', '1,3-Dimethoxybenzene', 'Butyl butyrate', 'Cheddar Cheese', '1-Butanethiol', 'Cottage Cheese', 'Cream Cheese', 'Feta Cheese', 'Goat Cheese', '4-Methylnonanoic acid', '4-Ethyloctanoic acid', 'Gruyere Cheese', 'Bis(methylthio)methane', 'Myrtenol', '2-(4-methylphenyl)propan-2-ol', 'Hexyl propionate', 'Mozzarella Cheese', 'Benzyl Acetate', 'Parmesan Cheese', '3-Hexanol', 'Geranylacetone', 'Isobornyl acetate', 'Provolone Cheese', '4-Methylthio-2-oxobutanoic acid', 'Romano Cheese', 'Roquefort Cheese', 'Swiss Cheese', 'Ghee', 'Milk', 'L-Lactic acid', 'Isoquinoline', '2-Undecenal', '5,6-dimethyloxan-2-one', 'taurine', 'DL-Valine', 'Allyl Isothiocyanate', 'Goat Milk', 'Milk Powder', 'Skimmed Milk', '10-Undecenoic Acid', '(Z)-8-Tetradecenal', '7-Methyloct-3-en-2-one', 'Yogurt', 'Lemon Grass', 'Citronellic acid', 'Citronellal', 'p-Camphorene', '(-)-Linalool', '4,4,7a-Trimethyl-5,6,7,7a-tetrahydrobenzofuran-2(4H)-one', '6-Methylhept-5-en-2-ol', 'Linalyl octanoate', 'Orange Oil', 'p-Menthan-2-ol', 'Alpha-Terpinyl Acetate', 'D-Camphor', 'Geranyl propionate', 'Methyl 2-(methylamino)benzoate', 'Methylisoeugenol', 'Myrtenal', 'Borneol', 'Terpinen-4-ol', '3-Carene', 'Ethyl 2-aminobenzoate', 'Phenethyl benzoate', 'Valencene', 'Clary Sage', 'Sclareolide', '3738-00-9', 'Linalyl formate', 'Clam', '3,5-Dimethyl-1,2,4-Trithiolane', 'Crab', '3,5,5-Trimethylhexan-1-ol', 'Lobster', 'Oyster', 'Shrimp', 'trans-2-Undecen-1-ol', '2-(Methylthio)ethanol', 'Caviar', 'Codfish', 'Fish', 'cis-6-Nonenal', '1-Phenylethanethiol', 'Salmon', 'Artichoke', 'Grosheimin', 'Naringen', 'Saupirin', 'Apple', '16491-36-4', 'Nonadecane', 'cis-5-Octen-1-ol', 'Methyl Isobutyrate', 'Butyl Heptanoate', '2-Methyl-2-Pentanol', 'Propyl Isobutyrate', 'alpha-Farnesene', 'Isopropyl Benzoate', 'Butyl hexanoate', 'Butyl Anthranilate', 'Heptyl butyrate', 'Ethyl cis-4-octenoate', 'Ethyl Decanoate', 'Butyl propionate', '2-METHYLBUTYL 2-METHYLBUTYRATE', 'Butyl 2-methylbutyrate', 'Pentyl Butyrate', 'arbutin', 'D-Sorbitol', '2-Methyl-2-Butanol', 'Amyl acetate', '1,3,5-Undecatriene', '2-Butanol', '103-61-7', 'Ethyl (methylthio)acetate', 'Pentyl formate', 'Amylamine', 'Valeric acid', 'Estragole', '2-Pentyl Acetate', 'Butyl Stearate', 'Apricot', 'Terpinolene', '1,4-Cineole', 'P-Cymene', '53398-85-9', 'Lycopene', 'Dihydro-beta-ionone', 'Avocado', '1-Phenylethyl acetate', 'trans-Anethole', 'Banana', 'Propyl Isovalerate', '2-Pentyl butyrate', 'Methyl Linolenate', '2-Octen-1-ol, acetate', 'safrole', 'cis-3-Octen-1-ol', 'Coconut', '5-Hydroxyoctan-4-one', 'Heneicosane', 'Eicosane', 'Octadecane', 'Tricosane', 'Calcium Oxide', 'Heptadecane', 'Currant', 'Ocimene', '4-Methoxybenzyl acetate', '4-Methoxybenzyl formate', 'Dates', 'Kiwifruit', 'Methyl (methylthio)acetate', 'citric acid', 'cis-2-Penten-1-ol', 'Mango', '5-Methylhexanoic Acid', '2-Hexenyl propanoate', 'Neryl butyrate', 'Verbenol', 'Carveol', 'gamma-Eudesmol', 'Geranyl butyrate', 'cis-3-Hexenyl propionate', 'cis-3-Hexenyl pentanoate', '2-methylpropyl but-2-enoate', 'Tiglic Acid', 'Campholenic aldehyde', 'Vanillylacetone', 'Melon', 'MLS002702988', '5,6-Epoxy-beta-ionone', 'UNII-3KCT4WMT7E', '3,6-Nonadien-1-ol', 'Cinnamyl acetate', 'Acetophenone', '(Z,z)-3,6-nonadien-1-ol', 'Hexadecane', 'Acetoyl butyrate', 'Pentadecane', 'Cucurbitacine E', '1-Octen-3-yl acetate', 'Orange', 'Beta-Elemene', 'Valencen', 'Perillyl acetate', 'chrysin', 'Alpha-Sinensal', '4674-50-4', 'Nomilin', 'Sabinene', 'Linalyl propionate', 'Gamma-Terpinene', '489-53-2', 'beta-Cubebene', 'Neryl formate', 'Elemol', 'Camphene', 'Perillaldehyde', 'Carvone', 'Nobiletin', '(+)-gamma-cadinene', '.alpha.-Cubebene', 'beta-Sinensal', 'Nootkatone', '6753-98-6', 'Citronellyl butyrate', 'Scutellarein', 'Sinensetin', 'MLS002607979', '3-Thujene', '1-(4-{[4,5-dihydroxy-6-(hydroxymethyl)-3-[(3,4,5-trihydroxy-6-methyloxan-2-yl)oxy]oxan-2-yl]oxy}-2,6-dihydroxyphenyl)-3-(3-hydroxy-4-methoxyphenyl)propan-1-one', 'Quercetagetin', 'CHEBI:49249', 'Sabinene hydrate', 'Octyl isovalerate', 'Xanthoxylin', 'trans-.alpha.-bergaptene', '(Z)-Beta-Ocimene', 'D-Limonene', 'Bitter Orange', 'acetic acid', 'Neryl propionate', 'Nonyl octanoate', 'Dodecyl Acetate', 'Papaya', 'benzyl isothiocyanate', 'Methyl 2-Hexenoate', 'Dodecane', 'toluene', 'CHEBI:88903', 'Butyl Benzoate', 'Tridecane', 'Beta-Phellandrene', 'Tetradecane', 'Methyl Thiocyanate', 'Linalool A oxide', 'adipic acid', 'triacetin', 'Benzyl butyrate', 'O-Xylene', 'Docosane', 'Peach', '(Z)-4-Hydroxy-6-dodecenoic acid lactone', 'Prunin', 'trans-2-Nonen-1-ol', 'cis-3-Hexenyl isovalerate', '(E)-2-Hexenyl hexanoate', '6-Pentyl-2H-pyran-2-one', '3-Methyl-3-butenyl acetate', 'Pear', 'Bartlett Pear', 'Methyl oct-2-enoate', 'Prickly Pear', '3-Hexenoic acid, methyl ester', '3,6-Nonadien-1-ol, (E,Z)-', 'cis-2-Nonen-1-ol', '2,6-Nonadien-1-ol', 'Pineapple', '4-Octenoic acid, methyl ester', 'Methyl sorbate', 'Ethyl Acrylate', 'ethyl 3-acetoxy-2-methylbutanoate', 'Isopropyl Isobutyrate', 'Dimethyl malonate', 'Methyl 3-hydroxyhexanoate', 'Methyl 4-methylvalerate', 'Methyl (Z)-oct-4-enoate', 'Ethyl 5-hexenoate', 'Chavicol', 'Allyl hexanoate', 'Methyl 5-acetoxyhexanoate', 'Methyl 4-(methylthio)butyrate', 'Acetoxyacetone', 'Plum', 'Prunetin', 'trans-2-Hexenyl butyrate', 'Acetaldehyde ethyl cis-3-hexenyl acetal', 'Pumpkin', 'Raisin', 'Soursop', '4-Methyl-5-Vinylthiazole', 'Methyl 2-hydroxy-4-methylpentanoate', 'Methyl 3-phenylpropionate', 'Benzophenone', 'Hexyl (E)-2-hexenoate', 'Blackberry', 'Octyl 2-furoate', 'Methyleugenol', '4-isopropylbenzyl alcohol', 'UNII-847O2V0IOA', '(+)-Pulegone', 'Cherry', '4-Methoxyphenylacetone', 'Raspberry', 'Dihydro-beta-ionol', 'Dehydrodihydroionone', 'd-Piperitone', '4-(4-Hydroxyphenyl)-2-butanone', '3,4-Dimethoxybenzaldehyde', '19322-27-1', 'alpha-Irone', 'beta-Ionol', 'Strawberry', 'cis-Carvyl acetate', '2-Methyl-3-pentenoic acid', 'Benzyl Propionate', 'morin', '4166-20-5', 'Octyl 2-methylbutyrate', '2-Methyl-2-Pentenoic Acid', 'Isopropyl 2-methylbutyrate', 'Ethyl tiglate', 'Octyl propionate', 'Strawberry Jam', 'Grapefruit', 'p-Menthene-8-thiol', '1-p-Menthen-9-al', 'Octyl isobutyrate', '4-DECENYL ACETATE (Z)', 'Lemon', 'Terpinyl propionate', '3,7-Dimethyl-1-octanol', 'p-Menth-1-en-9-ol', 'Pentadecanal', 'cis-limonene 1,2 oxide', 'Methyl dl-jasmonate', '(+)-trans-Limonene oxide', 'Limonen-10-yl acetate', 'Alpha-Selinene', 'lanatoside C', 'Lime', 'gamma-Selinene', 'alpha-Bisabolene', 'Undecane', '(1Z,4Z)-germacrene B', 'Ocimen quintoxide', 'Thymol methyl ether', 'Nonane', 'Mandarin Orange', '(-)-cis-Carveol', 'P-Menth-1-en-9-yl acetate', '.beta.-Sesquiphellandrene', 'Citronellyl formate', 'Cyclohexene, 4-ethenyl-4-methyl-3-(1-methylethenyl)-1-(1-methylethyl)-, (3R-trans)-', 'Tangerine', 'Vanilla', '4-Methoxybenzaldehyde', 'Methyl cyclohexanecarboxylate', '4-Methoxybenzyl Alcohol', '4-hydroxybenzyl alcohol', '9-Octadecenal, (9E)-', 'Mushroom', '2-Phenylpropanal', '2-Nonenoic acid', 'Methyl 2-methoxybenzoate', 'Hexane', '2-Ethylthiazole', '2-Furanmethanethiol, 5-methyl-', '5550-12-9', 'Methanedithiol', '2-Pentylthiophene', 'Ganoderic acid A', 'Tetrasulfide, dimethyl', '2-Hexylthiophene', '2,4-Dimethyl-5-ethylthiazole', '1,2,3,5,6-Pentathiepane', 'Dibutyl sulfide', '2-[(Methylthio)methyl]-2-butenal', 'Linalyl benzoate', 'Benzyl butyl ether', '2,3-Diethylpyrazine', 'Basil', 'Fenchyl acetate', 'Bicyclo[2.2.1]heptane, 2-methyl-3-methylene-2-(4-methyl-3-pentenyl)-, (1S-exo)-', 'Cedr-8-ene', '.beta.-Bourbonene', 'Naphthalene, 1,2,4a,5,8,8a-hexahydro-4,7-dimethyl-1-(1-methylethyl)-', 'Myrcenol', 'alpha-Thujone', 'Cedrelanol', 'beta-Eudesmol', '(+)-gamma-Gurjunene', 'Cyclohexanol', 'cis-Methylisoeugenol', 'Cyclohexanone', '(5xi,7xi,10xi)-eudesma-4(14),11-diene', '(+)-Linalool', 'D-Fenchone', '(E)-.beta.-Farnesene', '2-Methoxycinnamaldehyde', 'Azulene, 1,2,3,4,5,6,7,8-octahydro-1,4-dimethyl-7-(1-methylethenyl)-, (1S,4S,7R)-', 'Bornyl Acetate', 'Caryophyllene', 'Spathulenol', 'cis-Anethole', '4-Methoxycinnamaldehyde', 'Santalene', 'Genkwanin', 'alpha-Fenchene', 'Methyl cis-cinnamate', 'alpha-Cadinene', 'Chervil', 'Coriander', 'Dillapiole', 'Sedanolide', '(Z)-4-Dodecenal', 'Myristicin', 'CID 21159022', 'tridec-2-enal', '9-Decenal', '10-Undecenal', 'Epoxylinalool', '6-Undecanone', '(-)-Borneol', 'Dill', 'Apiole', 'Piperitol', 'p-Mentha-1,3,8-triene', 'd-Carvone', 'Dihydrocarvone', 'Dihydrocarveol', 'Dill ether', '(-)-Carvone', 'Butylphthalide', 'Elemicin', '(+)-isodihydrocarvone', '(+)-alpha-phellandrene', 'Flavone', 'Benzyl ether', 'Sedanenolide', '(-)-Limonene', 'piperine', 'Fennel', 'Fenchone', '4-Methoxybenzoic Acid', 'Fenugreek', 'Gentianine', 'Garlic', 'Allyl Methyl Trisulfide', '156420-69-8', '3-Ethyl-2,5-dimethylpyrazine', '2-Methylbenzaldehyde', '2,6-Di-tert-butyl-4-methylphenol', 'Isobutyl isothiocyanate', '1,3-Dithiane', 'Allyl Propyl Disulfide', 'Dipropyl disulfide', 'Allyl Methyl Disulfide', '2-amino-3-(prop-2-en-1-ylsulfanyl)propanoic acid', 'Diallyl Sulfide', '2,6-Dimethoxyphenol', 'Allyl methyl sulfide', '3,5-Diethyl-1,2,4-trithiolane', 'Methyl propyl disulfide', 'S-allyl-L-cysteine', 'Allyl Mercaptan', 'Diallyl trisulfide', 'Diallyl tetrasulfide', 'methyl (9E,12Z)-octadeca-9,12-dienoate', 'Diallyl Disulfide', '33368-82-0', 'Propyl sulfide', 'Methyl propyl trisulfide', '2,5-Dimethylthiophene', 'Lemon Balm', 'Acetyleugenol', '2,5-Diethyltetrahydrofuran', 'Methyl citronellate', 'l-.alpha.-Cadinol', '(R)-(+)-Citronellal', 'Guaiene', 'Perilla alcohol', 'AC1NST8Q', 'Piperitenone', 'T-Muurolol', 'Octyl benzoate', 'Mint', 'Pulegone', '3-Decanol', '(4R,4aR)-1,1,4,7-tetramethyl-1a,2,3,4,4a,5,6,7b-octahydrocyclopropa[e]azulene', 'Piperitone', 'Menthofuran', 'Phenethyl 2-methylbutyrate', 'L-Menthyl acetate', 'Aromadendrene', '(-)-alpha-Terpineol', '(1aR,4S,4aS,7R,7aS)-1,1,4,7-tetramethyl-2,3,4a,5,6,7,7a,7b-octahydro-1aH-cyclopropa[e]azulen-4-ol', 'Piperitenone oxide', '(+)-Isomenthone', 'CID 9989713', '(-)-Mintlactone', 'Rhubarb', 'Benzaldehyde dimethyl acetal', 'Rosemary', '58461-27-1', '.alpha.-Calacorene', '(-)-Zingiberene', 'Nopol', 'Bornyl formate', '483-77-2', 'carnosol', 'AC1NSWDQ', 'Curcumene', 'Verbenone', 'Pinocarveol', 'Caryophyllene oxide', 'Sage', 'CID 12305247', '(+)-Camphene', '(-)-beta-Pinene', '3-Thujanone', 'Potassium Nitrate', 'Spearmint', '(-)-piperitone', 'Diosphenol', 'Pinocarvone', 'Dihydrocarvyl acetate', 'UNII-R1AUQ945JN', '(-)-Isopinocamphone', '4-Isopropenyl-1-methyl-7-oxabicyclo[4.1.0]heptan-2-one', 'Carvone oxide', 'Limonene 1,2-epoxide', 'd-Dihydrocarvone', 'Hexyl phenylacetate', '41519-23-7', 'Isomenthone', 'Isopinocamphone', '(R)-(-)-alpha-Phellandrene', 'Angelaldehyde', 'cis-3-Hexenyl phenylacetate', 'Carvomenthone', '3-Octyl acetate', 'Tarragon', 'dihydrocoumarin', 'Artemisia ketone', '5,7-Dihydroxyflavanone', '(E,E)-2,4-Decadienoic isobutylamide', 'Thyme', 'STK020088', '5-Hexen-1-ol', 'Myrtenyl acetate', 'gamma-Terpineol', 'Farnesyl acetate', 'Beef', \"Disodium 5'-inosinate\", 'Bovolide', 'L-glutamic acid', '1-Hexanethiol', '2,4,5-Trimethyl-3-Oxazoline', '2-Heptylfuran', '3,5-Diethyl-2-Methylpyrazine', '1-(furan-2-yl)pentan-1-one', 'Chicken', '4-Methyl-2-Pentenal', '2,4,7-Tridecatrienal, (E,Z,Z)-', '1,2-Ethanedithiol', '2-trans-6-cis-Dodecadienal', 'Ham', 'Lamb', '2-Decenoic acid', '2-Methylheptanoic Acid', '3-Isobutylpyridine', 'Meat', '67860-38-2', '1-Mercapto-2-propanone', '2-Methyl-1,3-dithiolane', 'Pork', 'furan-2-ylmethyl pentanoate', 'Benzyl methyl sulfide', '2-Methyl-3-tetrahydrofuranthiol', '2-Acetyl-3-ethylpyrazine', '2,5-Dimethyl-1,4-dithiane-2,5-diol', '2,6-Dimethoxy-4-propylphenol', 'Diethyl Disulfide', '3-Methyl-2-Cyclopenten-1-One', '5-Methyl-2-phenyl-2-hexenal', 'Turkey', 'Almond', '(-)-alpha-Pinene', 'Brazil Nut', 'Cocoa', '3,5-Dimethyl-2-isobutylpyrazine', '(2,2-Dimethoxyethyl)benzene', 'Methyl phenyl disulfide', '4-methyl-2-phenylpent-2-enal', '2-Isopropyl-5-methyl-2-hexenal', 'Phenoxyacetic Acid', 'Benzyl methyl disulfide', '4,4-Dimethoxy-2-butanone', '2-Methyl-1-phenyl-2-propanol', '101517-87-7', 'Ethyl oleate', '2-Methoxyphenyl acetate', '(Ethoxymethyl)benzene', 'Isobutyl phenylacetate', 'theobromine', 'Beans', 'butein', 'Coumestrol', 'Lima Beans', 'Kidney Beans', 'Peanut', '2,4-Pentadienal', 'Dipropyl trisulfide', '2-Methyl-3-(2-furyl)propenal', '1-Butene, 1-(methylthio)-, (E)-', '5,7-Dihydroxyisoflavone', 'Peas', 'Soybean Oil', '3-methylnonane-2,4-dione', 'Nuts', 'Pecans', 'Walnut', '2-Hydroxy-4-methoxybenzaldehyde', 'M-Xylene', 'Sesame', 'Chicory', 'Harmane', 'Olive', 'Oleuropein', 'Cinchonidine', 'Tea', '1H-Pyrrole-2-carbaldehyde', '2-Ethyl-6-Methylpyrazine', '(r)-(+)-dihydro-alpha-ionone', '2,4-Dimethylthiazole', 'UNII-M41Y60O5BZ', 'UNII-89JV2MJ158', 'UNII-P6B6JD2N2Z', '2-Ethylpyridine', 'Angelic acid', 'beta-Damascone', 'alpha-Damascone', '24851-98-7', '4-Ethyl-1,2-dimethoxybenzene', '2-Pentenal, (Z)-', '34686-71-0', 'Galegine sulfate', 'Oxycanthine', 'Acetylvalerenolic acid', 'p-Tolualdehyde', '4-Methoxy-2-methyl-2-butanethiol', '3-Methylbenzaldehyde', '2-Propen-1-one, 3-(4-hydroxyphenyl)-1-phenyl-', '2,6,6-trimethyl-2-hydroxycyclohexanone', '4-Methyl-2-phenyl-2-pentenal', '4-Ethoxybenzaldehyde', '(E)-hex-2-enoate', '2,3-Dehydro-1,8-cineole', '28374-89-2', 'Levomenol', 'Tricetin', '2-Methylpyridine', 'Watercress', 'Acetic Anhydride', 'Phenethyl isothiocyanate', 'Honey', 'Lilac aldehyde', 'Macaroni', 'Mustard Oil', '4-Pentenyl isothiocyanate', 'Peanut Butter', 'Peanut Oil', 'Vinegar', 'Anise', '4-(4-Methoxyphenyl)-2-butanone', '4-Methoxyphenol', '(E)-gamma-Bisabolene', 'Star Anise', 'gingerol', 'Cardamom', 'Heptane', 'Phytol', 'Terpinyl formate', '(1r,4r)-4-isopropyl-1-methylcyclohex-2-en-1-ol', 'Celery', 'cis-3-Hexenyl pyruvate', 'Santalol, alpha- and beta-', 'Propylamine', 'Valerophenone', 'Carvyl Acetate', 'Isopulegone', '2-methyl-3-[4-(propan-2-yl)cyclohex-1-en-1-yl]propanal', 'p-Menth-8-ene-1,2-diol', 'Butylidenephthalide', 'Falcarindiol', 'Cinnamon', '2-Methoxybenzaldehyde', '(Z)-Cinnamyl acetate', 'AC1LDI49', 'Linalyl isobutyrate', 'cis-Cinnamaldehyde', 'Cumin', '1,3-p-Menthadien-7-al', '56424-87-4', 'WLN: R1U1VO1R', 'Crypton', '4-Isopropylphenol', 'Ginger', 'Cedrol', 'octane', 'Peruviol', 'beta-Bisabolol', 'beta-SANTALOL', 'Bisabolene', '5986-55-0', 'Paradol', '5-hydroxy-1-(4-hydroxy-3-methoxyphenyl)tetradecan-3-one', '4-Menthen-8-ol', 'Guaiol', 'Perillen', 'rosefuran', '2,6-Dimethyl-5-heptenal', 'Capsaicin', 'Marjoram', 'Myrcenyl acetate', 'Ethyl elaidate', 'Carvacryl methyl ether', '(+)-3-Carene', 'Nutmeg', 'Menthyl isovalerate', '103-95-7', 'Oregano', '4-Acetyl-1,4-dimethyl-1-cyclohexene', '4-tert-Butylphenol', '2-Methoxystyrene', 'Decane', 'Parsley', 'Carotol, (+)-', 'Pepper', 'Hydroxycitronellal', 'hydrochloric acid', 'beta-Caryophyllene alcohol', 'Globulol', 'Caryophyllene alcohol', '4,8-Methanoazulen-9-ol, decahydro-2,2,4,8-tetramethyl-, stereoisomer', 'Saffron', 'HMDB05796', 'Turmeric', 'Curcumenol', '1-(4-Methylphenyl)ethanol', 'Green Beans', '2-Furoic Acid', 'Endive', 'Piperonyl Acetate', 'Leek', 'Propenyl propyl disulfide', 'Lettuce', 'Benzyl isovalerate', '68698-59-9', 'Okra', 'Onion', 'Allyl propyl sulfide', 'UNII-H5E892YJGG', 'D-Isoleucine Methyl Ester Hydrochloride', '2-Mercapto-2-Methyl-1-Pentanol', 'Butyl propyl disulfide', '(Z)-Hex-4-enal', '5-Hydroxymethylfurfural', '227456-27-1', 'Ethyl Propyl Disulfide', '3-Mercapto-2-methylpentanal', 'Diisopropyl trisulfide', 'S-Propyl thioacetate', 'Disulfide, methyl 1-propenyl', 'Chayote', 'Cucumber', 'cis-6-Nonen-1-ol', 'trans,cis-2,6-Nonadien-1-ol', 'Beetroot', 'acetamide', 'cis-Aconitic acid', 'Carrot', 'Parsnip', 'Sweet Potato', 'Asparagus', '2,4-Hexadien-1-Ol', 'Celestolide', 'Potato', '2-Ethyl-1-hexanethiol', '2-Nonen-4-one', 'Methyl 2-methylpentanoate', '2-Propanethiol', '2,5-Diethyl-4-methylthiazole', 'cis-2-Nonenal', '2,6-Dimethyl-4-heptanone', 'Ethanethiol', '(2E,4E)-Dodeca-2,4-dienal', '2-Ethyl-3-Methoxypyrazine', 'cis-Crotonaldehyde', 'Calcium Iodate', '2-isobutyl-4,5-dimethyloxazole', '3-Methyl-2-Butanone', 'Allspice', 'Humulene', '2-Isopropyltoluene', '(-)-gamma-cadinene', 'Canola Oil', '2,6,6-Trimethyl-1-cyclohexene-1-acetaldehyde', '3-Phenylpropanenitrile', 'sec-Butyl isothiocyanate', '3-Butenyl isothiocyanate', 'Allyl thiocyanate', '6-Methylheptan-2-one', '6,10-Dimethyl-2-undecanone', 'Isopropyl isothiocyanate', 'M-Cymene', 'Ethyl Linoleate', 'Pentyl isothiocyanate', 'Dihydrojasmone', 'Heptyl isothiocyanate', '3-Methylbutyl isothiocyanate', '3-(Methylthio)propyl isothiocyanate', 'Hexyl isothiocyanate', 'Apple Cider Vinegar', 'methanol', '55896-93-0', 'Curry Leaf', 'Nerolidyl acetate', '1,3-Diphenyl-1-butanone', 'alpha-Cadinol', 'Juniper camphor', '3242-08-8', 'Beta-Selinene', 'Allyldimethylsilane', 'Eggplant', 'P-Xylene', 'cis-1,4-Dimethylcyclohexane', 'Dichloromethane', '1,3-Dichlorobenzene', 'Methylcyclohexane', '55123-21-2', 'Ethylcyclohexane', 'Flaxseed', 'Tetrahydrofuran', 'Crotonaldehyde', '57074-34-7', 'spermine', '6-Methylheptanoic acid', 'Sodium Diacetate', 'L-cysteine', 'trans-2-Hexenal dimethyl acetal', '1-Decyne', 'Jalapeno', 'Pomegranate', 'beta-Bisabolene', 'alpha-Bergamotene', 'Poppy Seed', '2,3-butanediol', '(RS)-norcoclaurinium', 'papaverine', 'noscapine', 'dl-Codamine', 'Spinach', '2E,4Z-Decadienal', 'Farnesyl acetone', '2,5-dimethylthiophene-3-carbaldehyde', 'Octadienal', 'Thiophene-2-carbaldehyde', 'Water Chestnut', 'Isopropyl Palmitate', 'Diisooctyl phthalate', '3695-24-7', 'White Pepper', '7785-70-8', 'Basmati Rice', 'Chlorobenzene', '99583-29-6', '1,3-Hexadiene, 3-ethyl-2-methyl-', '2-Methylnaphthalene', 'Ricotta Cheese', '(E)-beta-farnesene', '2,2,4,6,6-Pentamethylheptane', 'Lemon verbena', 'Cashew nut', 'Capers', 'Glucobrassicin', 'Sinigrin', 'Lentils', \"3,7,4'-Trihydroxyflavone\", 'Mexican oregano', 'Summer savory', 'Winter savory', 'Cherry tomato', 'Wheat', 'Red rice', 'Acorn', 'Winter squash', 'Amaranth', 'Arrowroot', 'Bamboo shoots', 'Buffalo', 'Giant butterbur', 'Butternut', 'Butternut squash', 'Carob', 'Ginkgo nuts', 'Ginkgolide C', 'Ginkgolide B', 'Ginkgolide A', 'Haddock', 'Kale', 'Monkfish', 'Pheasant', 'Quinoa', 'Orange roughy', 'Pink salmon', 'Sockeye salmon', 'Atlantic salmon', 'Swordfish', 'Wild rice', 'Yam', 'Jicama', 'Yellowfin tuna', 'Albacore tuna', 'Rabbit', 'Quail', 'Epazote', 'Oyster mushroom', 'Anchovy', 'Catfish', 'Vodka', 'Vermouth', 'Madeira wine', 'Sauce', 'Salt', 'Cream', 'Sugar', 'Sugar substitute', 'Gelatin', 'Water', 'Syrup', 'Chocolate spread', 'Cocoa butter', 'Cocoa powder', 'Chocolate', 'Miso', 'Tofu', 'Icing', 'Bulgur', 'Semolina', 'Ketchup', 'Soy yogurt', 'Cooking oil', 'Shortening', 'Molasses', 'Evaporated milk', 'Flour', 'Cornbread', 'Corn grits', 'Stuffing', 'Condensed milk', 'Margarine', 'Yellow zucchini', 'Squid', 'Dulce de leche'))"
      ]
     },
     "execution_count": 8,
     "metadata": {},
     "output_type": "execute_result"
    }
   ],
   "source": [
    "full_graph.nodes()"
   ]
  },
  {
   "cell_type": "code",
   "execution_count": null,
   "metadata": {},
   "outputs": [],
   "source": [
    "demo_G=nx.Graph()\n",
    "\n",
    "#iterate through each row of flavorDB based on if index is in random sample\n",
    "for index, row in flavorDB_pandas.iterrows():\n",
    "    #set of the ingredient from the \"rows\"\n",
    "    set1= row[\"set_molecules\"]\n",
    "    #name of the ingredient from the \"rows\" \n",
    "    ingredient_1 = row[\"ingredient\"]\n",
    "\n",
    "    if ingredient_1 in [\"coffee\", \"milk\"]:\n",
    "        for molecule in set1:\n",
    "            # flavor_matrix_df[ingredient_1][molecule] = {'weight': 1}\n",
    "            demo_G.add_node(ingredient_1)\n",
    "            demo_G.node[ingredient_1][\"ingredient_node\"] = True\n",
    "            demo_G.add_node(molecule)\n",
    "            demo_G.node[molecule][\"molecule_node\"] = True\n",
    "            demo_G.add_edge(ingredient_1, molecule)"
   ]
  },
  {
   "cell_type": "code",
   "execution_count": null,
   "metadata": {},
   "outputs": [],
   "source": [
    "pos=nx.spring_layout(demo_G)\n",
    "nx.draw_networkx_nodes(demo_G,pos,\n",
    "                       nodelist=ingredient_nodes,\n",
    "                       node_color='r',\n",
    "                       node_size=500,\n",
    "                   alpha=0.8)\n",
    "nx.draw_networkx_nodes(demo_G,pos,\n",
    "                       nodelist=molecule_nodes,\n",
    "                       node_color='b',\n",
    "                       node_size=500,\n",
    "                   alpha=0.8)"
   ]
  }
 ],
 "metadata": {
  "kernelspec": {
   "display_name": "Python 3",
   "language": "python",
   "name": "python3"
  },
  "language_info": {
   "codemirror_mode": {
    "name": "ipython",
    "version": 3
   },
   "file_extension": ".py",
   "mimetype": "text/x-python",
   "name": "python",
   "nbconvert_exporter": "python",
   "pygments_lexer": "ipython3",
   "version": "3.7.1"
  }
 },
 "nbformat": 4,
 "nbformat_minor": 2
}
