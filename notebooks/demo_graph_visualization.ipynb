{
 "cells": [
  {
   "cell_type": "code",
   "execution_count": 1,
   "metadata": {},
   "outputs": [],
   "source": [
    "#Python Libraries for Mongos Database\n",
    "import pymongo\n",
    "from pymongo import MongoClient\n",
    "\n",
    "#Serializing to a file\n",
    "import _pickle as pickle"
   ]
  },
  {
   "cell_type": "code",
   "execution_count": 2,
   "metadata": {},
   "outputs": [],
   "source": [
    "#Python Library for Dataframe usage\n",
    "import pandas as pd\n",
    "import numpy as np\n",
    "import matplotlib.pyplot as plt\n",
    "\n",
    "#Python Libraries for Graph\n",
    "import networkx as nx"
   ]
  },
  {
   "cell_type": "code",
   "execution_count": 3,
   "metadata": {},
   "outputs": [],
   "source": [
    "#accessing mongoDB\n",
    "client = MongoClient()\n",
    "database = client['food_map']   # Database name (to connect to)\n",
    "collections = database['flavor_molecules']\n",
    "\n",
    "#Getting the dataset from MongoDB into Pandas\n",
    "flavorDB_pandas = pd.DataFrame(list(collections.find()))"
   ]
  },
  {
   "cell_type": "code",
   "execution_count": 4,
   "metadata": {},
   "outputs": [],
   "source": [
    "#accessing mongoDB\n",
    "client = MongoClient()\n",
    "database = client['food_map']   # Database name (to connect to)\n",
    "collections = database['flavor_molecules']\n",
    "\n",
    "#Getting the dataset from MongoDB into Pandas\n",
    "flavorDB_pandas = pd.DataFrame(list(collections.find()))\n",
    "flavorDB_pandas.rename(index=str, columns={\"catgeroy\": \"category\"})\n",
    "#Making each list into a set\n",
    "flavorDB_pandas[\"set_molecules\"] = flavorDB_pandas[\"molecules\"].apply(lambda row: set(row))\n",
    "flavorDB_pandas[\"set_molecules_ID\"] = flavorDB_pandas[\"molecule_IDs\"].apply(lambda row: set(row))\n",
    "flavorDB_pandas[\"molecule_quantity\"] = flavorDB_pandas[\"molecule_IDs\"].apply(lambda row: len(row))\n",
    "flavorDB_pandas[\"ingredient\"] = flavorDB_pandas[\"ingredient\"].apply(lambda row: row.lower())"
   ]
  },
  {
   "cell_type": "code",
   "execution_count": 5,
   "metadata": {},
   "outputs": [
    {
     "ename": "FileNotFoundError",
     "evalue": "[Errno 2] No such file or directory: './data/ingredients_with_recipes.pickle'",
     "output_type": "error",
     "traceback": [
      "\u001b[0;31m---------------------------------------------------------------------------\u001b[0m",
      "\u001b[0;31mFileNotFoundError\u001b[0m                         Traceback (most recent call last)",
      "\u001b[0;32m<ipython-input-5-a56db6593a54>\u001b[0m in \u001b[0;36m<module>\u001b[0;34m\u001b[0m\n\u001b[1;32m      1\u001b[0m \u001b[0;31m#Importing a set that has all the ingredients with recipes\u001b[0m\u001b[0;34m\u001b[0m\u001b[0;34m\u001b[0m\u001b[0;34m\u001b[0m\u001b[0m\n\u001b[1;32m      2\u001b[0m \u001b[0;31m#Opening the pickled file\u001b[0m\u001b[0;34m\u001b[0m\u001b[0;34m\u001b[0m\u001b[0;34m\u001b[0m\u001b[0m\n\u001b[0;32m----> 3\u001b[0;31m \u001b[0mpickle_in\u001b[0m \u001b[0;34m=\u001b[0m \u001b[0mopen\u001b[0m\u001b[0;34m(\u001b[0m\u001b[0;34m\"./data/ingredients_with_recipes.pickle\"\u001b[0m\u001b[0;34m,\u001b[0m\u001b[0;34m\"rb\"\u001b[0m\u001b[0;34m)\u001b[0m\u001b[0;34m\u001b[0m\u001b[0;34m\u001b[0m\u001b[0m\n\u001b[0m\u001b[1;32m      4\u001b[0m \u001b[0;31m#Getting the dictionary from the pickle\u001b[0m\u001b[0;34m\u001b[0m\u001b[0;34m\u001b[0m\u001b[0;34m\u001b[0m\u001b[0m\n\u001b[1;32m      5\u001b[0m \u001b[0mset_of_ing_with_recipe\u001b[0m \u001b[0;34m=\u001b[0m \u001b[0mpickle\u001b[0m\u001b[0;34m.\u001b[0m\u001b[0mload\u001b[0m\u001b[0;34m(\u001b[0m\u001b[0mpickle_in\u001b[0m\u001b[0;34m)\u001b[0m\u001b[0;34m\u001b[0m\u001b[0;34m\u001b[0m\u001b[0m\n",
      "\u001b[0;31mFileNotFoundError\u001b[0m: [Errno 2] No such file or directory: './data/ingredients_with_recipes.pickle'"
     ]
    }
   ],
   "source": [
    "#Importing a set that has all the ingredients with recipes\n",
    "#Opening the pickled file\n",
    "pickle_in = open(\"./data/ingredients_with_recipes.pickle\",\"rb\")\n",
    "#Getting the dictionary from the pickle\n",
    "set_of_ing_with_recipe = pickle.load(pickle_in)"
   ]
  },
  {
   "cell_type": "code",
   "execution_count": null,
   "metadata": {},
   "outputs": [],
   "source": [
    "flavorDB_pandas= flavorDB_pandas[flavorDB_pandas[\"ingredient\"].isin(set_of_ing_with_recipe)]"
   ]
  },
  {
   "cell_type": "code",
   "execution_count": null,
   "metadata": {
    "scrolled": false
   },
   "outputs": [],
   "source": [
    "flavorDB_pandas.head()"
   ]
  },
  {
   "cell_type": "code",
   "execution_count": null,
   "metadata": {},
   "outputs": [],
   "source": [
    "with open('flavorDB_pandas.pickle', 'wb') as file:\n",
    "    file.write(pickle.dumps(flavorDB_pandas))\n",
    "    file.close()"
   ]
  },
  {
   "cell_type": "code",
   "execution_count": null,
   "metadata": {},
   "outputs": [],
   "source": [
    "print(\"total number of ingredients: \", len(flavorDB_pandas[\"ingredient\"]))"
   ]
  },
  {
   "cell_type": "code",
   "execution_count": null,
   "metadata": {},
   "outputs": [],
   "source": [
    "flavorDB_pandas[\"catgeory\"].unique()"
   ]
  },
  {
   "cell_type": "code",
   "execution_count": null,
   "metadata": {
    "scrolled": true
   },
   "outputs": [],
   "source": [
    "print(\"the mean number of flavor molecules per ingredient: \", flavorDB_pandas[\"molecule_quantity\"].mean())"
   ]
  },
  {
   "cell_type": "code",
   "execution_count": null,
   "metadata": {},
   "outputs": [],
   "source": [
    "print(\"the median number of flavor molecules per ingredient: \", flavorDB_pandas[\"molecule_quantity\"].median())"
   ]
  },
  {
   "cell_type": "code",
   "execution_count": null,
   "metadata": {
    "scrolled": true
   },
   "outputs": [],
   "source": [
    "plt.hist(flavorDB_pandas[\"molecule_quantity\"])"
   ]
  },
  {
   "cell_type": "code",
   "execution_count": null,
   "metadata": {},
   "outputs": [],
   "source": [
    "full_G=nx.Graph()\n",
    "\n",
    "#iterate through each row of flavorDB based on if index is in random sample\n",
    "for index, row in flavorDB_pandas.iterrows():\n",
    "    #set of the ingredient from the \"rows\"\n",
    "    set1= row[\"set_molecules\"]\n",
    "    #name of the ingredient from the \"rows\" \n",
    "    ingredient_1 = row[\"ingredient\"]\n",
    "\n",
    "    if True: # or len(set1) < 5: # To set if you want to consider all ingredients\n",
    "        for molecule in set1:\n",
    "            full_G.add_node(ingredient_1)\n",
    "            full_G.node[ingredient_1][\"ingredient_node\"] = True\n",
    "            full_G.add_node(molecule)\n",
    "            full_G.node[molecule][\"molecule_node\"] = True\n",
    "            full_G.add_edge(ingredient_1, molecule)"
   ]
  },
  {
   "cell_type": "code",
   "execution_count": null,
   "metadata": {},
   "outputs": [],
   "source": [
    "ingredient_nodes = nx.get_node_attributes(full_G, 'ingredient_node').keys()\n",
    "molecule_nodes = nx.get_node_attributes(full_G, 'molecule_node').keys()\n",
    "\n",
    "print(\"total number of nodes: \", full_G.number_of_nodes())\n",
    "print(\"total number of ingredient nodes: \", len(ingredient_nodes))\n",
    "print(\"total number of molecule nodes: \", len(molecule_nodes))"
   ]
  },
  {
   "cell_type": "code",
   "execution_count": null,
   "metadata": {
    "scrolled": true
   },
   "outputs": [],
   "source": [
    "print(\"total number of edges: \", full_G.number_of_edges())\n",
    "print(\"total possible number of edges: 1779 molecules * 935 ingredients = 1663365\")"
   ]
  },
  {
   "cell_type": "markdown",
   "metadata": {},
   "source": [
    "## Demonstration Using Milk and Coffee"
   ]
  },
  {
   "cell_type": "code",
   "execution_count": null,
   "metadata": {},
   "outputs": [],
   "source": [
    "demo_G=nx.Graph()\n",
    "\n",
    "#iterate through each row of flavorDB based on if index is in random sample\n",
    "for index, row in flavorDB_pandas.iterrows():\n",
    "    #set of the ingredient from the \"rows\"\n",
    "    set1= row[\"set_molecules\"]\n",
    "    #name of the ingredient from the \"rows\" \n",
    "    ingredient_1 = row[\"ingredient\"]\n",
    "\n",
    "    if ingredient_1 in [\"coffee\", \"milk\"]:\n",
    "        for molecule in set1:\n",
    "            # flavor_matrix_df[ingredient_1][molecule] = {'weight': 1}\n",
    "            demo_G.add_node(ingredient_1)\n",
    "            demo_G.node[ingredient_1][\"ingredient_node\"] = True\n",
    "            demo_G.add_node(molecule)\n",
    "            demo_G.node[molecule][\"molecule_node\"] = True\n",
    "            demo_G.add_edge(ingredient_1, molecule)"
   ]
  },
  {
   "cell_type": "code",
   "execution_count": null,
   "metadata": {},
   "outputs": [],
   "source": [
    "ingredient_nodes = nx.get_node_attributes(demo_G, 'ingredient_node').keys()\n",
    "molecule_nodes = nx.get_node_attributes(demo_G, 'molecule_node').keys()"
   ]
  },
  {
   "cell_type": "code",
   "execution_count": null,
   "metadata": {},
   "outputs": [],
   "source": [
    "pos=nx.spring_layout(demo_G)\n",
    "nx.draw_networkx_nodes(demo_G,pos,\n",
    "                       nodelist=ingredient_nodes,\n",
    "                       node_color='r',\n",
    "                       node_size=500,\n",
    "                   alpha=0.8)\n",
    "nx.draw_networkx_nodes(demo_G,pos,\n",
    "                       nodelist=molecule_nodes,\n",
    "                       node_color='b',\n",
    "                       node_size=500,\n",
    "                   alpha=0.8)"
   ]
  },
  {
   "cell_type": "code",
   "execution_count": null,
   "metadata": {},
   "outputs": [],
   "source": [
    "#Plotting the Graph \n",
    "fig, ax = plt.subplots(1, 1, figsize=(8, 6))\n",
    "nx.draw_networkx(demo_G, ax=ax)\n",
    "plt.show()"
   ]
  },
  {
   "cell_type": "code",
   "execution_count": null,
   "metadata": {},
   "outputs": [],
   "source": [
    "centrality = nx.eigenvector_centrality(demo_G)"
   ]
  },
  {
   "cell_type": "code",
   "execution_count": null,
   "metadata": {
    "scrolled": true
   },
   "outputs": [],
   "source": [
    "centrality"
   ]
  },
  {
   "cell_type": "markdown",
   "metadata": {},
   "source": [
    "## Another Demo"
   ]
  },
  {
   "cell_type": "code",
   "execution_count": null,
   "metadata": {},
   "outputs": [],
   "source": [
    "demo_G=nx.Graph()\n",
    "\n",
    "#iterate through each row of flavorDB based on if index is in random sample\n",
    "for index, row in flavorDB_pandas.iterrows():\n",
    "    #set of the ingredient from the \"rows\"\n",
    "    set1= row[\"set_molecules\"]\n",
    "    #name of the ingredient from the \"rows\" \n",
    "    ingredient_1 = row[\"ingredient\"]\n",
    "\n",
    "    if ingredient_1 in [\"lobster\", \"beef\"]:\n",
    "        for molecule in set1:\n",
    "            # flavor_matrix_df[ingredient_1][molecule] = {'weight': 1}\n",
    "            demo_G.add_node(ingredient_1)\n",
    "            demo_G.node[ingredient_1][\"ingredient_node\"] = True\n",
    "            demo_G.add_node(molecule)\n",
    "            demo_G.node[molecule][\"molecule_node\"] = True\n",
    "            demo_G.add_edge(ingredient_1, molecule)"
   ]
  },
  {
   "cell_type": "code",
   "execution_count": null,
   "metadata": {},
   "outputs": [],
   "source": [
    "ingredient_nodes = nx.get_node_attributes(demo_G, 'ingredient_node').keys()\n",
    "molecule_nodes = nx.get_node_attributes(demo_G, 'molecule_node').keys()"
   ]
  },
  {
   "cell_type": "code",
   "execution_count": null,
   "metadata": {
    "scrolled": false
   },
   "outputs": [],
   "source": [
    "node_to_edges_dict = {}\n",
    "for node in demo_G.node:\n",
    "    node_to_edges_dict[node] = len(demo_G.edges(node))\n",
    "node_to_edges_dict"
   ]
  },
  {
   "cell_type": "code",
   "execution_count": null,
   "metadata": {},
   "outputs": [],
   "source": [
    "connected_nodes_only = [k for k,v in node_to_edges_dict.items() if v >= 2]\n"
   ]
  },
  {
   "cell_type": "code",
   "execution_count": null,
   "metadata": {},
   "outputs": [],
   "source": [
    "connected_edges_only = []\n",
    "for node1 in connected_nodes_only:\n",
    "    for node2 in connected_nodes_only :\n",
    "        if node1 != node2:\n",
    "            edge = tuple([node1, node2])\n",
    "            connected_edges_only.append(edge)"
   ]
  },
  {
   "cell_type": "code",
   "execution_count": null,
   "metadata": {
    "scrolled": true
   },
   "outputs": [],
   "source": [
    "pos=nx.spring_layout(demo_G)\n",
    "nx.draw_networkx_nodes(demo_G,pos,\n",
    "                       nodelist=ingredient_nodes,\n",
    "                       node_color='r',\n",
    "                       node_size=500,\n",
    "                   alpha=0.8)\n",
    "nx.draw_networkx_nodes(demo_G,pos,\n",
    "                       nodelist=molecule_nodes,\n",
    "                       node_color='b',\n",
    "                       node_size=500,\n",
    "                   alpha=0.8)"
   ]
  },
  {
   "cell_type": "code",
   "execution_count": null,
   "metadata": {},
   "outputs": [],
   "source": [
    "connected_nodes_only"
   ]
  },
  {
   "cell_type": "code",
   "execution_count": null,
   "metadata": {},
   "outputs": [],
   "source": [
    "fig, ax = plt.subplots(1, 1, figsize=(8, 6))\n",
    "nx.draw_networkx(demo_G, edgelist = connected_edges_only, nodelist=connected_nodes_only, ax=ax)\n",
    "plt.show()"
   ]
  },
  {
   "cell_type": "code",
   "execution_count": null,
   "metadata": {},
   "outputs": [],
   "source": []
  }
 ],
 "metadata": {
  "kernelspec": {
   "display_name": "Python 3",
   "language": "python",
   "name": "python3"
  },
  "language_info": {
   "codemirror_mode": {
    "name": "ipython",
    "version": 3
   },
   "file_extension": ".py",
   "mimetype": "text/x-python",
   "name": "python",
   "nbconvert_exporter": "python",
   "pygments_lexer": "ipython3",
   "version": "3.7.1"
  }
 },
 "nbformat": 4,
 "nbformat_minor": 2
}
