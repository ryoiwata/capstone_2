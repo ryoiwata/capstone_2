{
 "cells": [
  {
   "cell_type": "code",
   "execution_count": 1,
   "metadata": {},
   "outputs": [],
   "source": [
    "#Python Library for Dataframe usage\n",
    "import pandas as pd\n",
    "import numpy as np\n",
    "import seaborn as sns\n",
    "import matplotlib.pyplot as plt\n",
    "%matplotlib inline\n",
    "\n",
    "#Libraries for Graph\n",
    "import networkx as nx\n",
    "from src.communities.communities import find_communities_n, find_communities_modularity\n",
    "from src.communities.communities import find_communities_modularities\n"
   ]
  },
  {
   "cell_type": "code",
   "execution_count": 2,
   "metadata": {},
   "outputs": [],
   "source": [
    "#Serializing to a file\n",
    "import _pickle as pickle\n",
    "\n",
    "#Python Libraries for Mongos Database\n",
    "import pymongo\n",
    "from pymongo import MongoClient"
   ]
  },
  {
   "cell_type": "code",
   "execution_count": 3,
   "metadata": {},
   "outputs": [],
   "source": [
    "#etc. \n",
    "from collections import Counter"
   ]
  },
  {
   "cell_type": "code",
   "execution_count": 4,
   "metadata": {},
   "outputs": [],
   "source": [
    "from itertools import combinations, product"
   ]
  },
  {
   "cell_type": "code",
   "execution_count": 5,
   "metadata": {},
   "outputs": [],
   "source": [
    "#PandaDF of ingredients and their associated flavor molecules\n",
    "#Opening the pickled file\n",
    "pickle_in = open(\"./data/ingredients/ingredient_only_pd.pickle\", \"rb\")\n",
    "\n",
    "#Getting the dictionary from the pickle\n",
    "ingredient_only_pd = pickle.load(pickle_in)"
   ]
  },
  {
   "cell_type": "code",
   "execution_count": 6,
   "metadata": {},
   "outputs": [],
   "source": [
    "#Opening the pickled file\n",
    "pickle_in = open(\"./data/graph/molecule_full_graph.pickle\", \"rb\")\n",
    "\n",
    "#Getting the dictionary from the pickle\n",
    "full_graph = pickle.load(pickle_in)"
   ]
  },
  {
   "cell_type": "code",
   "execution_count": 7,
   "metadata": {},
   "outputs": [],
   "source": [
    "#Opening the pickled file\n",
    "pickle_in = open(\"./data/graph/ingredient_full_graph.pickle\", \"rb\")\n",
    "\n",
    "#Getting the dictionary from the pickle\n",
    "ingredient_full_graph = pickle.load(pickle_in)"
   ]
  },
  {
   "cell_type": "code",
   "execution_count": 8,
   "metadata": {},
   "outputs": [],
   "source": [
    "#returns a dictionary based on attributes\n",
    "ingredient_node_attribute = nx.get_node_attributes(full_graph, 'ingredient_node')\n",
    "molecule_node_attribute = nx.get_node_attributes(full_graph, 'molecule_node')"
   ]
  },
  {
   "cell_type": "code",
   "execution_count": 9,
   "metadata": {},
   "outputs": [],
   "source": [
    "#list of ingredients\n",
    "ingredient_list = []\n",
    "for node, boolean in ingredient_node_attribute.items():    \n",
    "    if boolean == True:\n",
    "        ingredient_list.append(node)\n",
    "\n",
    "#list of non ingredients\n",
    "molecule_list = []\n",
    "for node, boolean in molecule_node_attribute.items():   \n",
    "    if boolean == True:\n",
    "        molecule_list.append(node)"
   ]
  },
  {
   "cell_type": "markdown",
   "metadata": {},
   "source": [
    "# Ingredient-Molecule Data Frame"
   ]
  },
  {
   "cell_type": "code",
   "execution_count": 10,
   "metadata": {
    "scrolled": true
   },
   "outputs": [
    {
     "data": {
      "text/html": [
       "<div>\n",
       "<style scoped>\n",
       "    .dataframe tbody tr th:only-of-type {\n",
       "        vertical-align: middle;\n",
       "    }\n",
       "\n",
       "    .dataframe tbody tr th {\n",
       "        vertical-align: top;\n",
       "    }\n",
       "\n",
       "    .dataframe thead th {\n",
       "        text-align: right;\n",
       "    }\n",
       "</style>\n",
       "<table border=\"1\" class=\"dataframe\">\n",
       "  <thead>\n",
       "    <tr style=\"text-align: right;\">\n",
       "      <th></th>\n",
       "      <th>_id</th>\n",
       "      <th>category</th>\n",
       "      <th>flavor_of_molecules</th>\n",
       "      <th>ingredient</th>\n",
       "      <th>molecule_IDs</th>\n",
       "      <th>molecules</th>\n",
       "      <th>set_molecules</th>\n",
       "      <th>set_molecules_ID</th>\n",
       "      <th>molecule_quantity</th>\n",
       "    </tr>\n",
       "  </thead>\n",
       "  <tbody>\n",
       "    <tr>\n",
       "      <th>0</th>\n",
       "      <td>5ca27b8f13218a1eabac63d6</td>\n",
       "      <td>Animal Product</td>\n",
       "      <td>[[faint], [very strong,  mothball,  animal,  f...</td>\n",
       "      <td>egg</td>\n",
       "      <td>[6322, 6736, 31252, 7909, 7284, 7501, 9609, 12...</td>\n",
       "      <td>[L-arginine, 3-Methylindole, 2,5-Dimethylpyraz...</td>\n",
       "      <td>{2-Pentylfuran, L-arginine, 2-Ethyl-3-Methylpy...</td>\n",
       "      <td>{379, 8093, 27457, 402, 2879, 5321950, 6322, 1...</td>\n",
       "      <td>55</td>\n",
       "    </tr>\n",
       "    <tr>\n",
       "      <th>9</th>\n",
       "      <td>5ca27b9b13218a1eabac63df</td>\n",
       "      <td>Beverage Alcoholic</td>\n",
       "      <td>[[caramellic,  spicy], [hop_oil,  apricot,  wh...</td>\n",
       "      <td>beer</td>\n",
       "      <td>[5367531, 7795, 20083, 10558, 16617, 12209, 22...</td>\n",
       "      <td>[(2E,4E)-Undeca-2,4-dienal, Isoamyl butyrate, ...</td>\n",
       "      <td>{Isobutyl Formate, 3-Phenylpropanoic acid, 2-M...</td>\n",
       "      <td>{8051, 8093, 379, 7945, 107, 27457, 7742, 1097...</td>\n",
       "      <td>263</td>\n",
       "    </tr>\n",
       "    <tr>\n",
       "      <th>11</th>\n",
       "      <td>5ca27b9d13218a1eabac63e1</td>\n",
       "      <td>Beverage Alcoholic</td>\n",
       "      <td>[[fragrant,  bread,  woody,  sweet,  baked,  a...</td>\n",
       "      <td>brandy</td>\n",
       "      <td>[7362, 20653, 5364399, 61386, 12327, 7762, 805...</td>\n",
       "      <td>[2-Furaldehyde, 2-Methylhexanoic Acid, Ethyl 2...</td>\n",
       "      <td>{2,4-Dimethylbenzaldehyde, Isobutyl Acetate, c...</td>\n",
       "      <td>{8051, 10430, 126, 31265, 379, 10976, 5364399,...</td>\n",
       "      <td>50</td>\n",
       "    </tr>\n",
       "    <tr>\n",
       "      <th>13</th>\n",
       "      <td>5ca27ba013218a1eabac63e3</td>\n",
       "      <td>Beverage Alcoholic</td>\n",
       "      <td>[[fragrant,  bread,  woody,  sweet,  baked,  a...</td>\n",
       "      <td>apple brandy</td>\n",
       "      <td>[7362, 20653, 5364399, 61386, 9862, 7775, 1661...</td>\n",
       "      <td>[2-Furaldehyde, 2-Methylhexanoic Acid, Ethyl 2...</td>\n",
       "      <td>{2,4-Dimethylbenzaldehyde, Isobutyl Acetate, c...</td>\n",
       "      <td>{8051, 10430, 126, 31265, 379, 10976, 5364399,...</td>\n",
       "      <td>74</td>\n",
       "    </tr>\n",
       "    <tr>\n",
       "      <th>15</th>\n",
       "      <td>5ca27ba313218a1eabac63e5</td>\n",
       "      <td>Beverage Alcoholic</td>\n",
       "      <td>[[fragrant,  bread,  woody,  sweet,  baked,  a...</td>\n",
       "      <td>blackberry brandy</td>\n",
       "      <td>[7362, 20653, 5364399, 61386, 12327, 7762, 805...</td>\n",
       "      <td>[2-Furaldehyde, 2-Methylhexanoic Acid, Ethyl 2...</td>\n",
       "      <td>{2,4-Dimethylbenzaldehyde, Isobutyl Acetate, c...</td>\n",
       "      <td>{8051, 10430, 126, 31265, 379, 10976, 5364399,...</td>\n",
       "      <td>51</td>\n",
       "    </tr>\n",
       "  </tbody>\n",
       "</table>\n",
       "</div>"
      ],
      "text/plain": [
       "                         _id            category  \\\n",
       "0   5ca27b8f13218a1eabac63d6      Animal Product   \n",
       "9   5ca27b9b13218a1eabac63df  Beverage Alcoholic   \n",
       "11  5ca27b9d13218a1eabac63e1  Beverage Alcoholic   \n",
       "13  5ca27ba013218a1eabac63e3  Beverage Alcoholic   \n",
       "15  5ca27ba313218a1eabac63e5  Beverage Alcoholic   \n",
       "\n",
       "                                  flavor_of_molecules         ingredient  \\\n",
       "0   [[faint], [very strong,  mothball,  animal,  f...                egg   \n",
       "9   [[caramellic,  spicy], [hop_oil,  apricot,  wh...               beer   \n",
       "11  [[fragrant,  bread,  woody,  sweet,  baked,  a...             brandy   \n",
       "13  [[fragrant,  bread,  woody,  sweet,  baked,  a...       apple brandy   \n",
       "15  [[fragrant,  bread,  woody,  sweet,  baked,  a...  blackberry brandy   \n",
       "\n",
       "                                         molecule_IDs  \\\n",
       "0   [6322, 6736, 31252, 7909, 7284, 7501, 9609, 12...   \n",
       "9   [5367531, 7795, 20083, 10558, 16617, 12209, 22...   \n",
       "11  [7362, 20653, 5364399, 61386, 12327, 7762, 805...   \n",
       "13  [7362, 20653, 5364399, 61386, 9862, 7775, 1661...   \n",
       "15  [7362, 20653, 5364399, 61386, 12327, 7762, 805...   \n",
       "\n",
       "                                            molecules  \\\n",
       "0   [L-arginine, 3-Methylindole, 2,5-Dimethylpyraz...   \n",
       "9   [(2E,4E)-Undeca-2,4-dienal, Isoamyl butyrate, ...   \n",
       "11  [2-Furaldehyde, 2-Methylhexanoic Acid, Ethyl 2...   \n",
       "13  [2-Furaldehyde, 2-Methylhexanoic Acid, Ethyl 2...   \n",
       "15  [2-Furaldehyde, 2-Methylhexanoic Acid, Ethyl 2...   \n",
       "\n",
       "                                        set_molecules  \\\n",
       "0   {2-Pentylfuran, L-arginine, 2-Ethyl-3-Methylpy...   \n",
       "9   {Isobutyl Formate, 3-Phenylpropanoic acid, 2-M...   \n",
       "11  {2,4-Dimethylbenzaldehyde, Isobutyl Acetate, c...   \n",
       "13  {2,4-Dimethylbenzaldehyde, Isobutyl Acetate, c...   \n",
       "15  {2,4-Dimethylbenzaldehyde, Isobutyl Acetate, c...   \n",
       "\n",
       "                                     set_molecules_ID  molecule_quantity  \n",
       "0   {379, 8093, 27457, 402, 2879, 5321950, 6322, 1...                 55  \n",
       "9   {8051, 8093, 379, 7945, 107, 27457, 7742, 1097...                263  \n",
       "11  {8051, 10430, 126, 31265, 379, 10976, 5364399,...                 50  \n",
       "13  {8051, 10430, 126, 31265, 379, 10976, 5364399,...                 74  \n",
       "15  {8051, 10430, 126, 31265, 379, 10976, 5364399,...                 51  "
      ]
     },
     "execution_count": 10,
     "metadata": {},
     "output_type": "execute_result"
    }
   ],
   "source": [
    "ingredient_only_pd.head()"
   ]
  },
  {
   "cell_type": "code",
   "execution_count": 11,
   "metadata": {},
   "outputs": [
    {
     "name": "stdout",
     "output_type": "stream",
     "text": [
      "List of catgories of food:  ['Animal Product' 'Beverage Alcoholic' 'Beverage Caffeinated' 'Cereal'\n",
      " 'Maize' 'Dairy' 'Essential Oil' 'Seafood' 'Fish' 'Flower' 'Fruit' 'Berry'\n",
      " 'Fruit Citrus' 'Fruit Essence' 'Fungus' 'Herb' 'Meat' 'Nut' 'Seed'\n",
      " 'Legume' 'Plant' 'Plant Derivative' 'Spice' 'Vegetable' 'Gourd'\n",
      " 'Vegetable Root' 'Vegetable Stem' 'Vegetable Tuber' 'Cabbage' 'Additive']\n"
     ]
    }
   ],
   "source": [
    "list_of_categories = ingredient_only_pd[\"category\"].unique()\n",
    "print(\"List of catgories of food: \", list_of_categories)"
   ]
  },
  {
   "cell_type": "code",
   "execution_count": 12,
   "metadata": {},
   "outputs": [
    {
     "name": "stdout",
     "output_type": "stream",
     "text": [
      "number of ingredients:  268\n"
     ]
    }
   ],
   "source": [
    "print(\"number of ingredients: \", len(ingredient_only_pd[\"ingredient\"]))"
   ]
  },
  {
   "cell_type": "code",
   "execution_count": 13,
   "metadata": {},
   "outputs": [
    {
     "name": "stdout",
     "output_type": "stream",
     "text": [
      "number of possible combinations:  71556\n"
     ]
    }
   ],
   "source": [
    "print(\"number of possible combinations: \", 268 * 267)"
   ]
  },
  {
   "cell_type": "code",
   "execution_count": 14,
   "metadata": {},
   "outputs": [
    {
     "name": "stdout",
     "output_type": "stream",
     "text": [
      "number of molecules:  1467\n"
     ]
    }
   ],
   "source": [
    "print(\"number of molecules: \", len(molecule_list))"
   ]
  },
  {
   "cell_type": "code",
   "execution_count": 15,
   "metadata": {
    "scrolled": false
   },
   "outputs": [
    {
     "data": {
      "text/plain": [
       "count    268.000000\n",
       "mean      98.694030\n",
       "std       76.326004\n",
       "min        1.000000\n",
       "25%       20.750000\n",
       "50%      102.500000\n",
       "75%      149.000000\n",
       "max      391.000000\n",
       "Name: molecule_quantity, dtype: float64"
      ]
     },
     "execution_count": 15,
     "metadata": {},
     "output_type": "execute_result"
    }
   ],
   "source": [
    "ingredient_only_pd[\"molecule_quantity\"].describe()"
   ]
  },
  {
   "cell_type": "code",
   "execution_count": 16,
   "metadata": {},
   "outputs": [
    {
     "data": {
      "text/plain": [
       "(array([86., 19., 50., 53., 32., 16.,  9.,  2.,  0.,  1.]),\n",
       " array([  1.,  40.,  79., 118., 157., 196., 235., 274., 313., 352., 391.]),\n",
       " <a list of 10 Patch objects>)"
      ]
     },
     "execution_count": 16,
     "metadata": {},
     "output_type": "execute_result"
    },
    {
     "data": {
      "image/png": "[encoded data removed]",
      "text/plain": [
       "<Figure size 432x288 with 1 Axes>"
      ]
     },
     "metadata": {
      "needs_background": "light"
     },
     "output_type": "display_data"
    }
   ],
   "source": [
    "plt.hist(ingredient_only_pd[\"molecule_quantity\"])"
   ]
  },
  {
   "cell_type": "code",
   "execution_count": 17,
   "metadata": {
    "scrolled": true
   },
   "outputs": [
    {
     "data": {
      "text/plain": [
       "<seaborn.axisgrid.FacetGrid at 0x7f16654595c0>"
      ]
     },
     "execution_count": 17,
     "metadata": {},
     "output_type": "execute_result"
    },
    {
     "data": {
      "image/png": "[encoded data removed]",
      "text/plain": [
       "<Figure size 360x360 with 1 Axes>"
      ]
     },
     "metadata": {
      "needs_background": "light"
     },
     "output_type": "display_data"
    }
   ],
   "source": [
    "sns.catplot(x = \"category\", y = \"molecule_quantity\", data = ingredient_only_pd)"
   ]
  },
  {
   "cell_type": "markdown",
   "metadata": {},
   "source": [
    "# Graphs"
   ]
  },
  {
   "cell_type": "markdown",
   "metadata": {},
   "source": [
    "# Ingredient Only Graphs"
   ]
  },
  {
   "cell_type": "code",
   "execution_count": 18,
   "metadata": {},
   "outputs": [],
   "source": [
    "#Opening the pickled file for full graph\n",
    "pickle_in = open(\"./data/graph/ingredient_subset_graph.pickle\",\"rb\")\n",
    "ing_graph = pickle.load(pickle_in)"
   ]
  },
  {
   "cell_type": "code",
   "execution_count": 19,
   "metadata": {
    "scrolled": true
   },
   "outputs": [
    {
     "name": "stderr",
     "output_type": "stream",
     "text": [
      "/home/ryoiwata/anaconda3/lib/python3.7/site-packages/networkx/drawing/nx_pylab.py:611: MatplotlibDeprecationWarning: isinstance(..., numbers.Number)\n",
      "  if cb.is_numlike(alpha):\n"
     ]
    },
    {
     "data": {
      "image/png": "[encoded data removed]",
      "text/plain": [
       "<Figure size 432x288 with 1 Axes>"
      ]
     },
     "metadata": {
      "needs_background": "light"
     },
     "output_type": "display_data"
    }
   ],
   "source": [
    "nx.draw_networkx(ing_graph)"
   ]
  },
  {
   "cell_type": "code",
   "execution_count": 30,
   "metadata": {},
   "outputs": [
    {
     "data": {
      "text/plain": [
       "True"
      ]
     },
     "execution_count": 30,
     "metadata": {},
     "output_type": "execute_result"
    }
   ],
   "source": [
    "\"salt\" in ing_graph"
   ]
  },
  {
   "cell_type": "code",
   "execution_count": 20,
   "metadata": {},
   "outputs": [],
   "source": [
    "from src.all_functions import graph_based_on_shared_molecule_creator"
   ]
  },
  {
   "cell_type": "code",
   "execution_count": 21,
   "metadata": {},
   "outputs": [
    {
     "ename": "TypeError",
     "evalue": "graph_based_on_shared_molecule_creator() got an unexpected keyword argument 'create_file'",
     "output_type": "error",
     "traceback": [
      "\u001b[0;31m---------------------------------------------------------------------------\u001b[0m",
      "\u001b[0;31mTypeError\u001b[0m                                 Traceback (most recent call last)",
      "\u001b[0;32m<ipython-input-21-8b3954cbf02b>\u001b[0m in \u001b[0;36m<module>\u001b[0;34m\u001b[0m\n\u001b[0;32m----> 1\u001b[0;31m \u001b[0mmy_graph\u001b[0m \u001b[0;34m=\u001b[0m \u001b[0mgraph_based_on_shared_molecule_creator\u001b[0m\u001b[0;34m(\u001b[0m\u001b[0mingredient_only_pd\u001b[0m\u001b[0;34m,\u001b[0m \u001b[0mcreate_file\u001b[0m\u001b[0;34m=\u001b[0m \u001b[0;32mFalse\u001b[0m\u001b[0;34m)\u001b[0m\u001b[0;34m\u001b[0m\u001b[0;34m\u001b[0m\u001b[0m\n\u001b[0m",
      "\u001b[0;31mTypeError\u001b[0m: graph_based_on_shared_molecule_creator() got an unexpected keyword argument 'create_file'"
     ]
    }
   ],
   "source": [
    "my_graph = graph_based_on_shared_molecule_creator(ingredient_only_pd, create_file= False)"
   ]
  },
  {
   "cell_type": "code",
   "execution_count": null,
   "metadata": {
    "scrolled": true
   },
   "outputs": [],
   "source": [
    "my_graph.number_of_nodes()"
   ]
  },
  {
   "cell_type": "code",
   "execution_count": null,
   "metadata": {},
   "outputs": [],
   "source": [
    "my_graph.number_of_edges()"
   ]
  },
  {
   "cell_type": "code",
   "execution_count": null,
   "metadata": {},
   "outputs": [],
   "source": [
    "with open('./data/graph/graph_based_on_shared_molecule_creator.pickle', 'wb') as file:\n",
    "    file.write(pickle.dumps(my_graph))\n",
    "    file.close()"
   ]
  },
  {
   "cell_type": "code",
   "execution_count": null,
   "metadata": {},
   "outputs": [],
   "source": [
    "plt.plot(list(range(1,len(mods)+1)), mods, ':o')\n",
    "plt.xlabel('number of communities')\n",
    "plt.ylabel('modularity')"
   ]
  },
  {
   "cell_type": "markdown",
   "metadata": {},
   "source": [
    "# Ingredient and Molecule Graph"
   ]
  },
  {
   "cell_type": "code",
   "execution_count": null,
   "metadata": {},
   "outputs": [],
   "source": []
  },
  {
   "cell_type": "code",
   "execution_count": null,
   "metadata": {},
   "outputs": [],
   "source": [
    "#Opening the pickled file for full graph\n",
    "pickle_in = open(\"./data/graph/molecule_subset_graph.pickle\",\"rb\")\n",
    "mol_graph = pickle.load(pickle_in)"
   ]
  },
  {
   "cell_type": "code",
   "execution_count": null,
   "metadata": {
    "scrolled": false
   },
   "outputs": [],
   "source": [
    "nx.draw_networkx(mol_graph)"
   ]
  },
  {
   "cell_type": "code",
   "execution_count": null,
   "metadata": {},
   "outputs": [],
   "source": [
    "degree_dict = dict(full_graph.degree())\n",
    "degree_series = pd.Series(degree_dict)\n",
    "degree_series.describe()"
   ]
  },
  {
   "cell_type": "code",
   "execution_count": null,
   "metadata": {},
   "outputs": [],
   "source": [
    "degree_series[degree_series < 250].hist(bins=50)"
   ]
  },
  {
   "cell_type": "code",
   "execution_count": null,
   "metadata": {
    "scrolled": true
   },
   "outputs": [],
   "source": [
    "ingredient_centrality = []\n",
    "for tup in Counter(nx.degree_centrality(full_graph)).most_common():\n",
    "    if tup[0] in ingredient_list:\n",
    "        ingredient_centrality.append(tup)\n",
    "print(\"Ingredients with highest centrality: \")\n",
    "print(ingredient_centrality)"
   ]
  },
  {
   "cell_type": "code",
   "execution_count": null,
   "metadata": {
    "scrolled": true
   },
   "outputs": [],
   "source": [
    "molecule_centrality = []\n",
    "for tup in Counter(nx.degree_centrality(full_graph)).most_common():\n",
    "    if tup[0] in molecule_list:\n",
    "        molecule_centrality.append(tup)\n",
    "print(\"Molecules with highest centrality: \")\n",
    "print(molecule_centrality)\n"
   ]
  },
  {
   "cell_type": "code",
   "execution_count": null,
   "metadata": {
    "scrolled": true
   },
   "outputs": [],
   "source": [
    "print(\"Connected components: \", nx.number_connected_components(full_graph))"
   ]
  },
  {
   "cell_type": "code",
   "execution_count": null,
   "metadata": {
    "scrolled": true
   },
   "outputs": [],
   "source": [
    "nx.degree_centrality(full_graph)"
   ]
  },
  {
   "cell_type": "code",
   "execution_count": null,
   "metadata": {
    "scrolled": true
   },
   "outputs": [],
   "source": [
    "nx.betweenness_centrality(full_graph)"
   ]
  },
  {
   "cell_type": "code",
   "execution_count": null,
   "metadata": {
    "scrolled": false
   },
   "outputs": [],
   "source": []
  },
  {
   "cell_type": "code",
   "execution_count": null,
   "metadata": {},
   "outputs": [],
   "source": []
  },
  {
   "cell_type": "markdown",
   "metadata": {},
   "source": [
    "# Common Pairing Shared Molecule Ratios"
   ]
  },
  {
   "cell_type": "code",
   "execution_count": null,
   "metadata": {},
   "outputs": [],
   "source": [
    "from src.all_functions import common_pair_analysis"
   ]
  },
  {
   "cell_type": "code",
   "execution_count": null,
   "metadata": {
    "scrolled": true
   },
   "outputs": [],
   "source": []
  },
  {
   "cell_type": "code",
   "execution_count": null,
   "metadata": {
    "scrolled": true
   },
   "outputs": [],
   "source": [
    "np.array(list_of_category_ratios).mean()"
   ]
  },
  {
   "cell_type": "markdown",
   "metadata": {},
   "source": [
    "Ratio for Beverage Alcoholic:  0.2760335979265801\n",
    "Ratio for Beverage Caffeinated:  0.030508474576271188\n",
    "Ratio for Cereal:  0.29510614309972283\n",
    "Ratio for Maize:  0.08685947094578159\n",
    "Ratio for Dairy:  0.28742744731047254\n",
    "Ratio for Essential Oil:  0.1404912865812022\n",
    "Ratio for Seafood:  0.16144490977143952\n",
    "Ratio for Fish:  0.41460354837905844\n",
    "Ratio for Fruit:  0.3786900657335132\n",
    "Ratio for Berry:  0.35719197257990054\n",
    "Ratio for Fruit Citrus:  0.3884684724638544\n",
    "Ratio for Fungus:  0.41409691629955947\n",
    "Ratio for Herb:  0.5326167800571301\n",
    "Ratio for Meat:  0.13390955730473256\n",
    "Ratio for Nut:  0.5507713353522316\n",
    "Ratio for Seed:  0.44668430377252716\n",
    "Ratio for Legume:  0.33408988143315316\n",
    "Ratio for Plant:  0.6316625305314607\n",
    "Ratio for Plant Derivative:  0.09379168158647629\n",
    "Ratio for Spice:  0.4443326703423937\n",
    "Ratio for Vegetable:  0.5939392378952064\n",
    "Ratio for Gourd:  0.7037037037037037\n",
    "Ratio for Vegetable Root:  0.6347922930979436\n",
    "Ratio for Vegetable Tuber:  0.6709070924558994\n",
    "Ratio for Additive:  0.6780952380952381"
   ]
  },
  {
   "cell_type": "code",
   "execution_count": null,
   "metadata": {},
   "outputs": [],
   "source": [
    "list_of_ingredients_per_category = ingredient_only_pd[ingredient_only_pd[\"category\"] == category][\"ingredient\"].tolist()\n",
    "ratio_total = 0\n",
    "for combo in combinations(list_of_ingredients_per_category, 2):\n",
    "    ratio, x, y, z = common_pair_analysis(combo[0], combo[1])\n",
    "    ratio_total += ratio\n",
    "print(ratio_total / len(list(combinations(list_of_ingredients_per_category, 2))))"
   ]
  },
  {
   "cell_type": "code",
   "execution_count": null,
   "metadata": {
    "scrolled": true
   },
   "outputs": [],
   "source": [
    "common_pair_analysis(\"milk\", \"coffee\", True, True)"
   ]
  },
  {
   "cell_type": "code",
   "execution_count": null,
   "metadata": {},
   "outputs": [],
   "source": [
    "common_pair_analysis(\"celery\", \"peanut butter\", True, True)"
   ]
  },
  {
   "cell_type": "code",
   "execution_count": null,
   "metadata": {
    "scrolled": true
   },
   "outputs": [],
   "source": [
    "common_pair_analysis(\"cherry tomato\", \"mozzarella cheese\", True, True)"
   ]
  },
  {
   "cell_type": "code",
   "execution_count": null,
   "metadata": {},
   "outputs": [],
   "source": [
    "common_pair_analysis(\"ketchup\", \"coffee\", True, True)"
   ]
  },
  {
   "cell_type": "code",
   "execution_count": null,
   "metadata": {},
   "outputs": [],
   "source": [
    "list(ingredient_only_pd[\"ingredient\"])"
   ]
  },
  {
   "cell_type": "markdown",
   "metadata": {},
   "source": [
    "# Recommender"
   ]
  },
  {
   "cell_type": "code",
   "execution_count": null,
   "metadata": {},
   "outputs": [],
   "source": [
    "from src.recommender.lists_walk_recommender import random_walk_jacaard_lists"
   ]
  },
  {
   "cell_type": "code",
   "execution_count": null,
   "metadata": {
    "scrolled": true
   },
   "outputs": [],
   "source": [
    "\n",
    "nx.draw_networkx(mol_graph)"
   ]
  },
  {
   "cell_type": "code",
   "execution_count": null,
   "metadata": {},
   "outputs": [],
   "source": [
    "ingredient_1 = \"mozzarella cheese\"\n",
    "iterations = 10000\n",
    "steps = 10\n",
    "return_prob = 0.001\n",
    "print(random_walk_jacaard_lists(ingredient_1, iterations, steps, return_prob))"
   ]
  },
  {
   "cell_type": "code",
   "execution_count": null,
   "metadata": {},
   "outputs": [],
   "source": [
    "ingredient_1 = \"crab\"\n",
    "iterations = 10000\n",
    "steps = 10\n",
    "return_prob = 0.001\n",
    "print(random_walk_jacaard_lists(ingredient_1, iterations, steps, return_prob))"
   ]
  },
  {
   "cell_type": "code",
   "execution_count": null,
   "metadata": {},
   "outputs": [],
   "source": [
    "ingredient_1 = \"beer\"\n",
    "iterations = 10000\n",
    "steps = 10\n",
    "return_prob = 0.001\n",
    "print(random_walk_jacaard_lists(ingredient_1, iterations, steps, return_prob))"
   ]
  },
  {
   "cell_type": "markdown",
   "metadata": {},
   "source": [
    "# Recipe Based Graph"
   ]
  },
  {
   "cell_type": "code",
   "execution_count": null,
   "metadata": {},
   "outputs": [],
   "source": [
    "#accessing mongoDB\n",
    "client = MongoClient()\n",
    "database = client['food_map']   # Database name (to connect to)\n",
    "collections = database['recipe']\n",
    "\n",
    "#Getting the dataset from MongoDB into Pandas\n",
    "recipe_puppy_pandas = pd.DataFrame(list(collections.find()))"
   ]
  },
  {
   "cell_type": "code",
   "execution_count": null,
   "metadata": {},
   "outputs": [],
   "source": [
    "recipe_puppy_pandas.shape"
   ]
  },
  {
   "cell_type": "code",
   "execution_count": null,
   "metadata": {
    "scrolled": true
   },
   "outputs": [],
   "source": [
    "recipe_puppy_pandas.head()"
   ]
  },
  {
   "cell_type": "code",
   "execution_count": null,
   "metadata": {},
   "outputs": [],
   "source": [
    "#Opening the pickled file\n",
    "#Needs to be opened in the recommender folder\n",
    "pickle_in = open(\"./data/graph/recipe_graph.pickle\",\"rb\")\n",
    "\n",
    "#Getting the dictionary from the pickle\n",
    "recipe_full_graph = pickle.load(pickle_in)"
   ]
  },
  {
   "cell_type": "code",
   "execution_count": null,
   "metadata": {},
   "outputs": [],
   "source": [
    "print(\"number of ingredients: \", recipe_full_graph.number_of_nodes())"
   ]
  },
  {
   "cell_type": "code",
   "execution_count": null,
   "metadata": {},
   "outputs": [],
   "source": [
    "print(\"number of edges: \", recipe_full_graph.number_of_edges())"
   ]
  },
  {
   "cell_type": "code",
   "execution_count": null,
   "metadata": {},
   "outputs": [],
   "source": [
    "#Opening the pickled file\n",
    "#Needs to be opened in the recommender folder\n",
    "pickle_in = open(\"./data/graph/recipe_subset_graph.pickle\",\"rb\")\n",
    "\n",
    "#Getting the dictionary from the pickle\n",
    "recipe_subset_graph = pickle.load(pickle_in)"
   ]
  },
  {
   "cell_type": "code",
   "execution_count": null,
   "metadata": {},
   "outputs": [],
   "source": [
    "\n",
    "nx.draw_networkx(recipe_subset_graph)"
   ]
  },
  {
   "cell_type": "code",
   "execution_count": null,
   "metadata": {},
   "outputs": [],
   "source": [
    "print(\"recipe name: Turkey Stuffing Casserole, New Orleans Red Beans And Rice Recipe\")"
   ]
  },
  {
   "cell_type": "markdown",
   "metadata": {},
   "source": [
    "# Recipe Based Recommender"
   ]
  },
  {
   "cell_type": "code",
   "execution_count": null,
   "metadata": {},
   "outputs": [],
   "source": [
    "from src.recommender.recipe_walk_recommender import recipe_random_walk"
   ]
  },
  {
   "cell_type": "code",
   "execution_count": null,
   "metadata": {},
   "outputs": [],
   "source": [
    "ingredient_1 = \"egg\"\n",
    "iterations = 10000\n",
    "steps = 10\n",
    "return_prob = 0.001\n",
    "print(recipe_random_walk(ingredient_1, iterations, steps, return_prob))"
   ]
  },
  {
   "cell_type": "code",
   "execution_count": null,
   "metadata": {},
   "outputs": [],
   "source": []
  }
 ],
 "metadata": {
  "kernelspec": {
   "display_name": "Python 3",
   "language": "python",
   "name": "python3"
  },
  "language_info": {
   "codemirror_mode": {
    "name": "ipython",
    "version": 3
   },
   "file_extension": ".py",
   "mimetype": "text/x-python",
   "name": "python",
   "nbconvert_exporter": "python",
   "pygments_lexer": "ipython3",
   "version": "3.7.1"
  }
 },
 "nbformat": 4,
 "nbformat_minor": 2
}
