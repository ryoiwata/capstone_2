{
 "cells": [
  {
   "cell_type": "code",
   "execution_count": 7,
   "metadata": {},
   "outputs": [],
   "source": [
    "\"\"\"\n",
    "Takes a small subset of the data, and then makes a graph based off of nodes of ingredients and molecules\n",
    "\"\"\"\n",
    "\n",
    "#Python Libraries for Mongos Database\n",
    "import pymongo\n",
    "from pymongo import MongoClient\n",
    "\n",
    "#Python Library for Dataframe usage\n",
    "import pandas as pd\n",
    "import numpy as np\n",
    "import random \n",
    "from collections import defaultdict\n",
    "\n",
    "#Serializing to a file\n",
    "import _pickle as pickle\n",
    "\n",
    "#Libraries for Graph\n",
    "import networkx as nx"
   ]
  },
  {
   "cell_type": "code",
   "execution_count": 25,
   "metadata": {},
   "outputs": [],
   "source": [
    "#accessing mongoDB\n",
    "client = MongoClient()\n",
    "database = client['food_map']   # Database name (to connect to)\n",
    "collections = database['flavor_molecules']\n",
    "\n",
    "#Getting the dataset from MongoDB into Pandas\n",
    "flavorDB_pandas = pd.DataFrame(list(collections.find()))\n",
    "flavorDB_pandas = flavorDB_pandas[[\"_id\", \"ingredient\", \"catgeory\", \"molecules\", \"molecule_IDs\"]]\n",
    "\n",
    "#Making each list into a set\n",
    "flavorDB_pandas[\"set_molecules\"] = flavorDB_pandas[\"molecules\"].apply(lambda row: set(row))\n",
    "flavorDB_pandas[\"set_molecules_ID\"] = flavorDB_pandas[\"molecule_IDs\"].apply(lambda row: set(row))\n",
    "flavorDB_pandas[\"molecule_quantity\"] = flavorDB_pandas[\"molecule_IDs\"].apply(lambda row: len(row))\n"
   ]
  },
  {
   "cell_type": "code",
   "execution_count": 26,
   "metadata": {},
   "outputs": [
    {
     "data": {
      "text/html": [
       "<div>\n",
       "<style scoped>\n",
       "    .dataframe tbody tr th:only-of-type {\n",
       "        vertical-align: middle;\n",
       "    }\n",
       "\n",
       "    .dataframe tbody tr th {\n",
       "        vertical-align: top;\n",
       "    }\n",
       "\n",
       "    .dataframe thead th {\n",
       "        text-align: right;\n",
       "    }\n",
       "</style>\n",
       "<table border=\"1\" class=\"dataframe\">\n",
       "  <thead>\n",
       "    <tr style=\"text-align: right;\">\n",
       "      <th></th>\n",
       "      <th>_id</th>\n",
       "      <th>ingredient</th>\n",
       "      <th>catgeory</th>\n",
       "      <th>molecules</th>\n",
       "      <th>molecule_IDs</th>\n",
       "      <th>set_molecules</th>\n",
       "      <th>set_molecules_ID</th>\n",
       "      <th>molecule_quantity</th>\n",
       "    </tr>\n",
       "  </thead>\n",
       "  <tbody>\n",
       "    <tr>\n",
       "      <th>0</th>\n",
       "      <td>5ca27b8f13218a1eabac63d6</td>\n",
       "      <td>Egg</td>\n",
       "      <td>Animal Product</td>\n",
       "      <td>[L-arginine, 3-Methylindole, 2,5-Dimethylpyraz...</td>\n",
       "      <td>[6322, 6736, 31252, 7909, 7284, 7501, 9609, 12...</td>\n",
       "      <td>{2-Methylpyrazine, Nonanal, Octan-2-one, Pyrro...</td>\n",
       "      <td>{12266, 18554, 379, 12020, 612, 12097, 7909, 5...</td>\n",
       "      <td>55</td>\n",
       "    </tr>\n",
       "    <tr>\n",
       "      <th>1</th>\n",
       "      <td>5ca27b9113218a1eabac63d7</td>\n",
       "      <td>Bakery Products</td>\n",
       "      <td>Bakery</td>\n",
       "      <td>[2,3-Dimethylpyrazine, 2,5-Dimethylpyrazine, 2...</td>\n",
       "      <td>[22201, 31252, 26331, 27457, 7976, 26808]</td>\n",
       "      <td>{2-Methylpyrazine, 2-Ethylpyrazine, 2-Ethyl-3-...</td>\n",
       "      <td>{31252, 26331, 7976, 27457, 22201, 26808}</td>\n",
       "      <td>6</td>\n",
       "    </tr>\n",
       "    <tr>\n",
       "      <th>2</th>\n",
       "      <td>5ca27b9213218a1eabac63d8</td>\n",
       "      <td>Bread</td>\n",
       "      <td>Bakery</td>\n",
       "      <td>[coumarin, Methyl Benzoate, 3-Hexanone, Gerani...</td>\n",
       "      <td>[323, 7150, 11509, 637566, 439341, 33931, 9261...</td>\n",
       "      <td>{Nonanal, (+)-delta-Cadinene, 2-Furaldehyde, 2...</td>\n",
       "      <td>{6072, 31260, 10430, 6184, 439341, 61503, 5363...</td>\n",
       "      <td>129</td>\n",
       "    </tr>\n",
       "    <tr>\n",
       "      <th>3</th>\n",
       "      <td>5ca27b9313218a1eabac63d9</td>\n",
       "      <td>Rye Bread</td>\n",
       "      <td>Bakery</td>\n",
       "      <td>[2-Methylbutyl Acetate, 3-methylthiopropanol, ...</td>\n",
       "      <td>[12209, 10448, 5372954, 8468, 643731, 7344, 18...</td>\n",
       "      <td>{3658-77-3, Nonanoic Acid, Damascenone, 2-Meth...</td>\n",
       "      <td>{460, 12020, 72, 8094, 8908, 999, 643731, 7997...</td>\n",
       "      <td>30</td>\n",
       "    </tr>\n",
       "    <tr>\n",
       "      <th>4</th>\n",
       "      <td>5ca27b9413218a1eabac63da</td>\n",
       "      <td>Wheaten Bread</td>\n",
       "      <td>Bakery</td>\n",
       "      <td>[Difurfuryl ether, 2-Undecanone, Octyl acetate...</td>\n",
       "      <td>[263034, 8163, 8164, 12170, 228583, 9589, 6375...</td>\n",
       "      <td>{3-Acetylpyridine, Octyl acetate, Pyrrole, 2-O...</td>\n",
       "      <td>{8164, 8163, 7895, 8027, 26334, 30914, 7958, 2...</td>\n",
       "      <td>30</td>\n",
       "    </tr>\n",
       "  </tbody>\n",
       "</table>\n",
       "</div>"
      ],
      "text/plain": [
       "                        _id       ingredient        catgeory  \\\n",
       "0  5ca27b8f13218a1eabac63d6              Egg  Animal Product   \n",
       "1  5ca27b9113218a1eabac63d7  Bakery Products          Bakery   \n",
       "2  5ca27b9213218a1eabac63d8            Bread          Bakery   \n",
       "3  5ca27b9313218a1eabac63d9        Rye Bread          Bakery   \n",
       "4  5ca27b9413218a1eabac63da    Wheaten Bread          Bakery   \n",
       "\n",
       "                                           molecules  \\\n",
       "0  [L-arginine, 3-Methylindole, 2,5-Dimethylpyraz...   \n",
       "1  [2,3-Dimethylpyrazine, 2,5-Dimethylpyrazine, 2...   \n",
       "2  [coumarin, Methyl Benzoate, 3-Hexanone, Gerani...   \n",
       "3  [2-Methylbutyl Acetate, 3-methylthiopropanol, ...   \n",
       "4  [Difurfuryl ether, 2-Undecanone, Octyl acetate...   \n",
       "\n",
       "                                        molecule_IDs  \\\n",
       "0  [6322, 6736, 31252, 7909, 7284, 7501, 9609, 12...   \n",
       "1          [22201, 31252, 26331, 27457, 7976, 26808]   \n",
       "2  [323, 7150, 11509, 637566, 439341, 33931, 9261...   \n",
       "3  [12209, 10448, 5372954, 8468, 643731, 7344, 18...   \n",
       "4  [263034, 8163, 8164, 12170, 228583, 9589, 6375...   \n",
       "\n",
       "                                       set_molecules  \\\n",
       "0  {2-Methylpyrazine, Nonanal, Octan-2-one, Pyrro...   \n",
       "1  {2-Methylpyrazine, 2-Ethylpyrazine, 2-Ethyl-3-...   \n",
       "2  {Nonanal, (+)-delta-Cadinene, 2-Furaldehyde, 2...   \n",
       "3  {3658-77-3, Nonanoic Acid, Damascenone, 2-Meth...   \n",
       "4  {3-Acetylpyridine, Octyl acetate, Pyrrole, 2-O...   \n",
       "\n",
       "                                    set_molecules_ID  molecule_quantity  \n",
       "0  {12266, 18554, 379, 12020, 612, 12097, 7909, 5...                 55  \n",
       "1          {31252, 26331, 7976, 27457, 22201, 26808}                  6  \n",
       "2  {6072, 31260, 10430, 6184, 439341, 61503, 5363...                129  \n",
       "3  {460, 12020, 72, 8094, 8908, 999, 643731, 7997...                 30  \n",
       "4  {8164, 8163, 7895, 8027, 26334, 30914, 7958, 2...                 30  "
      ]
     },
     "execution_count": 26,
     "metadata": {},
     "output_type": "execute_result"
    }
   ],
   "source": [
    "flavorDB_pandas.head()"
   ]
  },
  {
   "cell_type": "code",
   "execution_count": 22,
   "metadata": {},
   "outputs": [
    {
     "name": "stdout",
     "output_type": "stream",
     "text": [
      "we did it!\n"
     ]
    }
   ],
   "source": [
    "G=nx.Graph()\n",
    "\n",
    "#iterate through each row of flavorDB based on if index is in random sample\n",
    "for index, row in flavorDB_pandas.iterrows():\n",
    "    #set of the ingredient from the \"rows\"\n",
    "    set1= row[\"set_molecules\"]\n",
    "    #name of the ingredient from the \"rows\" \n",
    "    ingredient_1 = row[\"ingredient\"]\n",
    "\n",
    "    if True: # or len(set1) < 5: # To set if you want to consider all ingredients\n",
    "        for molecule in set1:\n",
    "            G.add_node(ingredient_1)\n",
    "            G.node[ingredient_1][\"ingredient_node\"] = True\n",
    "            G.add_node(molecule)\n",
    "            G.node[molecule][\"molecule_node\"] = True\n",
    "            G.add_edge(ingredient_1, molecule)\n",
    "\n",
    "with open('nb_full_graph.pickle', 'wb') as file:\n",
    "    file.write(pickle.dumps(G))\n",
    "    file.close()\n",
    "\n",
    "#Celebratory print statement\n",
    "print(\"we did it!\")"
   ]
  },
  {
   "cell_type": "code",
   "execution_count": 23,
   "metadata": {},
   "outputs": [
    {
     "name": "stdout",
     "output_type": "stream",
     "text": [
      "60027\n",
      "2714\n"
     ]
    }
   ],
   "source": [
    "#Opening the pickled file\n",
    "pickle_in = open(\"nb_full_graph.pickle\",\"rb\")\n",
    "\n",
    "#Getting the dictionary from the pickle\n",
    "pickled_G = pickle.load(pickle_in)\n",
    "\n",
    "#Converting a dictionary of dictionaries to a graph\n",
    "G = pickled_G\n",
    "\n",
    "print(G.number_of_edges())\n",
    "print(G.number_of_nodes())"
   ]
  },
  {
   "cell_type": "code",
   "execution_count": 18,
   "metadata": {},
   "outputs": [
    {
     "name": "stdout",
     "output_type": "stream",
     "text": [
      "we did it!\n"
     ]
    }
   ],
   "source": [
    "#Creation of the Flavor Matrix\n",
    "flavor_matrix_df = defaultdict(dict)\n",
    "\n",
    "#Making a list of random numbers with a certain seed\n",
    "random.seed(50)\n",
    "random_samples_to_972 = random.sample(range(973), 50)\n",
    "random_samples_to_972.sort()\n",
    "\n",
    "G=nx.Graph()\n",
    "\n",
    "#iterate through each row of flavorDB based on if index is in random sample\n",
    "for index, row in flavorDB_pandas.iterrows():\n",
    "    #to see if it is in the random sample\n",
    "    if index in random_samples_to_972:\n",
    "        #might incorporate this might not\n",
    "        list_of_shared_molecules = []\n",
    "        list_of_number_of_shared_molecules = []\n",
    "        \n",
    "        #set of the ingredient from the \"rows\"\n",
    "        set1= row[\"set_molecules\"]\n",
    "        #name of the ingredient from the \"rows\" \n",
    "        ingredient_1 = row[\"ingredient\"]\n",
    "        \n",
    "        if len(set1) < 3:\n",
    "            for molecule in set1:\n",
    "                # flavor_matrix_df[ingredient_1][molecule] = {'weight': 1}\n",
    "                G.add_node(ingredient_1)\n",
    "                G.node[ingredient_1][\"ingredient_node\"] = True\n",
    "                G.add_node(molecule)\n",
    "                G.node[molecule][\"molecule_node\"] = True\n",
    "                G.add_edge(ingredient_1, molecule)\n",
    "\n",
    "with open('nb_subset_graph.pickle', 'wb') as file:\n",
    "    file.write(pickle.dumps(G))\n",
    "    file.close()\n",
    "\n",
    "#Celebratory print statement\n",
    "print(\"we did it!\")"
   ]
  },
  {
   "cell_type": "code",
   "execution_count": 19,
   "metadata": {},
   "outputs": [
    {
     "name": "stdout",
     "output_type": "stream",
     "text": [
      "9\n",
      "8\n"
     ]
    }
   ],
   "source": [
    "#Opening the pickled file\n",
    "pickle_in = open(\"nb_subset_graph.pickle\",\"rb\")\n",
    "\n",
    "#Getting the dictionary from the pickle\n",
    "pickled_G = pickle.load(pickle_in)\n",
    "\n",
    "#Converting a dictionary of dictionaries to a graph\n",
    "G = pickled_G\n",
    "\n",
    "print(G.number_of_edges())\n",
    "print(G.number_of_nodes())\n",
    "\n",
    "\n",
    "\n"
   ]
  },
  {
   "cell_type": "code",
   "execution_count": 20,
   "metadata": {},
   "outputs": [
    {
     "name": "stdout",
     "output_type": "stream",
     "text": [
      "Ingredient nodes ids: dict_keys(['Cedar', 'Florida pompano', 'Leather chiton', 'Walleye', 'Succotash'])\n",
      "Molecule nodes ids: dict_keys(['D-Fenchone', 'CID 644104', 'thiamine'])\n"
     ]
    }
   ],
   "source": [
    "ingredient_nodes = nx.get_node_attributes(G, 'ingredient_node').keys()\n",
    "molecule_nodes = nx.get_node_attributes(G, 'molecule_node').keys()\n",
    "print('Ingredient nodes ids: {}'.format(ingredient_nodes))\n",
    "print('Molecule nodes ids: {}'.format(molecule_nodes))\n"
   ]
  },
  {
   "cell_type": "code",
   "execution_count": 21,
   "metadata": {},
   "outputs": [
    {
     "data": {
      "image/png": "[encoded data removed]",
      "text/plain": [
       "<Figure size 576x432 with 1 Axes>"
      ]
     },
     "metadata": {
      "needs_background": "light"
     },
     "output_type": "display_data"
    }
   ],
   "source": [
    "#Plotting the Graph \n",
    "fig, ax = plt.subplots(1, 1, figsize=(8, 6))\n",
    "nx.draw_networkx(G, ax=ax)\n",
    "plt.show()"
   ]
  },
  {
   "cell_type": "code",
   "execution_count": null,
   "metadata": {},
   "outputs": [],
   "source": []
  }
 ],
 "metadata": {
  "kernelspec": {
   "display_name": "Python 3",
   "language": "python",
   "name": "python3"
  },
  "language_info": {
   "codemirror_mode": {
    "name": "ipython",
    "version": 3
   },
   "file_extension": ".py",
   "mimetype": "text/x-python",
   "name": "python",
   "nbconvert_exporter": "python",
   "pygments_lexer": "ipython3",
   "version": "3.7.1"
  }
 },
 "nbformat": 4,
 "nbformat_minor": 2
}
