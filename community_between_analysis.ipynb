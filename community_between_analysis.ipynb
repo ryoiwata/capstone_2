{
 "cells": [
  {
   "cell_type": "code",
   "execution_count": 4,
   "metadata": {},
   "outputs": [],
   "source": [
    "#Python Library for Dataframe usage\n",
    "import pandas as pd\n",
    "import numpy as np\n",
    "import matplotlib.pyplot as plt\n",
    "\n",
    "#Serializing to a file\n",
    "import _pickle as pickle\n",
    "\n",
    "#Libraries for Graph\n",
    "import networkx as nx\n"
   ]
  },
  {
   "cell_type": "code",
   "execution_count": 5,
   "metadata": {},
   "outputs": [],
   "source": [
    "#Opening the pickled file\n",
    "#Needs to be opened in the recommender folder\n",
    "pickle_in = open(\"./data/graph/molecule_full_graph.pickle\",\"rb\")\n",
    "\n",
    "#Getting the dictionary from the pickle\n",
    "pickled_G = pickle.load(pickle_in)\n",
    "\n",
    "#Converting a dictionary of dictionaries to a graph\n",
    "G = pickled_G"
   ]
  },
  {
   "cell_type": "code",
   "execution_count": null,
   "metadata": {},
   "outputs": [],
   "source": []
  }
 ],
 "metadata": {
  "kernelspec": {
   "display_name": "Python 3",
   "language": "python",
   "name": "python3"
  },
  "language_info": {
   "codemirror_mode": {
    "name": "ipython",
    "version": 3
   },
   "file_extension": ".py",
   "mimetype": "text/x-python",
   "name": "python",
   "nbconvert_exporter": "python",
   "pygments_lexer": "ipython3",
   "version": "3.7.1"
  }
 },
 "nbformat": 4,
 "nbformat_minor": 2
}
