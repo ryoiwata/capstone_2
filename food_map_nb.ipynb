{
 "cells": [
  {
   "cell_type": "code",
   "execution_count": 1,
   "metadata": {},
   "outputs": [],
   "source": [
    "from src.all_functions import *\n",
    "from src.communities.communities import *"
   ]
  },
  {
   "cell_type": "code",
   "execution_count": 2,
   "metadata": {},
   "outputs": [],
   "source": [
    "import _pickle as pickle\n"
   ]
  },
  {
   "cell_type": "code",
   "execution_count": 3,
   "metadata": {},
   "outputs": [],
   "source": [
    "import pandas as pd"
   ]
  },
  {
   "cell_type": "code",
   "execution_count": 4,
   "metadata": {},
   "outputs": [],
   "source": [
    "import networkx as nx\n"
   ]
  },
  {
   "cell_type": "markdown",
   "metadata": {},
   "source": [
    "# Background\n",
    "\n",
    "on food"
   ]
  },
  {
   "cell_type": "markdown",
   "metadata": {},
   "source": [
    "# What I'm Doing\n",
    "\n",
    "Graph theory and some examples\n",
    "social network\n",
    "roads"
   ]
  },
  {
   "cell_type": "markdown",
   "metadata": {},
   "source": [
    "# Why I'm Doing it\n",
    "\n",
    "Because ingredients come together as recipes"
   ]
  },
  {
   "cell_type": "markdown",
   "metadata": {},
   "source": [
    "# Here's What I Did"
   ]
  },
  {
   "cell_type": "markdown",
   "metadata": {},
   "source": [
    "# Webscraping"
   ]
  },
  {
   "cell_type": "markdown",
   "metadata": {},
   "source": [
    "# FlavorDB"
   ]
  },
  {
   "cell_type": "markdown",
   "metadata": {},
   "source": [
    "https://cosylab.iiitd.edu.in/flavordb/entity_details?id=139\n",
    "\n",
    "Screen cap of this"
   ]
  },
  {
   "cell_type": "code",
   "execution_count": 5,
   "metadata": {},
   "outputs": [],
   "source": [
    "pickle_in = open(\"./data/pandas/flavorDB_pandas.pickle\",\"rb\")\n",
    "\n",
    "#Getting the dictionary from the pickle\n",
    "flavorDB = pickle.load(pickle_in)"
   ]
  },
  {
   "cell_type": "code",
   "execution_count": 6,
   "metadata": {
    "scrolled": true
   },
   "outputs": [
    {
     "data": {
      "text/html": [
       "<div>\n",
       "<style scoped>\n",
       "    .dataframe tbody tr th:only-of-type {\n",
       "        vertical-align: middle;\n",
       "    }\n",
       "\n",
       "    .dataframe tbody tr th {\n",
       "        vertical-align: top;\n",
       "    }\n",
       "\n",
       "    .dataframe thead th {\n",
       "        text-align: right;\n",
       "    }\n",
       "</style>\n",
       "<table border=\"1\" class=\"dataframe\">\n",
       "  <thead>\n",
       "    <tr style=\"text-align: right;\">\n",
       "      <th></th>\n",
       "      <th>_id</th>\n",
       "      <th>category</th>\n",
       "      <th>flavor_of_molecules</th>\n",
       "      <th>ingredient</th>\n",
       "      <th>molecule_IDs</th>\n",
       "      <th>molecules</th>\n",
       "      <th>set_molecules</th>\n",
       "      <th>set_molecules_ID</th>\n",
       "      <th>molecule_quantity</th>\n",
       "    </tr>\n",
       "  </thead>\n",
       "  <tbody>\n",
       "    <tr>\n",
       "      <th>127</th>\n",
       "      <td>5ca27ddc13218a1eabac6455</td>\n",
       "      <td>Berry</td>\n",
       "      <td>[[sweet,  new mown hay,  green,  tonka,  bitte...</td>\n",
       "      <td>sea buckthorns</td>\n",
       "      <td>[323, 107971, 7284, 10448, 7150, 638011, 8468,...</td>\n",
       "      <td>[coumarin, Daidzin, 2-Methylbutyraldehyde, 3-m...</td>\n",
       "      <td>{cis-3-Hexenal, Isopentyl octanoate, coumarin,...</td>\n",
       "      <td>{5363388, 650, 107971, 11128, 7858, 7775, 323,...</td>\n",
       "      <td>113</td>\n",
       "    </tr>\n",
       "    <tr>\n",
       "      <th>133</th>\n",
       "      <td>5ca27de313218a1eabac645b</td>\n",
       "      <td>Seafood</td>\n",
       "      <td>[[cherry,  caramel,  nut,  phenolic], [apple, ...</td>\n",
       "      <td>clam</td>\n",
       "      <td>[14511, 8785, 8193, 8163, 8063, 9862, 7909, 79...</td>\n",
       "      <td>[3-Methyl-2-Cyclohexen-1-One, Benzyl Acetate, ...</td>\n",
       "      <td>{3-Ethylpyridine, 3-Methyl-2-Cyclohexen-1-One,...</td>\n",
       "      <td>{12020, 26334, 8129, 9862, 998, 32093, 14511, ...</td>\n",
       "      <td>61</td>\n",
       "    </tr>\n",
       "    <tr>\n",
       "      <th>134</th>\n",
       "      <td>5ca27de513218a1eabac645c</td>\n",
       "      <td>Seafood</td>\n",
       "      <td>[[coconut,  wax,  fat,  waxy,  fatty,  earthy,...</td>\n",
       "      <td>crab</td>\n",
       "      <td>[8193, 8063, 5281, 7909, 7501, 7519, 8051, 188...</td>\n",
       "      <td>[1-Dodecanol, Pentanal, stearic acid, 4-Methyl...</td>\n",
       "      <td>{3,5,5-Trimethylhexan-1-ol, Thiazole, Anisole,...</td>\n",
       "      <td>{5311110, 8129, 1130, 454, 9256, 26808, 8094, ...</td>\n",
       "      <td>38</td>\n",
       "    </tr>\n",
       "    <tr>\n",
       "      <th>135</th>\n",
       "      <td>5ca27de613218a1eabac645d</td>\n",
       "      <td>Seafood</td>\n",
       "      <td>[[orange,  waxy,  fresh,  fatty,  floral,  iri...</td>\n",
       "      <td>crayfish</td>\n",
       "      <td>[8163, 5283321, 7501, 8051, 18635, 7002, 454, ...</td>\n",
       "      <td>[2-Undecanone, trans,trans-2,4-Heptadienal, St...</td>\n",
       "      <td>{Thiazole, cis-2-Penten-1-ol, Octan-2-one, 2-E...</td>\n",
       "      <td>{8129, 18635, 1130, 5283321, 454, 9256, 26808,...</td>\n",
       "      <td>32</td>\n",
       "    </tr>\n",
       "    <tr>\n",
       "      <th>136</th>\n",
       "      <td>5ca27de713218a1eabac645e</td>\n",
       "      <td>Seafood</td>\n",
       "      <td>[[sweet,  new mown hay,  green,  tonka,  bitte...</td>\n",
       "      <td>kelp</td>\n",
       "      <td>[323, 107971, 7284, 10448, 7150, 638011, 64373...</td>\n",
       "      <td>[coumarin, Daidzin, 2-Methylbutyraldehyde, 3-m...</td>\n",
       "      <td>{cis-3-Hexenal, coumarin, 3-(Methylthio)propio...</td>\n",
       "      <td>{5363388, 650, 107971, 11128, 7858, 323, 15490...</td>\n",
       "      <td>104</td>\n",
       "    </tr>\n",
       "    <tr>\n",
       "      <th>137</th>\n",
       "      <td>5ca27de813218a1eabac645f</td>\n",
       "      <td>Seafood</td>\n",
       "      <td>[[fat,  fatty,  fruit,  fruity,  grassy,  mush...</td>\n",
       "      <td>krill</td>\n",
       "      <td>[5352876, 6560, 18827, 18635, 24115, 61295, 62...</td>\n",
       "      <td>[3,5-Octadien-2-one, 2-Methyl-1-propanol, 1-Oc...</td>\n",
       "      <td>{S-Propyl thioacetate, 2-Methoxypyrazine, 3-Et...</td>\n",
       "      <td>{61845, 5321950, 5352876, 18635, 6560, 24115, ...</td>\n",
       "      <td>22</td>\n",
       "    </tr>\n",
       "    <tr>\n",
       "      <th>138</th>\n",
       "      <td>5ca27dea13218a1eabac6460</td>\n",
       "      <td>Seafood</td>\n",
       "      <td>[[lemon,  citrus,  soap,  orange peel,  fat,  ...</td>\n",
       "      <td>lobster</td>\n",
       "      <td>[454, 15380, 6202, 644104, 8094, 1130]</td>\n",
       "      <td>[Octanal, Bis(methylthio)methane, Thiamine Hyd...</td>\n",
       "      <td>{Thiamine Hydrochloride, CID 644104, Bis(methy...</td>\n",
       "      <td>{15380, 1130, 644104, 454, 6202, 8094}</td>\n",
       "      <td>6</td>\n",
       "    </tr>\n",
       "    <tr>\n",
       "      <th>139</th>\n",
       "      <td>5ca27deb13218a1eabac6461</td>\n",
       "      <td>Seafood</td>\n",
       "      <td>[[alcohol,  rose,  pungent,  cognac,  green,  ...</td>\n",
       "      <td>mollusc</td>\n",
       "      <td>[8025, 6202, 7749, 7945, 644104, 8094, 429065,...</td>\n",
       "      <td>[Ethyl Formate, Thiamine Hydrochloride, Ethyl ...</td>\n",
       "      <td>{Ethyl Crotonate, Methyl octanoate, Methyl Pro...</td>\n",
       "      <td>{7826, 1130, 8158, 7749, 11124, 429065, 31284,...</td>\n",
       "      <td>20</td>\n",
       "    </tr>\n",
       "    <tr>\n",
       "      <th>140</th>\n",
       "      <td>5ca27dec13218a1eabac6462</td>\n",
       "      <td>Seafood</td>\n",
       "      <td>[[hazelnut,  cinnamon], [fatty,  mushroom,  ch...</td>\n",
       "      <td>oyster</td>\n",
       "      <td>[5283321, 679, 5352876, 8051, 643731, 18827, 5...</td>\n",
       "      <td>[trans,trans-2,4-Heptadienal, dimethyl sulfoxi...</td>\n",
       "      <td>{trimethylamine, Ethyl Vinyl Ketone, 1-Octen-3...</td>\n",
       "      <td>{12020, 5352876, 1130, 5283321, 454, 1123, 312...</td>\n",
       "      <td>29</td>\n",
       "    </tr>\n",
       "    <tr>\n",
       "      <th>141</th>\n",
       "      <td>5ca27ded13218a1eabac6463</td>\n",
       "      <td>Seafood</td>\n",
       "      <td>[[sulfur,  sulfurous,  garlic,  green,  horser...</td>\n",
       "      <td>prawn</td>\n",
       "      <td>[15380]</td>\n",
       "      <td>[Bis(methylthio)methane]</td>\n",
       "      <td>{Bis(methylthio)methane}</td>\n",
       "      <td>{15380}</td>\n",
       "      <td>1</td>\n",
       "    </tr>\n",
       "    <tr>\n",
       "      <th>142</th>\n",
       "      <td>5ca27def13218a1eabac6464</td>\n",
       "      <td>Seafood</td>\n",
       "      <td>[[bready,  fermented,  berry,  malt,  pungent,...</td>\n",
       "      <td>scallop</td>\n",
       "      <td>[8063, 7302, 8180, 7284, 31291, 18827, 18635, ...</td>\n",
       "      <td>[Pentanal, gamma-Butyrolactone, Undecanoic Aci...</td>\n",
       "      <td>{Isobutyric Acid, Tetradecanoic acid, trimethy...</td>\n",
       "      <td>{12020, 6590, 18635, 1130, 32093, 8158, 1123, ...</td>\n",
       "      <td>41</td>\n",
       "    </tr>\n",
       "    <tr>\n",
       "      <th>143</th>\n",
       "      <td>5ca27df013218a1eabac6465</td>\n",
       "      <td>Seafood</td>\n",
       "      <td>[[sulfur,  cabbage,  sulfurous,  onion,  fish,...</td>\n",
       "      <td>shellfish</td>\n",
       "      <td>[19310, 57346909]</td>\n",
       "      <td>[Dimethyl trisulfide, 4H-Pyrrolo[2,1-d]-1,3,5-...</td>\n",
       "      <td>{4H-Pyrrolo[2,1-d]-1,3,5-dithiazine,tetrahydro...</td>\n",
       "      <td>{19310, 57346909}</td>\n",
       "      <td>2</td>\n",
       "    </tr>\n",
       "    <tr>\n",
       "      <th>144</th>\n",
       "      <td>5ca27df113218a1eabac6466</td>\n",
       "      <td>Seafood</td>\n",
       "      <td>[[orange,  waxy,  fresh,  fatty,  floral,  iri...</td>\n",
       "      <td>shrimp</td>\n",
       "      <td>[8163, 8063, 5281, 31252, 679, 5365004, 535287...</td>\n",
       "      <td>[2-Undecanone, Pentanal, stearic acid, 2,5-Dim...</td>\n",
       "      <td>{2-(Methylthio)ethanol, Isobutyric Acid, 5-Met...</td>\n",
       "      <td>{26334, 12020, 62444, 5311110, 6590, 5321950, ...</td>\n",
       "      <td>76</td>\n",
       "    </tr>\n",
       "    <tr>\n",
       "      <th>145</th>\n",
       "      <td>5ca27df313218a1eabac6467</td>\n",
       "      <td>Seafood</td>\n",
       "      <td>[[very strong,  mothball,  animal,  fecal,  in...</td>\n",
       "      <td>trassi</td>\n",
       "      <td>[6736, 7909, 7501, 7284, 31291, 7002, 246728, ...</td>\n",
       "      <td>[3-Methylindole, 4-Methyl-2-pentanone, Styrene...</td>\n",
       "      <td>{Octan-2-one, 2-Methylbutyraldehyde, 2-Pentano...</td>\n",
       "      <td>{31245, 998, 454, 26808, 5364752, 996, 7909, 3...</td>\n",
       "      <td>28</td>\n",
       "    </tr>\n",
       "    <tr>\n",
       "      <th>146</th>\n",
       "      <td>5ca27e3313218a1eabac6468</td>\n",
       "      <td>Fish</td>\n",
       "      <td>[[lilac,  hawthorn], [cherry,  caramel,  nut, ...</td>\n",
       "      <td>bonito</td>\n",
       "      <td>[7148, 14511, 7043, 6736, 9862, 125468, 18522,...</td>\n",
       "      <td>[Propiophenone, 3-Methyl-2-Cyclohexen-1-One, 1...</td>\n",
       "      <td>{1,2-Dimethoxybenzene, Isobutyric Acid, Thiazo...</td>\n",
       "      <td>{17691, 6590, 61712, 5352876, 18635, 9862, 125...</td>\n",
       "      <td>60</td>\n",
       "    </tr>\n",
       "    <tr>\n",
       "      <th>147</th>\n",
       "      <td>5ca27e3413218a1eabac6469</td>\n",
       "      <td>Fish</td>\n",
       "      <td>[[orange,  waxy,  fresh,  fatty,  floral,  iri...</td>\n",
       "      <td>caviar</td>\n",
       "      <td>[8163, 8063, 5283321, 5283349, 8051, 5283324, ...</td>\n",
       "      <td>[2-Undecanone, Pentanal, trans,trans-2,4-Hepta...</td>\n",
       "      <td>{Butylamine, Octan-2-one, trimethylamine, (E)-...</td>\n",
       "      <td>{8186, 5283321, 5283316, 7894, 5364752, 637564...</td>\n",
       "      <td>26</td>\n",
       "    </tr>\n",
       "    <tr>\n",
       "      <th>148</th>\n",
       "      <td>5ca27e3513218a1eabac646a</td>\n",
       "      <td>Fish</td>\n",
       "      <td>[[mild,  sour,  bitter], [grassy,  very mild],...</td>\n",
       "      <td>codfish</td>\n",
       "      <td>[6202, 644104, 1123, 8094, 402, 1130, 247]</td>\n",
       "      <td>[Thiamine Hydrochloride, CID 644104, taurine, ...</td>\n",
       "      <td>{Thiamine Hydrochloride, taurine, hydrogen sul...</td>\n",
       "      <td>{247, 1130, 644104, 1123, 6202, 8094, 402}</td>\n",
       "      <td>7</td>\n",
       "    </tr>\n",
       "    <tr>\n",
       "      <th>149</th>\n",
       "      <td>5ca27e3713218a1eabac646b</td>\n",
       "      <td>Fish</td>\n",
       "      <td>[[fragrant,  bread,  woody,  sweet,  baked,  a...</td>\n",
       "      <td>fish</td>\n",
       "      <td>[7362, 5283349, 61346, 5352876, 8051, 643731, ...</td>\n",
       "      <td>[2-Furaldehyde, (2E,4E)-deca-2,4-dienal, 1-Oct...</td>\n",
       "      <td>{trans-2-Hexenal, Isobutyric Acid, Butylamine,...</td>\n",
       "      <td>{12020, 6590, 5352876, 8186, 11449, 454, 1123,...</td>\n",
       "      <td>47</td>\n",
       "    </tr>\n",
       "    <tr>\n",
       "      <th>150</th>\n",
       "      <td>5ca27e3813218a1eabac646c</td>\n",
       "      <td>Fish</td>\n",
       "      <td>[[orange,  waxy,  fresh,  fatty,  floral,  iri...</td>\n",
       "      <td>fatty fish</td>\n",
       "      <td>[8163, 6736, 8063, 5281, 7284, 34286, 1031, 98...</td>\n",
       "      <td>[2-Undecanone, 3-Methylindole, Pentanal, stear...</td>\n",
       "      <td>{Octan-2-one, trimethylamine, 2,6-Dimethoxy-4-...</td>\n",
       "      <td>{985, 8103, 853433, 8186, 5283316, 26808, 402,...</td>\n",
       "      <td>38</td>\n",
       "    </tr>\n",
       "    <tr>\n",
       "      <th>151</th>\n",
       "      <td>5ca27e3913218a1eabac646d</td>\n",
       "      <td>Fish</td>\n",
       "      <td>[[citrus,  soap,  orange peel,  tallow,  waxy,...</td>\n",
       "      <td>lean fish</td>\n",
       "      <td>[8175, 15394, 7802, 5281, 5283321, 2879, 63668...</td>\n",
       "      <td>[Decanal, Ethyl Vinyl Ketone, 3-Heptanone, ste...</td>\n",
       "      <td>{trans,trans-2,4-Heptadienal, 2,6-Nonadienal, ...</td>\n",
       "      <td>{15394, 636687, 5281, 875, 1032, 7284, 5283321...</td>\n",
       "      <td>18</td>\n",
       "    </tr>\n",
       "    <tr>\n",
       "      <th>152</th>\n",
       "      <td>5ca27e3a13218a1eabac646e</td>\n",
       "      <td>Fish</td>\n",
       "      <td>[[bready,  fermented,  berry,  malt,  pungent,...</td>\n",
       "      <td>fish oil</td>\n",
       "      <td>[8063, 7501, 5352876, 1031, 6560, 643731, 1960...</td>\n",
       "      <td>[Pentanal, Styrene, 3,5-Octadien-2-one, 1-prop...</td>\n",
       "      <td>{S-Methyl 4-methylpentanethioate, S-Methyl thi...</td>\n",
       "      <td>{12020, 62444, 15380, 5352876, 6560, 454, 8094...</td>\n",
       "      <td>23</td>\n",
       "    </tr>\n",
       "    <tr>\n",
       "      <th>153</th>\n",
       "      <td>5ca27e3c13218a1eabac646f</td>\n",
       "      <td>Fish</td>\n",
       "      <td>[[bean,  fruit,  sweet,  coffee], [phenolic,  ...</td>\n",
       "      <td>smoked fish</td>\n",
       "      <td>[25915, 7144, 18554, 12020, 460, 17739, 528332...</td>\n",
       "      <td>[2-Ethyl-5-Methylpyrazine, 2-Methoxy-4-Methylp...</td>\n",
       "      <td>{4'-Methylacetophenone, trans,trans-2,4-Heptad...</td>\n",
       "      <td>{12020, 7144, 18522, 62465, 3314, 25915, 52833...</td>\n",
       "      <td>15</td>\n",
       "    </tr>\n",
       "    <tr>\n",
       "      <th>154</th>\n",
       "      <td>5ca27e3d13218a1eabac6470</td>\n",
       "      <td>Fish</td>\n",
       "      <td>[[hazelnut,  cinnamon], [green,  fatty,  melon...</td>\n",
       "      <td>salmon</td>\n",
       "      <td>[5283321, 5283329, 5283339, 1130, 5364752, 61712]</td>\n",
       "      <td>[trans,trans-2,4-Heptadienal, (2E,4E)-Octa-2,4...</td>\n",
       "      <td>{trans,trans-2,4-Heptadienal, (2E,4E)-Octa-2,4...</td>\n",
       "      <td>{61712, 1130, 5283321, 5283329, 5283339, 5364752}</td>\n",
       "      <td>6</td>\n",
       "    </tr>\n",
       "    <tr>\n",
       "      <th>160</th>\n",
       "      <td>5ca27e4513218a1eabac6476</td>\n",
       "      <td>Fruit</td>\n",
       "      <td>[[bland], [powdery,  vanilla,  bean,  milky,  ...</td>\n",
       "      <td>apple</td>\n",
       "      <td>[6436017, 8468, 8073, 439341, 8052, 753, 7997,...</td>\n",
       "      <td>[1-Popc, Vanillic acid, Propyl Formate, alpha-...</td>\n",
       "      <td>{Anisole, 3025-30-7, cis-3-Hexenal, Ethyl cis-...</td>\n",
       "      <td>{5363388, 650, 107971, 11128, 7858, 7775, 3128...</td>\n",
       "      <td>300</td>\n",
       "    </tr>\n",
       "    <tr>\n",
       "      <th>161</th>\n",
       "      <td>5ca27e4613218a1eabac6477</td>\n",
       "      <td>Fruit</td>\n",
       "      <td>[[Not Available]]</td>\n",
       "      <td>apple sauce</td>\n",
       "      <td>[5311110]</td>\n",
       "      <td>[50-69-1]</td>\n",
       "      <td>{50-69-1}</td>\n",
       "      <td>{5311110}</td>\n",
       "      <td>1</td>\n",
       "    </tr>\n",
       "    <tr>\n",
       "      <th>162</th>\n",
       "      <td>5ca27e4813218a1eabac6478</td>\n",
       "      <td>Fruit</td>\n",
       "      <td>[[hop_oil,  apricot,  whiskey,  banana,  tropi...</td>\n",
       "      <td>apricot</td>\n",
       "      <td>[7795, 22873, 323, 16617, 107971, 12209, 12810...</td>\n",
       "      <td>[Isoamyl butyrate, Hexyl Hexanoate, coumarin, ...</td>\n",
       "      <td>{DL-Tartaric acid, Nerol oxide, cis-3-Hexenal,...</td>\n",
       "      <td>{5363388, 650, 107971, 11128, 7858, 7775, 323,...</td>\n",
       "      <td>207</td>\n",
       "    </tr>\n",
       "    <tr>\n",
       "      <th>163</th>\n",
       "      <td>5ca27e4913218a1eabac6479</td>\n",
       "      <td>Fruit</td>\n",
       "      <td>[[bland], [sweet,  new mown hay,  green,  tonk...</td>\n",
       "      <td>avocado</td>\n",
       "      <td>[6436017, 323, 7150, 11509, 637566, 439341, 33...</td>\n",
       "      <td>[1-Popc, coumarin, Methyl Benzoate, 3-Hexanone...</td>\n",
       "      <td>{DL-Tartaric acid, cis-3-Hexenal, coumarin, 3-...</td>\n",
       "      <td>{5363388, 650, 107971, 11128, 7858, 323, 15490...</td>\n",
       "      <td>134</td>\n",
       "    </tr>\n",
       "    <tr>\n",
       "      <th>164</th>\n",
       "      <td>5ca27e4a13218a1eabac647a</td>\n",
       "      <td>Fruit</td>\n",
       "      <td>[[chamomile,  floral,  sweet,  tropical,  frui...</td>\n",
       "      <td>babaco</td>\n",
       "      <td>[62592, 61386, 8635, 7824, 8868, 13204, 535254...</td>\n",
       "      <td>[Heptyl butyrate, Isoamyl laurate, Methyl Anth...</td>\n",
       "      <td>{Methyl Hexanoate, Methyl Anthranilate, Octyl ...</td>\n",
       "      <td>{228769, 61024, 5355856, 8130, 7824, 5365992, ...</td>\n",
       "      <td>17</td>\n",
       "    </tr>\n",
       "    <tr>\n",
       "      <th>165</th>\n",
       "      <td>5ca27e4c13218a1eabac647b</td>\n",
       "      <td>Fruit</td>\n",
       "      <td>[[fat,  herbal,  fresh,  earthy,  woody,  mush...</td>\n",
       "      <td>banana</td>\n",
       "      <td>[20083, 7795, 22873, 16617, 323, 107971, 53645...</td>\n",
       "      <td>[Octan-2-ol, Isoamyl butyrate, Hexyl Hexanoate...</td>\n",
       "      <td>{Propyl Isovalerate, cis-3-Hexenal, Isopentyl ...</td>\n",
       "      <td>{5363388, 650, 519786, 107971, 11128, 7858, 77...</td>\n",
       "      <td>206</td>\n",
       "    </tr>\n",
       "    <tr>\n",
       "      <th>166</th>\n",
       "      <td>5ca27e4d13218a1eabac647c</td>\n",
       "      <td>Fruit</td>\n",
       "      <td>[[mint,  rose,  green,  plant,  raspberry,  pl...</td>\n",
       "      <td>beli</td>\n",
       "      <td>[30771, 637520, 5352543]</td>\n",
       "      <td>[2-Cyclohexylethyl acetate, Methyl cinnamate, ...</td>\n",
       "      <td>{2-Cyclohexylethyl acetate, Methyl cinnamate, ...</td>\n",
       "      <td>{5352543, 637520, 30771}</td>\n",
       "      <td>3</td>\n",
       "    </tr>\n",
       "    <tr>\n",
       "      <th>167</th>\n",
       "      <td>5ca27e4e13218a1eabac647d</td>\n",
       "      <td>Fruit</td>\n",
       "      <td>[[caraway,  grassy,  green]]</td>\n",
       "      <td>byrsonima crassifolia</td>\n",
       "      <td>[5364578]</td>\n",
       "      <td>[3-Hepten-2-One]</td>\n",
       "      <td>{3-Hepten-2-One}</td>\n",
       "      <td>{5364578}</td>\n",
       "      <td>1</td>\n",
       "    </tr>\n",
       "    <tr>\n",
       "      <th>168</th>\n",
       "      <td>5ca27e4f13218a1eabac647e</td>\n",
       "      <td>Fruit</td>\n",
       "      <td>[[fruity,  pineapple], [hop_oil,  apricot,  wh...</td>\n",
       "      <td>cashew apple</td>\n",
       "      <td>[560255, 7795, 6274, 7824, 7150, 10430, 13357]</td>\n",
       "      <td>[Ethyl 3-methylpentanoate, Isoamyl butyrate, L...</td>\n",
       "      <td>{Methyl Hexanoate, Methyl Benzoate, L-histidin...</td>\n",
       "      <td>{7824, 6274, 560255, 13357, 10430, 7795, 7150}</td>\n",
       "      <td>7</td>\n",
       "    </tr>\n",
       "    <tr>\n",
       "      <th>169</th>\n",
       "      <td>5ca27e5113218a1eabac647f</td>\n",
       "      <td>Fruit</td>\n",
       "      <td>[[hop_oil,  apricot,  whiskey,  banana,  tropi...</td>\n",
       "      <td>cherimoya</td>\n",
       "      <td>[7795, 323, 16617, 6989, 7150, 11509, 12613, 6...</td>\n",
       "      <td>[Isoamyl butyrate, coumarin, Isopentyl hexanoa...</td>\n",
       "      <td>{DL-Tartaric acid, cis-3-Hexenal, coumarin, He...</td>\n",
       "      <td>{5363388, 61098, 650, 519786, 107971, 11128, 7...</td>\n",
       "      <td>166</td>\n",
       "    </tr>\n",
       "    <tr>\n",
       "      <th>170</th>\n",
       "      <td>5ca27e5213218a1eabac6480</td>\n",
       "      <td>Fruit</td>\n",
       "      <td>[[hop_oil,  apricot,  whiskey,  banana,  tropi...</td>\n",
       "      <td>coconut</td>\n",
       "      <td>[7795, 20083, 323, 7150, 8468, 11509, 637566, ...</td>\n",
       "      <td>[Isoamyl butyrate, Octan-2-ol, coumarin, Methy...</td>\n",
       "      <td>{cis-3-Hexenal, coumarin, 2-Pentanol, 3-(Methy...</td>\n",
       "      <td>{5363388, 650, 107971, 11128, 7858, 31284, 154...</td>\n",
       "      <td>161</td>\n",
       "    </tr>\n",
       "    <tr>\n",
       "      <th>171</th>\n",
       "      <td>5ca27e5413218a1eabac6481</td>\n",
       "      <td>Fruit</td>\n",
       "      <td>[[orange,  waxy,  fresh,  fatty,  floral,  iri...</td>\n",
       "      <td>currant</td>\n",
       "      <td>[8163, 61020, 7501, 12508, 170833, 6560, 18827...</td>\n",
       "      <td>[2-Undecanone, 3-Methyl-2-butenal, Styrene, Is...</td>\n",
       "      <td>{nerol, Isobutyric Acid, delta-Octanolactone, ...</td>\n",
       "      <td>{6590, 8129, 6560, 7710, 31289, 8914, 31276, 7...</td>\n",
       "      <td>37</td>\n",
       "    </tr>\n",
       "    <tr>\n",
       "      <th>172</th>\n",
       "      <td>5ca27e5513218a1eabac6482</td>\n",
       "      <td>Fruit</td>\n",
       "      <td>[[hop_oil,  apricot,  whiskey,  banana,  tropi...</td>\n",
       "      <td>black currant</td>\n",
       "      <td>[7795, 526195, 323, 107971, 7501, 7284, 10448,...</td>\n",
       "      <td>[Isoamyl butyrate, 4-Methoxy-2-methyl-2-butane...</td>\n",
       "      <td>{cis-3-Hexenal, coumarin, 1-p-Menthen-9-al, 2-...</td>\n",
       "      <td>{5363388, 26049, 650, 107971, 11128, 7858, 323...</td>\n",
       "      <td>213</td>\n",
       "    </tr>\n",
       "    <tr>\n",
       "      <th>173</th>\n",
       "      <td>5ca27e5613218a1eabac6483</td>\n",
       "      <td>Fruit</td>\n",
       "      <td>[[sweet,  new mown hay,  green,  tonka,  bitte...</td>\n",
       "      <td>red currant</td>\n",
       "      <td>[323, 7150, 11509, 637566, 439341, 33931, 6072...</td>\n",
       "      <td>[coumarin, Methyl Benzoate, 3-Hexanone, Gerani...</td>\n",
       "      <td>{DL-Tartaric acid, cis-3-Hexenal, coumarin, Is...</td>\n",
       "      <td>{5363388, 650, 107971, 11128, 7858, 323, 15490...</td>\n",
       "      <td>143</td>\n",
       "    </tr>\n",
       "    <tr>\n",
       "      <th>174</th>\n",
       "      <td>5ca27e5813218a1eabac6484</td>\n",
       "      <td>Fruit</td>\n",
       "      <td>[[orange,  waxy,  fresh,  fatty,  floral,  iri...</td>\n",
       "      <td>white currant</td>\n",
       "      <td>[8163, 61020, 7501, 12508, 170833, 6560, 18827...</td>\n",
       "      <td>[2-Undecanone, 3-Methyl-2-butenal, Styrene, Is...</td>\n",
       "      <td>{nerol, Isobutyric Acid, delta-Octanolactone, ...</td>\n",
       "      <td>{6590, 8129, 6560, 7710, 31289, 8914, 31276, 7...</td>\n",
       "      <td>37</td>\n",
       "    </tr>\n",
       "    <tr>\n",
       "      <th>175</th>\n",
       "      <td>5ca27e5913218a1eabac6485</td>\n",
       "      <td>Fruit</td>\n",
       "      <td>[[sweet,  new mown hay,  green,  tonka,  bitte...</td>\n",
       "      <td>dates</td>\n",
       "      <td>[323, 107971, 7284, 10448, 7150, 638011, 8468,...</td>\n",
       "      <td>[coumarin, Daidzin, 2-Methylbutyraldehyde, 3-m...</td>\n",
       "      <td>{cis-3-Hexenal, coumarin, 3-(Methylthio)propio...</td>\n",
       "      <td>{5363388, 650, 107971, 11128, 7858, 323, 15490...</td>\n",
       "      <td>101</td>\n",
       "    </tr>\n",
       "    <tr>\n",
       "      <th>176</th>\n",
       "      <td>5ca27e5b13218a1eabac6486</td>\n",
       "      <td>Fruit</td>\n",
       "      <td>[[sweet,  new mown hay,  green,  tonka,  bitte...</td>\n",
       "      <td>durian</td>\n",
       "      <td>[323, 7150, 11509, 637566, 78199, 12748, 43934...</td>\n",
       "      <td>[coumarin, Methyl Benzoate, 3-Hexanone, Gerani...</td>\n",
       "      <td>{Isopropenylpyrazine, 3025-30-7, cis-3-Hexenal...</td>\n",
       "      <td>{5363388, 7921, 650, 12748, 107971, 11128, 785...</td>\n",
       "      <td>138</td>\n",
       "    </tr>\n",
       "    <tr>\n",
       "      <th>178</th>\n",
       "      <td>5ca27e5d13218a1eabac6488</td>\n",
       "      <td>Fruit</td>\n",
       "      <td>[[sweet,  new mown hay,  green,  tonka,  bitte...</td>\n",
       "      <td>feijoa</td>\n",
       "      <td>[323, 107971, 7284, 10448, 7150, 638011, 11509...</td>\n",
       "      <td>[coumarin, Daidzin, 2-Methylbutyraldehyde, 3-m...</td>\n",
       "      <td>{cis-3-Hexenal, coumarin, 3-(Methylthio)propio...</td>\n",
       "      <td>{5363388, 650, 519786, 107971, 11128, 7858, 60...</td>\n",
       "      <td>106</td>\n",
       "    </tr>\n",
       "    <tr>\n",
       "      <th>179</th>\n",
       "      <td>5ca27e5f13218a1eabac6489</td>\n",
       "      <td>Fruit</td>\n",
       "      <td>[[bland], [sweet,  new mown hay,  green,  tonk...</td>\n",
       "      <td>fig</td>\n",
       "      <td>[6436017, 323, 7150, 8468, 11509, 637566, 4393...</td>\n",
       "      <td>[1-Popc, coumarin, Methyl Benzoate, Vanillic a...</td>\n",
       "      <td>{DL-Tartaric acid, Nerylacetone, cis-3-Hexenal...</td>\n",
       "      <td>{5363388, 650, 107971, 11128, 7858, 323, 15490...</td>\n",
       "      <td>168</td>\n",
       "    </tr>\n",
       "    <tr>\n",
       "      <th>180</th>\n",
       "      <td>5ca27e6113218a1eabac648a</td>\n",
       "      <td>Fruit</td>\n",
       "      <td>[[geranium,  phenolic,  green,  leaf], [bland]...</td>\n",
       "      <td>grape</td>\n",
       "      <td>[7583, 6436017, 7795, 22873, 323, 16617, 10797...</td>\n",
       "      <td>[Diphenyl oxide, 1-Popc, Isoamyl butyrate, Hex...</td>\n",
       "      <td>{1,2-Dimethoxybenzene, DL-Tartaric acid, cis-3...</td>\n",
       "      <td>{5363388, 11559, 650, 519786, 107971, 11128, 7...</td>\n",
       "      <td>261</td>\n",
       "    </tr>\n",
       "    <tr>\n",
       "      <th>181</th>\n",
       "      <td>5ca27e6213218a1eabac648b</td>\n",
       "      <td>Fruit</td>\n",
       "      <td>[[hop_oil,  apricot,  whiskey,  banana,  tropi...</td>\n",
       "      <td>guava</td>\n",
       "      <td>[7795, 5352543, 22873, 10558, 323, 107971, 750...</td>\n",
       "      <td>[Isoamyl butyrate, cis-3-Hexenyl hexanoate, He...</td>\n",
       "      <td>{1,2-Dimethoxybenzene, Beta-Terpineol, cis-3-H...</td>\n",
       "      <td>{5363388, 15094, 62572, 650, 107971, 11128, 78...</td>\n",
       "      <td>259</td>\n",
       "    </tr>\n",
       "    <tr>\n",
       "      <th>182</th>\n",
       "      <td>5ca27e6413218a1eabac648c</td>\n",
       "      <td>Fruit</td>\n",
       "      <td>[[peach,  vegetable,  herbal,  apple peel,  fr...</td>\n",
       "      <td>hogplum</td>\n",
       "      <td>[22873, 323, 107971, 7284, 10448, 7150, 638011...</td>\n",
       "      <td>[Hexyl Hexanoate, coumarin, Daidzin, 2-Methylb...</td>\n",
       "      <td>{cis-3-Hexenal, coumarin, 3-(Methylthio)propio...</td>\n",
       "      <td>{5363388, 62572, 650, 107971, 11128, 7858, 323...</td>\n",
       "      <td>102</td>\n",
       "    </tr>\n",
       "    <tr>\n",
       "      <th>183</th>\n",
       "      <td>5ca27e6513218a1eabac648d</td>\n",
       "      <td>Fruit</td>\n",
       "      <td>[[sweet,  new mown hay,  green,  tonka,  bitte...</td>\n",
       "      <td>jackfruit</td>\n",
       "      <td>[323, 107971, 7284, 10448, 7150, 638011, 11509...</td>\n",
       "      <td>[coumarin, Daidzin, 2-Methylbutyraldehyde, 3-m...</td>\n",
       "      <td>{Propyl Isovalerate, cis-3-Hexenal, coumarin, ...</td>\n",
       "      <td>{5363388, 650, 519786, 107971, 11128, 7858, 32...</td>\n",
       "      <td>107</td>\n",
       "    </tr>\n",
       "    <tr>\n",
       "      <th>184</th>\n",
       "      <td>5ca27e6713218a1eabac648e</td>\n",
       "      <td>Fruit</td>\n",
       "      <td>[[sweet,  new mown hay,  green,  tonka,  bitte...</td>\n",
       "      <td>kiwifruit</td>\n",
       "      <td>[323, 7150, 11509, 637566, 78199, 439341, 3393...</td>\n",
       "      <td>[coumarin, Methyl Benzoate, 3-Hexanone, Gerani...</td>\n",
       "      <td>{Ethyl 3-Hexenoate, cis-2-Penten-1-ol, cis-3-H...</td>\n",
       "      <td>{5363388, 650, 107971, 11128, 7858, 323, 15490...</td>\n",
       "      <td>147</td>\n",
       "    </tr>\n",
       "    <tr>\n",
       "      <th>185</th>\n",
       "      <td>5ca27e6813218a1eabac648f</td>\n",
       "      <td>Fruit</td>\n",
       "      <td>[[sweet,  new mown hay,  green,  tonka,  bitte...</td>\n",
       "      <td>litchi</td>\n",
       "      <td>[323, 107971, 7284, 10448, 7150, 638011, 6560,...</td>\n",
       "      <td>[coumarin, Daidzin, 2-Methylbutyraldehyde, 3-m...</td>\n",
       "      <td>{cis-3-Hexenal, coumarin, 3-(Methylthio)propio...</td>\n",
       "      <td>{5363388, 650, 107971, 11128, 7858, 323, 15490...</td>\n",
       "      <td>120</td>\n",
       "    </tr>\n",
       "    <tr>\n",
       "      <th>186</th>\n",
       "      <td>5ca27e6a13218a1eabac6490</td>\n",
       "      <td>Fruit</td>\n",
       "      <td>[[fat,  herbal,  fresh,  earthy,  woody,  mush...</td>\n",
       "      <td>loquat</td>\n",
       "      <td>[20083, 323, 7150, 7002, 11509, 637566, 439341...</td>\n",
       "      <td>[Octan-2-ol, coumarin, Methyl Benzoate, 1-Meth...</td>\n",
       "      <td>{cis-3-Hexenal, coumarin, 3-(Methylthio)propio...</td>\n",
       "      <td>{5363388, 650, 107971, 11128, 7858, 323, 15490...</td>\n",
       "      <td>134</td>\n",
       "    </tr>\n",
       "    <tr>\n",
       "      <th>187</th>\n",
       "      <td>5ca27e6b13218a1eabac6491</td>\n",
       "      <td>Fruit</td>\n",
       "      <td>[[soft,  rose,  floral,  honey,  balsam], [but...</td>\n",
       "      <td>malay apple</td>\n",
       "      <td>[7194, 7519, 643941, 5281168, 31260]</td>\n",
       "      <td>[Phenethyl benzoate, Anisole, cis-3-Hexenal, t...</td>\n",
       "      <td>{Phenethyl benzoate, Anisole, cis-3-Hexenal, 3...</td>\n",
       "      <td>{31260, 643941, 5281168, 7519, 7194}</td>\n",
       "      <td>5</td>\n",
       "    </tr>\n",
       "  </tbody>\n",
       "</table>\n",
       "</div>"
      ],
      "text/plain": [
       "                          _id category  \\\n",
       "127  5ca27ddc13218a1eabac6455    Berry   \n",
       "133  5ca27de313218a1eabac645b  Seafood   \n",
       "134  5ca27de513218a1eabac645c  Seafood   \n",
       "135  5ca27de613218a1eabac645d  Seafood   \n",
       "136  5ca27de713218a1eabac645e  Seafood   \n",
       "137  5ca27de813218a1eabac645f  Seafood   \n",
       "138  5ca27dea13218a1eabac6460  Seafood   \n",
       "139  5ca27deb13218a1eabac6461  Seafood   \n",
       "140  5ca27dec13218a1eabac6462  Seafood   \n",
       "141  5ca27ded13218a1eabac6463  Seafood   \n",
       "142  5ca27def13218a1eabac6464  Seafood   \n",
       "143  5ca27df013218a1eabac6465  Seafood   \n",
       "144  5ca27df113218a1eabac6466  Seafood   \n",
       "145  5ca27df313218a1eabac6467  Seafood   \n",
       "146  5ca27e3313218a1eabac6468     Fish   \n",
       "147  5ca27e3413218a1eabac6469     Fish   \n",
       "148  5ca27e3513218a1eabac646a     Fish   \n",
       "149  5ca27e3713218a1eabac646b     Fish   \n",
       "150  5ca27e3813218a1eabac646c     Fish   \n",
       "151  5ca27e3913218a1eabac646d     Fish   \n",
       "152  5ca27e3a13218a1eabac646e     Fish   \n",
       "153  5ca27e3c13218a1eabac646f     Fish   \n",
       "154  5ca27e3d13218a1eabac6470     Fish   \n",
       "160  5ca27e4513218a1eabac6476    Fruit   \n",
       "161  5ca27e4613218a1eabac6477    Fruit   \n",
       "162  5ca27e4813218a1eabac6478    Fruit   \n",
       "163  5ca27e4913218a1eabac6479    Fruit   \n",
       "164  5ca27e4a13218a1eabac647a    Fruit   \n",
       "165  5ca27e4c13218a1eabac647b    Fruit   \n",
       "166  5ca27e4d13218a1eabac647c    Fruit   \n",
       "167  5ca27e4e13218a1eabac647d    Fruit   \n",
       "168  5ca27e4f13218a1eabac647e    Fruit   \n",
       "169  5ca27e5113218a1eabac647f    Fruit   \n",
       "170  5ca27e5213218a1eabac6480    Fruit   \n",
       "171  5ca27e5413218a1eabac6481    Fruit   \n",
       "172  5ca27e5513218a1eabac6482    Fruit   \n",
       "173  5ca27e5613218a1eabac6483    Fruit   \n",
       "174  5ca27e5813218a1eabac6484    Fruit   \n",
       "175  5ca27e5913218a1eabac6485    Fruit   \n",
       "176  5ca27e5b13218a1eabac6486    Fruit   \n",
       "178  5ca27e5d13218a1eabac6488    Fruit   \n",
       "179  5ca27e5f13218a1eabac6489    Fruit   \n",
       "180  5ca27e6113218a1eabac648a    Fruit   \n",
       "181  5ca27e6213218a1eabac648b    Fruit   \n",
       "182  5ca27e6413218a1eabac648c    Fruit   \n",
       "183  5ca27e6513218a1eabac648d    Fruit   \n",
       "184  5ca27e6713218a1eabac648e    Fruit   \n",
       "185  5ca27e6813218a1eabac648f    Fruit   \n",
       "186  5ca27e6a13218a1eabac6490    Fruit   \n",
       "187  5ca27e6b13218a1eabac6491    Fruit   \n",
       "\n",
       "                                   flavor_of_molecules             ingredient  \\\n",
       "127  [[sweet,  new mown hay,  green,  tonka,  bitte...         sea buckthorns   \n",
       "133  [[cherry,  caramel,  nut,  phenolic], [apple, ...                   clam   \n",
       "134  [[coconut,  wax,  fat,  waxy,  fatty,  earthy,...                   crab   \n",
       "135  [[orange,  waxy,  fresh,  fatty,  floral,  iri...               crayfish   \n",
       "136  [[sweet,  new mown hay,  green,  tonka,  bitte...                   kelp   \n",
       "137  [[fat,  fatty,  fruit,  fruity,  grassy,  mush...                  krill   \n",
       "138  [[lemon,  citrus,  soap,  orange peel,  fat,  ...                lobster   \n",
       "139  [[alcohol,  rose,  pungent,  cognac,  green,  ...                mollusc   \n",
       "140  [[hazelnut,  cinnamon], [fatty,  mushroom,  ch...                 oyster   \n",
       "141  [[sulfur,  sulfurous,  garlic,  green,  horser...                  prawn   \n",
       "142  [[bready,  fermented,  berry,  malt,  pungent,...                scallop   \n",
       "143  [[sulfur,  cabbage,  sulfurous,  onion,  fish,...              shellfish   \n",
       "144  [[orange,  waxy,  fresh,  fatty,  floral,  iri...                 shrimp   \n",
       "145  [[very strong,  mothball,  animal,  fecal,  in...                 trassi   \n",
       "146  [[lilac,  hawthorn], [cherry,  caramel,  nut, ...                 bonito   \n",
       "147  [[orange,  waxy,  fresh,  fatty,  floral,  iri...                 caviar   \n",
       "148  [[mild,  sour,  bitter], [grassy,  very mild],...                codfish   \n",
       "149  [[fragrant,  bread,  woody,  sweet,  baked,  a...                   fish   \n",
       "150  [[orange,  waxy,  fresh,  fatty,  floral,  iri...             fatty fish   \n",
       "151  [[citrus,  soap,  orange peel,  tallow,  waxy,...              lean fish   \n",
       "152  [[bready,  fermented,  berry,  malt,  pungent,...               fish oil   \n",
       "153  [[bean,  fruit,  sweet,  coffee], [phenolic,  ...            smoked fish   \n",
       "154  [[hazelnut,  cinnamon], [green,  fatty,  melon...                 salmon   \n",
       "160  [[bland], [powdery,  vanilla,  bean,  milky,  ...                  apple   \n",
       "161                                  [[Not Available]]            apple sauce   \n",
       "162  [[hop_oil,  apricot,  whiskey,  banana,  tropi...                apricot   \n",
       "163  [[bland], [sweet,  new mown hay,  green,  tonk...                avocado   \n",
       "164  [[chamomile,  floral,  sweet,  tropical,  frui...                 babaco   \n",
       "165  [[fat,  herbal,  fresh,  earthy,  woody,  mush...                 banana   \n",
       "166  [[mint,  rose,  green,  plant,  raspberry,  pl...                   beli   \n",
       "167                       [[caraway,  grassy,  green]]  byrsonima crassifolia   \n",
       "168  [[fruity,  pineapple], [hop_oil,  apricot,  wh...           cashew apple   \n",
       "169  [[hop_oil,  apricot,  whiskey,  banana,  tropi...              cherimoya   \n",
       "170  [[hop_oil,  apricot,  whiskey,  banana,  tropi...                coconut   \n",
       "171  [[orange,  waxy,  fresh,  fatty,  floral,  iri...                currant   \n",
       "172  [[hop_oil,  apricot,  whiskey,  banana,  tropi...          black currant   \n",
       "173  [[sweet,  new mown hay,  green,  tonka,  bitte...            red currant   \n",
       "174  [[orange,  waxy,  fresh,  fatty,  floral,  iri...          white currant   \n",
       "175  [[sweet,  new mown hay,  green,  tonka,  bitte...                  dates   \n",
       "176  [[sweet,  new mown hay,  green,  tonka,  bitte...                 durian   \n",
       "178  [[sweet,  new mown hay,  green,  tonka,  bitte...                 feijoa   \n",
       "179  [[bland], [sweet,  new mown hay,  green,  tonk...                    fig   \n",
       "180  [[geranium,  phenolic,  green,  leaf], [bland]...                  grape   \n",
       "181  [[hop_oil,  apricot,  whiskey,  banana,  tropi...                  guava   \n",
       "182  [[peach,  vegetable,  herbal,  apple peel,  fr...                hogplum   \n",
       "183  [[sweet,  new mown hay,  green,  tonka,  bitte...              jackfruit   \n",
       "184  [[sweet,  new mown hay,  green,  tonka,  bitte...              kiwifruit   \n",
       "185  [[sweet,  new mown hay,  green,  tonka,  bitte...                 litchi   \n",
       "186  [[fat,  herbal,  fresh,  earthy,  woody,  mush...                 loquat   \n",
       "187  [[soft,  rose,  floral,  honey,  balsam], [but...            malay apple   \n",
       "\n",
       "                                          molecule_IDs  \\\n",
       "127  [323, 107971, 7284, 10448, 7150, 638011, 8468,...   \n",
       "133  [14511, 8785, 8193, 8163, 8063, 9862, 7909, 79...   \n",
       "134  [8193, 8063, 5281, 7909, 7501, 7519, 8051, 188...   \n",
       "135  [8163, 5283321, 7501, 8051, 18635, 7002, 454, ...   \n",
       "136  [323, 107971, 7284, 10448, 7150, 638011, 64373...   \n",
       "137  [5352876, 6560, 18827, 18635, 24115, 61295, 62...   \n",
       "138             [454, 15380, 6202, 644104, 8094, 1130]   \n",
       "139  [8025, 6202, 7749, 7945, 644104, 8094, 429065,...   \n",
       "140  [5283321, 679, 5352876, 8051, 643731, 18827, 5...   \n",
       "141                                            [15380]   \n",
       "142  [8063, 7302, 8180, 7284, 31291, 18827, 18635, ...   \n",
       "143                                  [19310, 57346909]   \n",
       "144  [8163, 8063, 5281, 31252, 679, 5365004, 535287...   \n",
       "145  [6736, 7909, 7501, 7284, 31291, 7002, 246728, ...   \n",
       "146  [7148, 14511, 7043, 6736, 9862, 125468, 18522,...   \n",
       "147  [8163, 8063, 5283321, 5283349, 8051, 5283324, ...   \n",
       "148         [6202, 644104, 1123, 8094, 402, 1130, 247]   \n",
       "149  [7362, 5283349, 61346, 5352876, 8051, 643731, ...   \n",
       "150  [8163, 6736, 8063, 5281, 7284, 34286, 1031, 98...   \n",
       "151  [8175, 15394, 7802, 5281, 5283321, 2879, 63668...   \n",
       "152  [8063, 7501, 5352876, 1031, 6560, 643731, 1960...   \n",
       "153  [25915, 7144, 18554, 12020, 460, 17739, 528332...   \n",
       "154  [5283321, 5283329, 5283339, 1130, 5364752, 61712]   \n",
       "160  [6436017, 8468, 8073, 439341, 8052, 753, 7997,...   \n",
       "161                                          [5311110]   \n",
       "162  [7795, 22873, 323, 16617, 107971, 12209, 12810...   \n",
       "163  [6436017, 323, 7150, 11509, 637566, 439341, 33...   \n",
       "164  [62592, 61386, 8635, 7824, 8868, 13204, 535254...   \n",
       "165  [20083, 7795, 22873, 16617, 323, 107971, 53645...   \n",
       "166                           [30771, 637520, 5352543]   \n",
       "167                                          [5364578]   \n",
       "168     [560255, 7795, 6274, 7824, 7150, 10430, 13357]   \n",
       "169  [7795, 323, 16617, 6989, 7150, 11509, 12613, 6...   \n",
       "170  [7795, 20083, 323, 7150, 8468, 11509, 637566, ...   \n",
       "171  [8163, 61020, 7501, 12508, 170833, 6560, 18827...   \n",
       "172  [7795, 526195, 323, 107971, 7501, 7284, 10448,...   \n",
       "173  [323, 7150, 11509, 637566, 439341, 33931, 6072...   \n",
       "174  [8163, 61020, 7501, 12508, 170833, 6560, 18827...   \n",
       "175  [323, 107971, 7284, 10448, 7150, 638011, 8468,...   \n",
       "176  [323, 7150, 11509, 637566, 78199, 12748, 43934...   \n",
       "178  [323, 107971, 7284, 10448, 7150, 638011, 11509...   \n",
       "179  [6436017, 323, 7150, 8468, 11509, 637566, 4393...   \n",
       "180  [7583, 6436017, 7795, 22873, 323, 16617, 10797...   \n",
       "181  [7795, 5352543, 22873, 10558, 323, 107971, 750...   \n",
       "182  [22873, 323, 107971, 7284, 10448, 7150, 638011...   \n",
       "183  [323, 107971, 7284, 10448, 7150, 638011, 11509...   \n",
       "184  [323, 7150, 11509, 637566, 78199, 439341, 3393...   \n",
       "185  [323, 107971, 7284, 10448, 7150, 638011, 6560,...   \n",
       "186  [20083, 323, 7150, 7002, 11509, 637566, 439341...   \n",
       "187               [7194, 7519, 643941, 5281168, 31260]   \n",
       "\n",
       "                                             molecules  \\\n",
       "127  [coumarin, Daidzin, 2-Methylbutyraldehyde, 3-m...   \n",
       "133  [3-Methyl-2-Cyclohexen-1-One, Benzyl Acetate, ...   \n",
       "134  [1-Dodecanol, Pentanal, stearic acid, 4-Methyl...   \n",
       "135  [2-Undecanone, trans,trans-2,4-Heptadienal, St...   \n",
       "136  [coumarin, Daidzin, 2-Methylbutyraldehyde, 3-m...   \n",
       "137  [3,5-Octadien-2-one, 2-Methyl-1-propanol, 1-Oc...   \n",
       "138  [Octanal, Bis(methylthio)methane, Thiamine Hyd...   \n",
       "139  [Ethyl Formate, Thiamine Hydrochloride, Ethyl ...   \n",
       "140  [trans,trans-2,4-Heptadienal, dimethyl sulfoxi...   \n",
       "141                           [Bis(methylthio)methane]   \n",
       "142  [Pentanal, gamma-Butyrolactone, Undecanoic Aci...   \n",
       "143  [Dimethyl trisulfide, 4H-Pyrrolo[2,1-d]-1,3,5-...   \n",
       "144  [2-Undecanone, Pentanal, stearic acid, 2,5-Dim...   \n",
       "145  [3-Methylindole, 4-Methyl-2-pentanone, Styrene...   \n",
       "146  [Propiophenone, 3-Methyl-2-Cyclohexen-1-One, 1...   \n",
       "147  [2-Undecanone, Pentanal, trans,trans-2,4-Hepta...   \n",
       "148  [Thiamine Hydrochloride, CID 644104, taurine, ...   \n",
       "149  [2-Furaldehyde, (2E,4E)-deca-2,4-dienal, 1-Oct...   \n",
       "150  [2-Undecanone, 3-Methylindole, Pentanal, stear...   \n",
       "151  [Decanal, Ethyl Vinyl Ketone, 3-Heptanone, ste...   \n",
       "152  [Pentanal, Styrene, 3,5-Octadien-2-one, 1-prop...   \n",
       "153  [2-Ethyl-5-Methylpyrazine, 2-Methoxy-4-Methylp...   \n",
       "154  [trans,trans-2,4-Heptadienal, (2E,4E)-Octa-2,4...   \n",
       "160  [1-Popc, Vanillic acid, Propyl Formate, alpha-...   \n",
       "161                                          [50-69-1]   \n",
       "162  [Isoamyl butyrate, Hexyl Hexanoate, coumarin, ...   \n",
       "163  [1-Popc, coumarin, Methyl Benzoate, 3-Hexanone...   \n",
       "164  [Heptyl butyrate, Isoamyl laurate, Methyl Anth...   \n",
       "165  [Octan-2-ol, Isoamyl butyrate, Hexyl Hexanoate...   \n",
       "166  [2-Cyclohexylethyl acetate, Methyl cinnamate, ...   \n",
       "167                                   [3-Hepten-2-One]   \n",
       "168  [Ethyl 3-methylpentanoate, Isoamyl butyrate, L...   \n",
       "169  [Isoamyl butyrate, coumarin, Isopentyl hexanoa...   \n",
       "170  [Isoamyl butyrate, Octan-2-ol, coumarin, Methy...   \n",
       "171  [2-Undecanone, 3-Methyl-2-butenal, Styrene, Is...   \n",
       "172  [Isoamyl butyrate, 4-Methoxy-2-methyl-2-butane...   \n",
       "173  [coumarin, Methyl Benzoate, 3-Hexanone, Gerani...   \n",
       "174  [2-Undecanone, 3-Methyl-2-butenal, Styrene, Is...   \n",
       "175  [coumarin, Daidzin, 2-Methylbutyraldehyde, 3-m...   \n",
       "176  [coumarin, Methyl Benzoate, 3-Hexanone, Gerani...   \n",
       "178  [coumarin, Daidzin, 2-Methylbutyraldehyde, 3-m...   \n",
       "179  [1-Popc, coumarin, Methyl Benzoate, Vanillic a...   \n",
       "180  [Diphenyl oxide, 1-Popc, Isoamyl butyrate, Hex...   \n",
       "181  [Isoamyl butyrate, cis-3-Hexenyl hexanoate, He...   \n",
       "182  [Hexyl Hexanoate, coumarin, Daidzin, 2-Methylb...   \n",
       "183  [coumarin, Daidzin, 2-Methylbutyraldehyde, 3-m...   \n",
       "184  [coumarin, Methyl Benzoate, 3-Hexanone, Gerani...   \n",
       "185  [coumarin, Daidzin, 2-Methylbutyraldehyde, 3-m...   \n",
       "186  [Octan-2-ol, coumarin, Methyl Benzoate, 1-Meth...   \n",
       "187  [Phenethyl benzoate, Anisole, cis-3-Hexenal, t...   \n",
       "\n",
       "                                         set_molecules  \\\n",
       "127  {cis-3-Hexenal, Isopentyl octanoate, coumarin,...   \n",
       "133  {3-Ethylpyridine, 3-Methyl-2-Cyclohexen-1-One,...   \n",
       "134  {3,5,5-Trimethylhexan-1-ol, Thiazole, Anisole,...   \n",
       "135  {Thiazole, cis-2-Penten-1-ol, Octan-2-one, 2-E...   \n",
       "136  {cis-3-Hexenal, coumarin, 3-(Methylthio)propio...   \n",
       "137  {S-Propyl thioacetate, 2-Methoxypyrazine, 3-Et...   \n",
       "138  {Thiamine Hydrochloride, CID 644104, Bis(methy...   \n",
       "139  {Ethyl Crotonate, Methyl octanoate, Methyl Pro...   \n",
       "140  {trimethylamine, Ethyl Vinyl Ketone, 1-Octen-3...   \n",
       "141                           {Bis(methylthio)methane}   \n",
       "142  {Isobutyric Acid, Tetradecanoic acid, trimethy...   \n",
       "143  {4H-Pyrrolo[2,1-d]-1,3,5-dithiazine,tetrahydro...   \n",
       "144  {2-(Methylthio)ethanol, Isobutyric Acid, 5-Met...   \n",
       "145  {Octan-2-one, 2-Methylbutyraldehyde, 2-Pentano...   \n",
       "146  {1,2-Dimethoxybenzene, Isobutyric Acid, Thiazo...   \n",
       "147  {Butylamine, Octan-2-one, trimethylamine, (E)-...   \n",
       "148  {Thiamine Hydrochloride, taurine, hydrogen sul...   \n",
       "149  {trans-2-Hexenal, Isobutyric Acid, Butylamine,...   \n",
       "150  {Octan-2-one, trimethylamine, 2,6-Dimethoxy-4-...   \n",
       "151  {trans,trans-2,4-Heptadienal, 2,6-Nonadienal, ...   \n",
       "152  {S-Methyl 4-methylpentanethioate, S-Methyl thi...   \n",
       "153  {4'-Methylacetophenone, trans,trans-2,4-Heptad...   \n",
       "154  {trans,trans-2,4-Heptadienal, (2E,4E)-Octa-2,4...   \n",
       "160  {Anisole, 3025-30-7, cis-3-Hexenal, Ethyl cis-...   \n",
       "161                                          {50-69-1}   \n",
       "162  {DL-Tartaric acid, Nerol oxide, cis-3-Hexenal,...   \n",
       "163  {DL-Tartaric acid, cis-3-Hexenal, coumarin, 3-...   \n",
       "164  {Methyl Hexanoate, Methyl Anthranilate, Octyl ...   \n",
       "165  {Propyl Isovalerate, cis-3-Hexenal, Isopentyl ...   \n",
       "166  {2-Cyclohexylethyl acetate, Methyl cinnamate, ...   \n",
       "167                                   {3-Hepten-2-One}   \n",
       "168  {Methyl Hexanoate, Methyl Benzoate, L-histidin...   \n",
       "169  {DL-Tartaric acid, cis-3-Hexenal, coumarin, He...   \n",
       "170  {cis-3-Hexenal, coumarin, 2-Pentanol, 3-(Methy...   \n",
       "171  {nerol, Isobutyric Acid, delta-Octanolactone, ...   \n",
       "172  {cis-3-Hexenal, coumarin, 1-p-Menthen-9-al, 2-...   \n",
       "173  {DL-Tartaric acid, cis-3-Hexenal, coumarin, Is...   \n",
       "174  {nerol, Isobutyric Acid, delta-Octanolactone, ...   \n",
       "175  {cis-3-Hexenal, coumarin, 3-(Methylthio)propio...   \n",
       "176  {Isopropenylpyrazine, 3025-30-7, cis-3-Hexenal...   \n",
       "178  {cis-3-Hexenal, coumarin, 3-(Methylthio)propio...   \n",
       "179  {DL-Tartaric acid, Nerylacetone, cis-3-Hexenal...   \n",
       "180  {1,2-Dimethoxybenzene, DL-Tartaric acid, cis-3...   \n",
       "181  {1,2-Dimethoxybenzene, Beta-Terpineol, cis-3-H...   \n",
       "182  {cis-3-Hexenal, coumarin, 3-(Methylthio)propio...   \n",
       "183  {Propyl Isovalerate, cis-3-Hexenal, coumarin, ...   \n",
       "184  {Ethyl 3-Hexenoate, cis-2-Penten-1-ol, cis-3-H...   \n",
       "185  {cis-3-Hexenal, coumarin, 3-(Methylthio)propio...   \n",
       "186  {cis-3-Hexenal, coumarin, 3-(Methylthio)propio...   \n",
       "187  {Phenethyl benzoate, Anisole, cis-3-Hexenal, 3...   \n",
       "\n",
       "                                      set_molecules_ID  molecule_quantity  \n",
       "127  {5363388, 650, 107971, 11128, 7858, 7775, 323,...                113  \n",
       "133  {12020, 26334, 8129, 9862, 998, 32093, 14511, ...                 61  \n",
       "134  {5311110, 8129, 1130, 454, 9256, 26808, 8094, ...                 38  \n",
       "135  {8129, 18635, 1130, 5283321, 454, 9256, 26808,...                 32  \n",
       "136  {5363388, 650, 107971, 11128, 7858, 323, 15490...                104  \n",
       "137  {61845, 5321950, 5352876, 18635, 6560, 24115, ...                 22  \n",
       "138             {15380, 1130, 644104, 454, 6202, 8094}                  6  \n",
       "139  {7826, 1130, 8158, 7749, 11124, 429065, 31284,...                 20  \n",
       "140  {12020, 5352876, 1130, 5283321, 454, 1123, 312...                 29  \n",
       "141                                            {15380}                  1  \n",
       "142  {12020, 6590, 18635, 1130, 32093, 8158, 1123, ...                 41  \n",
       "143                                  {19310, 57346909}                  2  \n",
       "144  {26334, 12020, 62444, 5311110, 6590, 5321950, ...                 76  \n",
       "145  {31245, 998, 454, 26808, 5364752, 996, 7909, 3...                 28  \n",
       "146  {17691, 6590, 61712, 5352876, 18635, 9862, 125...                 60  \n",
       "147  {8186, 5283321, 5283316, 7894, 5364752, 637564...                 26  \n",
       "148         {247, 1130, 644104, 1123, 6202, 8094, 402}                  7  \n",
       "149  {12020, 6590, 5352876, 8186, 11449, 454, 1123,...                 47  \n",
       "150  {985, 8103, 853433, 8186, 5283316, 26808, 402,...                 38  \n",
       "151  {15394, 636687, 5281, 875, 1032, 7284, 5283321...                 18  \n",
       "152  {12020, 62444, 15380, 5352876, 6560, 454, 8094...                 23  \n",
       "153  {12020, 7144, 18522, 62465, 3314, 25915, 52833...                 15  \n",
       "154  {61712, 1130, 5283321, 5283329, 5283339, 5364752}                  6  \n",
       "160  {5363388, 650, 107971, 11128, 7858, 7775, 3128...                300  \n",
       "161                                          {5311110}                  1  \n",
       "162  {5363388, 650, 107971, 11128, 7858, 7775, 323,...                207  \n",
       "163  {5363388, 650, 107971, 11128, 7858, 323, 15490...                134  \n",
       "164  {228769, 61024, 5355856, 8130, 7824, 5365992, ...                 17  \n",
       "165  {5363388, 650, 519786, 107971, 11128, 7858, 77...                206  \n",
       "166                           {5352543, 637520, 30771}                  3  \n",
       "167                                          {5364578}                  1  \n",
       "168     {7824, 6274, 560255, 13357, 10430, 7795, 7150}                  7  \n",
       "169  {5363388, 61098, 650, 519786, 107971, 11128, 7...                166  \n",
       "170  {5363388, 650, 107971, 11128, 7858, 31284, 154...                161  \n",
       "171  {6590, 8129, 6560, 7710, 31289, 8914, 31276, 7...                 37  \n",
       "172  {5363388, 26049, 650, 107971, 11128, 7858, 323...                213  \n",
       "173  {5363388, 650, 107971, 11128, 7858, 323, 15490...                143  \n",
       "174  {6590, 8129, 6560, 7710, 31289, 8914, 31276, 7...                 37  \n",
       "175  {5363388, 650, 107971, 11128, 7858, 323, 15490...                101  \n",
       "176  {5363388, 7921, 650, 12748, 107971, 11128, 785...                138  \n",
       "178  {5363388, 650, 519786, 107971, 11128, 7858, 60...                106  \n",
       "179  {5363388, 650, 107971, 11128, 7858, 323, 15490...                168  \n",
       "180  {5363388, 11559, 650, 519786, 107971, 11128, 7...                261  \n",
       "181  {5363388, 15094, 62572, 650, 107971, 11128, 78...                259  \n",
       "182  {5363388, 62572, 650, 107971, 11128, 7858, 323...                102  \n",
       "183  {5363388, 650, 519786, 107971, 11128, 7858, 32...                107  \n",
       "184  {5363388, 650, 107971, 11128, 7858, 323, 15490...                147  \n",
       "185  {5363388, 650, 107971, 11128, 7858, 323, 15490...                120  \n",
       "186  {5363388, 650, 107971, 11128, 7858, 323, 15490...                134  \n",
       "187               {31260, 643941, 5281168, 7519, 7194}                  5  "
      ]
     },
     "execution_count": 6,
     "metadata": {},
     "output_type": "execute_result"
    }
   ],
   "source": [
    "flavorDB.head(50)"
   ]
  },
  {
   "cell_type": "code",
   "execution_count": 7,
   "metadata": {},
   "outputs": [
    {
     "data": {
      "text/plain": [
       "<matplotlib.axes._subplots.AxesSubplot at 0x7fb9adb79898>"
      ]
     },
     "execution_count": 7,
     "metadata": {},
     "output_type": "execute_result"
    },
    {
     "data": {
      "image/png": "[encoded data removed]",
      "text/plain": [
       "<Figure size 432x288 with 1 Axes>"
      ]
     },
     "metadata": {
      "needs_background": "light"
     },
     "output_type": "display_data"
    }
   ],
   "source": [
    "flavorDB[\"molecule_quantity\"].hist()"
   ]
  },
  {
   "cell_type": "code",
   "execution_count": 8,
   "metadata": {
    "scrolled": true
   },
   "outputs": [
    {
     "data": {
      "text/plain": [
       "(516, 9)"
      ]
     },
     "execution_count": 8,
     "metadata": {},
     "output_type": "execute_result"
    }
   ],
   "source": [
    "flavorDB.shape"
   ]
  },
  {
   "cell_type": "code",
   "execution_count": 9,
   "metadata": {
    "scrolled": true
   },
   "outputs": [
    {
     "data": {
      "text/plain": [
       "category\n",
       "Berry                42\n",
       "Cabbage              16\n",
       "Fish                120\n",
       "Fruit                82\n",
       "Fruit Citrus         10\n",
       "Fruit Essence         1\n",
       "Fungus               11\n",
       "Herb                 51\n",
       "Meat                 46\n",
       "Nut                  21\n",
       "Plant Derivative     20\n",
       "Seafood              35\n",
       "Spice                25\n",
       "Vegetable            24\n",
       "Vegetable Fruit       4\n",
       "Vegetable Root        8\n",
       "Name: ingredient, dtype: int64"
      ]
     },
     "execution_count": 9,
     "metadata": {},
     "output_type": "execute_result"
    }
   ],
   "source": [
    "flavorDB.groupby(\"category\")[\"ingredient\"].count()"
   ]
  },
  {
   "cell_type": "code",
   "execution_count": 13,
   "metadata": {},
   "outputs": [],
   "source": [
    "list_of_categories = ['Berry', 'Cabbage', 'Fish', 'Fruit', 'Fruit Citrus', 'Fruit Essence', 'Fungus', 'Herb', 'Meat', 'Nut', 'Plant Derivative', 'Seafood', 'Spice', 'Vegetable', 'Vegetable Fruit', 'Vegetable Root']"
   ]
  },
  {
   "cell_type": "code",
   "execution_count": 15,
   "metadata": {
    "scrolled": false
   },
   "outputs": [
    {
     "data": {
      "text/plain": [
       "'\\ntakes a while to process, so commented out\\n'"
      ]
     },
     "execution_count": 15,
     "metadata": {},
     "output_type": "execute_result"
    }
   ],
   "source": [
    "\"\"\"\n",
    "takes a while to process, so commented out\n",
    "\"\"\"\n",
    "# list_of_category_ratios = []\n",
    "# for category in list_of_categories:\n",
    "#     if len(ingredient_only_pd[ingredient_only_pd[\"category\"] == category][\"ingredient\"]) > 1:\n",
    "#         list_of_ingredients_per_category = ingredient_only_pd[ingredient_only_pd[\"category\"] == category][\"ingredient\"].tolist()\n",
    "#         ratio_total = 0\n",
    "#         for combo in combinations(list_of_ingredients_per_category, 2):\n",
    "#             ratio, x, y, z = common_pair_analysis(combo[0], combo[1])\n",
    "#             ratio_total += ratio\n",
    "#         category_ratio = ratio_total / len(list(combinations(list_of_ingredients_per_category, 2)))\n",
    "#         list_of_category_ratios.append(category_ratio)\n",
    "#         print(\"Ratio for {}: \".format(category), category_ratio)"
   ]
  },
  {
   "cell_type": "markdown",
   "metadata": {},
   "source": [
    "Ratio for Berry:  0.35719197257990054\n",
    "Ratio for Fish:  0.41460354837905844\n",
    "Ratio for Fruit:  0.3786900657335132\n",
    "Ratio for Fruit Citrus:  0.3884684724638544\n",
    "Ratio for Fungus:  0.41409691629955947\n",
    "Ratio for Herb:  0.5326167800571301\n",
    "Ratio for Meat:  0.13390955730473256\n",
    "Ratio for Nut:  0.5507713353522316\n",
    "Ratio for Plant Derivative:  0.09379168158647629\n",
    "Ratio for Seafood:  0.16144490977143952\n",
    "Ratio for Spice:  0.4443326703423937\n",
    "Ratio for Vegetable:  0.5939392378952064\n",
    "Ratio for Vegetable Root:  0.6347922930979436"
   ]
  },
  {
   "cell_type": "markdown",
   "metadata": {},
   "source": [
    "Do the ratio for two random ingredients as well"
   ]
  },
  {
   "cell_type": "markdown",
   "metadata": {},
   "source": [
    "# Making a Graph\n",
    "graph that has ingredients as nodes and edges if the ratio is above a certain level"
   ]
  },
  {
   "cell_type": "markdown",
   "metadata": {},
   "source": [
    "simple_graph of two ingredients"
   ]
  },
  {
   "cell_type": "code",
   "execution_count": 58,
   "metadata": {},
   "outputs": [],
   "source": [
    "my_graph = graph_based_on_shared_molecule_creator(pandas_df= flavorDB, min_intersection_ratio= 0.15)"
   ]
  },
  {
   "cell_type": "code",
   "execution_count": 59,
   "metadata": {},
   "outputs": [
    {
     "data": {
      "text/plain": [
       "515"
      ]
     },
     "execution_count": 59,
     "metadata": {},
     "output_type": "execute_result"
    }
   ],
   "source": [
    "my_graph.number_of_nodes()"
   ]
  },
  {
   "cell_type": "code",
   "execution_count": 60,
   "metadata": {},
   "outputs": [
    {
     "data": {
      "text/plain": [
       "48388"
      ]
     },
     "execution_count": 60,
     "metadata": {},
     "output_type": "execute_result"
    }
   ],
   "source": [
    "my_graph.number_of_edges()"
   ]
  },
  {
   "cell_type": "code",
   "execution_count": 61,
   "metadata": {},
   "outputs": [
    {
     "data": {
      "text/plain": [
       "39"
      ]
     },
     "execution_count": 61,
     "metadata": {},
     "output_type": "execute_result"
    }
   ],
   "source": [
    "nx.number_connected_components(my_graph)"
   ]
  },
  {
   "cell_type": "code",
   "execution_count": 62,
   "metadata": {
    "scrolled": false
   },
   "outputs": [
    {
     "data": {
      "image/png": "[encoded data removed]",
      "text/plain": [
       "<Figure size 432x288 with 1 Axes>"
      ]
     },
     "metadata": {
      "needs_background": "light"
     },
     "output_type": "display_data"
    }
   ],
   "source": [
    "nx.draw_networkx(my_graph)"
   ]
  },
  {
   "cell_type": "code",
   "execution_count": 63,
   "metadata": {},
   "outputs": [
    {
     "name": "stdout",
     "output_type": "stream",
     "text": [
      "{'orange roughy', 'charr', 'northern pike', 'lime', 'whitefish', 'blue whiting', 'mint', 'greylag goose', 'hogplum', 'mushroom', 'common dab', 'cabbage', 'haddock', 'lobster', 'crayfish', 'lemon verbena', 'cichlidae', 'pitanga', 'pepper', 'white currant', 'celery', 'malabar plum', 'musk melon', 'florida pompano', 'blackberry', 'pear', 'carom seed', 'cupua\\x8du', 'kale', 'percoidei', 'saffron', 'yellowtail amberjack', 'rhubarb', 'parsnip', 'sweet potato', 'pepper c. baccatum', 'meat', 'buffalo currant', 'truffle', 'elk', 'malabar spinach', 'deer', 'snapper', 'turnip', 'shark', 'ginkgo nuts', 'sheepshead', 'yellow zucchini', 'medlar', 'muskrat', 'atlantic salmon', 'green turtle', 'brazil nut', 'true seal', 'alaska blackfish', 'skunk currant', 'peppermint', 'sourdock', 'common ling', 'clupeinae', 'apple cider vinegar', 'beef', 'columbidae', 'catfish', 'black bear', 'acorn', 'horned melon', 'scallop', 'amaranth', 'rainbow smelt', 'japanese chestnut', 'steller sea lion', 'filbert', 'sage', 'alaska pollock', 'beefalo', 'welsh onion', 'macaroni', 'evening primrose', 'pummelo', 'kumquat', 'naranjilla', 'rambutan', 'redskin onion', 'shiitake', 'almond', 'butternut squash', 'walleye', 'wakame', 'pacific sardine', 'basil', 'enokitake', 'jellyfish', 'beluga whale', 'bison', 'hazelnut', 'loganberry', 'tomato', 'boysenberry', 'bowhead whale', 'prairie turnip', 'turkey', 'anguilliformes', 'brown bear', 'sparkleberry', 'bitter cherry', 'nanking cherry', 'atlantic wolffish', 'quail', 'pacific rockfish', 'spiny lobster', 'turmeric', 'garfish', 'hedge mustard', 'abalone', 'tamarind', 'morchella', 'sea cucumber', 'allspice', 'gooseberry', 'pineapple', 'kombu', 'walrus', 'sheefish', 'atlantic halibut', 'pork', 'gadiformes', 'anchovy', 'black crowberry', 'oyster', 'greater sturgeon', 'melon', 'nuttall cockle', 'red algae', 'quince', 'burdock', 'vanilla', 'moose', 'mule deer', 'cinnamon', 'peach', 'pacific ocean perch', 'atlantic croaker', 'cloudberry', 'beef processed', 'cranberry', 'sour cherry', 'mixed nuts', 'soy yogurt', 'beech nut', 'pistachio', 'star anise', 'common carp', 'greenland halibut', 'pleuronectidae', 'soursop', 'passionfruit', 'starfruit', 'breadfruit', 'new zealand spinach', 'bayberry', 'sea buckthorns', 'white sucker', 'summer savory', 'trassi', 'litchi', 'capsicum', 'mustard', 'american pokeweed', 'red raspberry', 'broccoli', 'pumpkinseed sunfish', 'salmonberry', 'buckwheat', 'green zucchini', 'chia', 'red currant', 'radish', 'raccoon', 'garlic', 'dates', 'heart of palm', 'perciformes', 'pili nut', 'cocoa butter', 'freshwater drum', 'albacore tuna', 'tofu', 'ocean pout', 'bergamot', 'fatty fish', 'deerberry', 'cauliflower', 'raisin', 'mollusc', 'walnut', 'horse', 'prickly pear', 'whelk', 'vinegar', 'plum', 'chinook salmon', 'fireweed', 'chinese bayberry', 'squirrel', 'winter savory', 'mexican groundcherry', 'black mulberry', 'orange', 'corn salad', 'chive', 'sea trout', 'ascidians', 'flatfish', 'swamp cabbage', 'jujube', 'fenugreek', 'macadamia nut', 'marjoram', 'acerola', 'scup', 'cassia', 'bilberry', 'avocado', 'mallard duck', 'mulberry', 'prawn', 'common octopus', 'clove', 'currant', 'cuttlefish', 'ohelo berry', 'striped mullet', 'banana', 'cloud ear fungus', 'persimmon', 'common verbena', 'northern bluefin tuna', 'roe', 'chinese chestnut', 'guava', 'cetacea', 'breadnut tree seed', 'black huckleberry', 'butternut', 'muscadine grape', 'papaya', 'berry', 'spiny dogfish', 'grape', 'nutmeg', 'linden', 'kelp', 'maitake', 'european chestnut', 'lumpsucker', 'parsley', 'rowanberry', 'chum salmon', 'sablefish', 'common persimmon', 'american shad', 'cherry', 'lemon balm', 'mountain hare', 'fish', 'japanese pumpkin', 'purple mangosteen', 'pikeperch', 'chard', 'spot croaker', 'soybean sauce', 'purple laver', 'nuts', 'blueberry', 'atlantic mackerel', 'smelt', 'pepper c. chinense', 'lake trout', 'durian', 'canada blueberry', 'okra', 'pink salmon', 'salmon', 'chervil', 'cumin', 'rapini', 'brussels sprout', 'lamb', 'chocolate spread', 'raspberry', 'squashberry', 'water chestnut', 'common tuna', 'pomegranate', 'pacific jack mackerel', 'rock ptarmigan', 'kohlrabi', 'sorrel', 'crab', 'other meat product', 'cashew nut', 'peanut', 'artemisia', 'borage', 'spearmint', 'cusk', 'fig', 'conch', 'roseapple', 'true sole', 'citrus fruits', 'green beans', 'chestnut', 'cisco', 'mammee apple', 'swordfish', 'lemon', 'honey', 'jute', 'king mackerel', 'pak choy', 'salmonidae', 'pacific herring', 'spinach', 'fennel', 'jostaberry', 'lettuce', 'wild boar', 'mutton', 'broad whitefish', 'nance', 'bluefish', 'spanish mackerel', 'devilfish', 'poppy seed', 'alfalfa', 'bitter orange', 'snail', 'jackfruit', 'bartlett pear', 'sapodilla', 'great horned owl', 'black raspberry', 'mandarin orange', 'cardamom', 'cocoa powder', 'rose hip', 'pineappple sage', 'scombridae', 'atlantic herring', 'lemon sole', 'horseradish', 'peanut oil', 'eggplant', 'cornmint', 'pollock', 'burbot', 'tilefish', 'coriander', 'tea leaf willow', 'striped bass', 'rutabaga', 'loquat', 'dock', 'freshwater eel', 'sockeye salmon', 'garden cress', 'monkfish', 'chocolate', 'pheasant', 'strawberry', 'norway pout', 'carp bream', 'squid', 'oyster mushroom', 'kai lan', 'dolphin fish', 'ginseng', 'buffalo', 'north pacific giant octopus', 'endive', 'caviar', 'cherry tomato', 'true frog', 'leek', 'european anchovy', 'bivalvia', 'natal plum', 'apricot', 'norway haddock', 'japanese persimmon', 'teff', 'atlantic pollock', 'roselle', 'rosemary', 'american butterfish', 'grouper', 'silver linden', 'spotted seal', 'leather chiton', 'winter squash', 'turbot', 'mango', 'lingonberry', 'krill', 'rocket salad', 'beetroot', 'carrot', 'hippoglossus', 'ham', 'liqourice', 'yellowfin tuna', 'cherimoya', 'thyme', 'groundcherry', 'opossum', 'coho salmon', 'caribou', 'komatsuna', 'rainbow trout', 'squab', \"elliott's blueberry\", 'atlantic menhaden', 'cottonseed', 'rabbit', 'sturgeon', 'other fish product', 'feijoa', 'ginger', \"jew's ear\", 'wasabi', 'ringed seal', 'anatidae', 'kiwifruit', 'codfish', 'oregano', 'irish moss', 'angelica', 'red king crab', 'chanterelle', 'milkfish', 'dill', 'channel catfish', 'mexican oregano', 'european rabbit', 'pumpkin', 'safflower', 'grapefruit', 'capers', 'black currant', 'shrimp', 'chicken', 'shallot', 'coconut', 'onion', 'narrowleaf cattail', 'tarragon', 'pecans', 'epazote', 'anise', 'clam', 'emu', 'bearded seal', 'saskatoon berry', 'polar bear', 'ostrich', 'whiting', 'lingcod', 'painted comber', 'beaver', 'apple'}\n",
      "{'shellfish'}\n",
      "{'bonito'}\n",
      "{'lean fish'}\n",
      "{'fish oil'}\n",
      "{'smoked fish'}\n",
      "{'apple sauce'}\n",
      "{'babaco'}\n",
      "{'beli'}\n",
      "{'byrsonima crassifolia'}\n",
      "{'cashew apple'}\n",
      "{'malay apple'}\n",
      "{'mountain papaya'}\n",
      "{'yellow passionfruit'}\n",
      "{'pawpaw'}\n",
      "{'pepino'}\n",
      "{'plumcot'}\n",
      "{'chinese quince'}\n",
      "{'spineless monkey orange'}\n",
      "{'woodapple'}\n",
      "{'wild cherry'}\n",
      "{'strawberry jam'}\n",
      "{'satsuma orange'}\n",
      "{'tangerine'}\n",
      "{'white pepper', 'calamus', 'caraway', 'mace', 'cherry pepper'}\n",
      "{'scotch spearmint'}\n",
      "{'sukiyaki'}\n",
      "{'fermented tea'}\n",
      "{'creosote'}\n",
      "{'mustard oil'}\n",
      "{'peanut butter'}\n",
      "{'storax'}\n",
      "{'anise hyssop'}\n",
      "{'asafoetida', 'curry leaf'}\n",
      "{'drumstick leaf'}\n",
      "{'jalapeno'}\n",
      "{'turkey berry'}\n",
      "{'garcinia indica'}\n",
      "{'colocasia'}\n"
     ]
    }
   ],
   "source": [
    "for comp in nx.connected_components(my_graph):\n",
    "    print(comp)"
   ]
  },
  {
   "cell_type": "markdown",
   "metadata": {},
   "source": [
    "# Keep only the biggest connected component"
   ]
  },
  {
   "cell_type": "code",
   "execution_count": 36,
   "metadata": {},
   "outputs": [],
   "source": [
    "#only keep the biggest connected component\n",
    "giant = max(nx.connected_component_subgraphs(my_graph), key=len)"
   ]
  },
  {
   "cell_type": "code",
   "execution_count": 37,
   "metadata": {},
   "outputs": [
    {
     "data": {
      "text/plain": [
       "1"
      ]
     },
     "execution_count": 37,
     "metadata": {},
     "output_type": "execute_result"
    }
   ],
   "source": [
    "nx.number_connected_components(giant)"
   ]
  },
  {
   "cell_type": "code",
   "execution_count": 38,
   "metadata": {
    "scrolled": true
   },
   "outputs": [
    {
     "data": {
      "text/plain": [
       "49580"
      ]
     },
     "execution_count": 38,
     "metadata": {},
     "output_type": "execute_result"
    }
   ],
   "source": [
    "giant.number_of_edges()"
   ]
  },
  {
   "cell_type": "code",
   "execution_count": 39,
   "metadata": {},
   "outputs": [
    {
     "data": {
      "text/plain": [
       "499"
      ]
     },
     "execution_count": 39,
     "metadata": {},
     "output_type": "execute_result"
    }
   ],
   "source": [
    "giant.number_of_nodes()"
   ]
  },
  {
   "cell_type": "code",
   "execution_count": 40,
   "metadata": {
    "scrolled": false
   },
   "outputs": [
    {
     "data": {
      "text/plain": [
       "NodeView(('sea buckthorns', 'clam', 'crab', 'crayfish', 'kelp', 'krill', 'lobster', 'mollusc', 'oyster', 'prawn', 'scallop', 'shrimp', 'trassi', 'bonito', 'caviar', 'codfish', 'fish', 'fatty fish', 'lean fish', 'fish oil', 'salmon', 'apple', 'apricot', 'avocado', 'babaco', 'banana', 'cashew apple', 'cherimoya', 'coconut', 'currant', 'black currant', 'red currant', 'white currant', 'dates', 'durian', 'feijoa', 'fig', 'grape', 'guava', 'hogplum', 'jackfruit', 'kiwifruit', 'litchi', 'loquat', 'mango', 'melon', 'musk melon', 'naranjilla', 'orange', 'bitter orange', 'papaya', 'mountain papaya', 'passionfruit', 'pawpaw', 'peach', 'pear', 'bartlett pear', 'prickly pear', 'pineapple', 'plum', 'plumcot', 'pumpkin', 'quince', 'chinese quince', 'raisin', 'roseapple', 'sapodilla', 'soursop', 'spineless monkey orange', 'starfruit', 'tamarind', 'woodapple', 'berry', 'bilberry', 'blackberry', 'blueberry', 'cherry', 'bitter cherry', 'sour cherry', 'wild cherry', 'cloudberry', 'cranberry', 'gooseberry', 'lingonberry', 'loganberry', 'raspberry', 'strawberry', 'bergamot', 'citrus fruits', 'grapefruit', 'kumquat', 'lemon', 'lime', 'mandarin orange', 'tangerine', 'vanilla', 'mushroom', 'truffle', 'angelica', 'artemisia', 'basil', 'buckwheat', 'calamus', 'chervil', 'coriander', 'cornmint', 'dill', 'fennel', 'fenugreek', 'garlic', 'lemon balm', 'liqourice', 'mint', 'rhubarb', 'rosemary', 'sage', 'spearmint', 'scotch spearmint', 'tarragon', 'thyme', 'beef', 'beef processed', 'chicken', 'ham', 'lamb', 'meat', 'mutton', 'pork', 'sukiyaki', 'turkey', 'almond', 'brazil nut', 'peanut', 'soybean sauce', 'filbert', 'hazelnut', 'macadamia nut', 'nuts', 'pecans', 'walnut', 'honey', 'macaroni', 'peanut oil', 'vinegar', 'anise', 'anise hyssop', 'star anise', 'caraway', 'cardamom', 'cassia', 'celery', 'cinnamon', 'clove', 'cumin', 'ginger', 'mace', 'marjoram', 'nutmeg', 'oregano', 'parsley', 'pepper', 'saffron', 'turmeric', 'green beans', 'chive', 'endive', 'leek', 'lettuce', 'okra', 'onion', 'shallot', 'peppermint', 'broccoli', 'brussels sprout', 'cabbage', 'cauliflower', 'horseradish', 'mustard', 'radish', 'turnip', 'kohlrabi', 'rutabaga', 'wasabi', 'capsicum', 'cherry pepper', 'tomato', 'beetroot', 'carrot', 'parsnip', 'sweet potato', 'allspice', 'asafoetida', 'carom seed', 'chard', 'apple cider vinegar', 'curry leaf', 'drumstick leaf', 'eggplant', 'pomegranate', 'poppy seed', 'spinach', 'turkey berry', 'water chestnut', 'white pepper', 'garcinia indica', 'silver linden', 'redskin onion', 'lemon verbena', 'cashew nut', 'burdock', 'borage', 'capers', 'safflower', 'chestnut', 'pummelo', 'japanese persimmon', 'black crowberry', 'rocket salad', 'black huckleberry', 'swamp cabbage', 'garden cress', 'mexican oregano', 'medlar', 'mulberry', 'black mulberry', 'evening primrose', 'pistachio', 'red raspberry', 'black raspberry', 'sorrel', 'summer savory', 'winter savory', 'cherry tomato', 'rowanberry', 'linden', 'sparkleberry', 'common verbena', 'muscadine grape', 'bayberry', \"elliott's blueberry\", 'canada blueberry', 'deerberry', 'ginseng', 'pepper c. baccatum', 'pepper c. chinense', 'rambutan', 'welsh onion', 'komatsuna', 'pak choy', 'jostaberry', 'kai lan', 'pineappple sage', 'skunk currant', 'abalone', 'acerola', 'acorn', 'winter squash', 'red king crab', 'alfalfa', 'amaranth', 'atlantic herring', 'atlantic mackerel', 'painted comber', 'atlantic pollock', 'atlantic wolffish', 'striped bass', 'beaver', 'beech nut', 'beluga whale', 'bison', 'black bear', 'alaska blackfish', 'northern bluefin tuna', 'bluefish', 'wild boar', 'bowhead whale', 'breadfruit', 'breadnut tree seed', 'rapini', 'brown bear', 'buffalo', 'burbot', 'american butterfish', 'butternut', 'butternut squash', 'caribou', 'natal plum', 'common carp', 'channel catfish', 'chia', 'chinese chestnut', 'cisco', 'nuttall cockle', 'common octopus', 'corn salad', 'cottonseed', 'squashberry', 'atlantic croaker', 'cusk', 'cuttlefish', 'mule deer', 'devilfish', 'dock', 'dolphin fish', 'freshwater drum', 'mallard duck', 'freshwater eel', 'elk', 'emu', 'european anchovy', 'european chestnut', 'turbot', 'fireweed', 'florida pompano', 'ginkgo nuts', 'greylag goose', 'greenland halibut', 'groundcherry', 'grouper', 'haddock', 'hippoglossus', 'horse', 'irish moss', 'pacific jack mackerel', 'japanese chestnut', 'jujube', 'jute', 'kale', 'king mackerel', 'leather chiton', 'common ling', 'lingcod', 'malabar spinach', 'mammee apple', 'purple mangosteen', 'milkfish', 'monkfish', 'moose', 'striped mullet', 'muskrat', 'new zealand spinach', 'ocean pout', 'north pacific giant octopus', 'ohelo berry', 'opossum', 'ostrich', 'spotted seal', 'pacific herring', 'pacific rockfish', 'common persimmon', 'pheasant', 'northern pike', 'pili nut', 'pitanga', 'american pokeweed', 'polar bear', 'prairie turnip', 'european rabbit', 'raccoon', 'rainbow smelt', 'rainbow trout', 'malabar plum', 'rose hip', 'roselle', 'orange roughy', 'sablefish', 'pink salmon', 'chum salmon', 'coho salmon', 'sockeye salmon', 'chinook salmon', 'atlantic salmon', 'salmonberry', 'spanish mackerel', 'pacific sardine', 'scup', 'sea cucumber', 'steller sea lion', 'bearded seal', 'ringed seal', 'sea trout', 'american shad', 'shark', 'sheefish', 'sheepshead', 'hedge mustard', 'snapper', 'squab', 'squirrel', 'greater sturgeon', 'white sucker', 'pumpkinseed sunfish', 'swordfish', 'teff', 'tilefish', 'mexican groundcherry', 'salmonidae', 'walleye', 'alaska pollock', 'whelk', 'broad whitefish', 'whitefish', 'whiting', 'tea leaf willow', 'yellowfin tuna', 'yellowtail amberjack', 'pollock', 'albacore tuna', 'atlantic halibut', 'smelt', 'clupeinae', 'spiny lobster', 'deer', 'percoidei', 'perciformes', 'rabbit', 'beefalo', 'bivalvia', 'flatfish', 'walrus', 'great horned owl', 'quail', 'boysenberry', \"jew's ear\", 'shiitake', 'purple laver', 'wakame', 'enokitake', 'epazote', 'oyster mushroom', 'cloud ear fungus', 'maitake', 'spot croaker', 'sourdock', 'atlantic menhaden', 'narrowleaf cattail', 'jellyfish', 'anchovy', 'blue whiting', 'carp bream', 'chanterelle', 'sturgeon', 'charr', 'common dab', 'spiny dogfish', 'anatidae', 'anguilliformes', 'true frog', 'garfish', 'gadiformes', 'mountain hare', 'lake trout', 'lemon sole', 'lumpsucker', 'scombridae', 'norway haddock', 'norway pout', 'persimmon', 'pikeperch', 'pleuronectidae', 'rock ptarmigan', 'pacific ocean perch', 'true seal', 'red algae', 'kombu', 'snail', 'true sole', 'catfish', 'common tuna', 'cetacea', 'columbidae', 'conch', 'other meat product', 'other fish product', 'chocolate spread', 'cocoa butter', 'cocoa powder', 'chocolate', 'tofu', 'roe', 'cichlidae', 'green turtle', 'heart of palm', 'morchella', 'horned melon', 'soy yogurt', 'mixed nuts', 'cupua\\x8du', 'nance', 'ascidians', 'chinese bayberry', 'green zucchini', 'yellow zucchini', 'saskatoon berry', 'nanking cherry', 'japanese pumpkin', 'squid', 'colocasia', 'buffalo currant'))"
      ]
     },
     "execution_count": 40,
     "metadata": {},
     "output_type": "execute_result"
    }
   ],
   "source": [
    "giant.node()"
   ]
  },
  {
   "cell_type": "code",
   "execution_count": 29,
   "metadata": {
    "scrolled": true
   },
   "outputs": [
    {
     "data": {
      "image/png": "[encoded data removed]",
      "text/plain": [
       "<Figure size 432x288 with 1 Axes>"
      ]
     },
     "metadata": {
      "needs_background": "light"
     },
     "output_type": "display_data"
    }
   ],
   "source": [
    "nx.draw_networkx(giant)"
   ]
  },
  {
   "cell_type": "code",
   "execution_count": 54,
   "metadata": {},
   "outputs": [
    {
     "data": {
      "text/plain": [
       "count    499.000000\n",
       "mean     198.717435\n",
       "std       83.861297\n",
       "min        1.000000\n",
       "25%      169.000000\n",
       "50%      262.000000\n",
       "75%      263.000000\n",
       "max      278.000000\n",
       "dtype: float64"
      ]
     },
     "execution_count": 54,
     "metadata": {},
     "output_type": "execute_result"
    }
   ],
   "source": [
    "degree_dict = dict(giant.degree())\n",
    "degree_series = pd.Series(degree_dict)\n",
    "degree_series.describe()"
   ]
  },
  {
   "cell_type": "code",
   "execution_count": 55,
   "metadata": {
    "scrolled": true
   },
   "outputs": [
    {
     "data": {
      "image/png": "[encoded data removed]",
      "text/plain": [
       "<Figure size 432x288 with 1 Axes>"
      ]
     },
     "metadata": {
      "needs_background": "light"
     },
     "output_type": "display_data"
    }
   ],
   "source": [
    "degree_series[degree_series < 400].hist(bins=50)"
   ]
  },
  {
   "cell_type": "code",
   "execution_count": 56,
   "metadata": {
    "scrolled": true
   },
   "outputs": [
    {
     "data": {
      "text/plain": [
       "[('mushroom', 0.5582329317269076),\n",
       " ('green beans', 0.5562248995983935),\n",
       " ('buckwheat', 0.5542168674698794),\n",
       " ('pecans', 0.5542168674698794),\n",
       " ('coconut', 0.5522088353413654)]"
      ]
     },
     "execution_count": 56,
     "metadata": {},
     "output_type": "execute_result"
    }
   ],
   "source": [
    "Counter(nx.degree_centrality(giant)).most_common(5)\n"
   ]
  },
  {
   "cell_type": "markdown",
   "metadata": {},
   "source": [
    "#Girvan Newman"
   ]
  },
  {
   "cell_type": "code",
   "execution_count": 59,
   "metadata": {},
   "outputs": [
    {
     "name": "stdout",
     "output_type": "stream",
     "text": [
      "Iteration:  1\n",
      "Cut of Girvan Newman:  1\n",
      "Cut of Girvan Newman:  2\n"
     ]
    },
    {
     "ename": "KeyboardInterrupt",
     "evalue": "",
     "output_type": "error",
     "traceback": [
      "\u001b[0;31m---------------------------------------------------------------------------\u001b[0m",
      "\u001b[0;31mKeyboardInterrupt\u001b[0m                         Traceback (most recent call last)",
      "\u001b[0;32m<ipython-input-59-fad01abbd641>\u001b[0m in \u001b[0;36m<module>\u001b[0;34m\u001b[0m\n\u001b[0;32m----> 1\u001b[0;31m \u001b[0mcomms\u001b[0m\u001b[0;34m,\u001b[0m \u001b[0mmods\u001b[0m \u001b[0;34m=\u001b[0m \u001b[0mfind_communities_modularities\u001b[0m\u001b[0;34m(\u001b[0m\u001b[0mgiant\u001b[0m\u001b[0;34m)\u001b[0m\u001b[0;34m\u001b[0m\u001b[0;34m\u001b[0m\u001b[0m\n\u001b[0m",
      "\u001b[0;32m~/Dropbox/food_map/src/communities/communities.py\u001b[0m in \u001b[0;36mfind_communities_modularities\u001b[0;34m(G, max_iter)\u001b[0m\n\u001b[1;32m    125\u001b[0m         \u001b[0mmodularities\u001b[0m\u001b[0;34m.\u001b[0m\u001b[0mappend\u001b[0m\u001b[0;34m(\u001b[0m\u001b[0mmodularity\u001b[0m\u001b[0;34m)\u001b[0m\u001b[0;34m\u001b[0m\u001b[0;34m\u001b[0m\u001b[0m\n\u001b[1;32m    126\u001b[0m         \u001b[0mpartitions\u001b[0m\u001b[0;34m.\u001b[0m\u001b[0mappend\u001b[0m\u001b[0;34m(\u001b[0m\u001b[0mlist\u001b[0m\u001b[0;34m(\u001b[0m\u001b[0mnx\u001b[0m\u001b[0;34m.\u001b[0m\u001b[0mconnected_components\u001b[0m\u001b[0;34m(\u001b[0m\u001b[0mG1\u001b[0m\u001b[0;34m)\u001b[0m\u001b[0;34m)\u001b[0m\u001b[0;34m)\u001b[0m\u001b[0;34m\u001b[0m\u001b[0;34m\u001b[0m\u001b[0m\n\u001b[0;32m--> 127\u001b[0;31m         \u001b[0mgirvan_newman_step\u001b[0m\u001b[0;34m(\u001b[0m\u001b[0mG1\u001b[0m\u001b[0;34m)\u001b[0m\u001b[0;34m\u001b[0m\u001b[0;34m\u001b[0m\u001b[0m\n\u001b[0m\u001b[1;32m    128\u001b[0m         \u001b[0;32mif\u001b[0m \u001b[0mmax_iter\u001b[0m \u001b[0;32mand\u001b[0m \u001b[0mi\u001b[0m \u001b[0;34m>=\u001b[0m \u001b[0mmax_iter\u001b[0m\u001b[0;34m:\u001b[0m\u001b[0;34m\u001b[0m\u001b[0;34m\u001b[0m\u001b[0m\n\u001b[1;32m    129\u001b[0m             \u001b[0;32mbreak\u001b[0m\u001b[0;34m\u001b[0m\u001b[0;34m\u001b[0m\u001b[0m\n",
      "\u001b[0;32m~/Dropbox/food_map/src/communities/communities.py\u001b[0m in \u001b[0;36mgirvan_newman_step\u001b[0;34m(G)\u001b[0m\n\u001b[1;32m     17\u001b[0m     \u001b[0mx\u001b[0m \u001b[0;34m=\u001b[0m \u001b[0;36m0\u001b[0m\u001b[0;34m\u001b[0m\u001b[0;34m\u001b[0m\u001b[0m\n\u001b[1;32m     18\u001b[0m     \u001b[0;32mwhile\u001b[0m \u001b[0mncomp\u001b[0m \u001b[0;34m==\u001b[0m \u001b[0minit_ncomp\u001b[0m\u001b[0;34m:\u001b[0m\u001b[0;34m\u001b[0m\u001b[0;34m\u001b[0m\u001b[0m\n\u001b[0;32m---> 19\u001b[0;31m         \u001b[0mbw\u001b[0m \u001b[0;34m=\u001b[0m \u001b[0mCounter\u001b[0m\u001b[0;34m(\u001b[0m\u001b[0mnx\u001b[0m\u001b[0;34m.\u001b[0m\u001b[0medge_betweenness_centrality\u001b[0m\u001b[0;34m(\u001b[0m\u001b[0mG\u001b[0m\u001b[0;34m)\u001b[0m\u001b[0;34m)\u001b[0m\u001b[0;34m\u001b[0m\u001b[0;34m\u001b[0m\u001b[0m\n\u001b[0m\u001b[1;32m     20\u001b[0m         \u001b[0ma\u001b[0m\u001b[0;34m,\u001b[0m \u001b[0mb\u001b[0m \u001b[0;34m=\u001b[0m \u001b[0mbw\u001b[0m\u001b[0;34m.\u001b[0m\u001b[0mmost_common\u001b[0m\u001b[0;34m(\u001b[0m\u001b[0;36m1\u001b[0m\u001b[0;34m)\u001b[0m\u001b[0;34m[\u001b[0m\u001b[0;36m0\u001b[0m\u001b[0;34m]\u001b[0m\u001b[0;34m[\u001b[0m\u001b[0;36m0\u001b[0m\u001b[0;34m]\u001b[0m\u001b[0;34m\u001b[0m\u001b[0;34m\u001b[0m\u001b[0m\n\u001b[1;32m     21\u001b[0m         \u001b[0mG\u001b[0m\u001b[0;34m.\u001b[0m\u001b[0mremove_edge\u001b[0m\u001b[0;34m(\u001b[0m\u001b[0ma\u001b[0m\u001b[0;34m,\u001b[0m \u001b[0mb\u001b[0m\u001b[0;34m)\u001b[0m\u001b[0;34m\u001b[0m\u001b[0;34m\u001b[0m\u001b[0m\n",
      "\u001b[0;32m<decorator-gen-230>\u001b[0m in \u001b[0;36medge_betweenness_centrality\u001b[0;34m(G, k, normalized, weight, seed)\u001b[0m\n",
      "\u001b[0;32m~/anaconda3/lib/python3.7/site-packages/networkx/utils/decorators.py\u001b[0m in \u001b[0;36m_random_state\u001b[0;34m(func, *args, **kwargs)\u001b[0m\n\u001b[1;32m    462\u001b[0m         \u001b[0mnew_args\u001b[0m \u001b[0;34m=\u001b[0m \u001b[0mlist\u001b[0m\u001b[0;34m(\u001b[0m\u001b[0margs\u001b[0m\u001b[0;34m)\u001b[0m\u001b[0;34m\u001b[0m\u001b[0;34m\u001b[0m\u001b[0m\n\u001b[1;32m    463\u001b[0m         \u001b[0mnew_args\u001b[0m\u001b[0;34m[\u001b[0m\u001b[0mrandom_state_index\u001b[0m\u001b[0;34m]\u001b[0m \u001b[0;34m=\u001b[0m \u001b[0mrandom_state\u001b[0m\u001b[0;34m\u001b[0m\u001b[0;34m\u001b[0m\u001b[0m\n\u001b[0;32m--> 464\u001b[0;31m         \u001b[0;32mreturn\u001b[0m \u001b[0mfunc\u001b[0m\u001b[0;34m(\u001b[0m\u001b[0;34m*\u001b[0m\u001b[0mnew_args\u001b[0m\u001b[0;34m,\u001b[0m \u001b[0;34m**\u001b[0m\u001b[0mkwargs\u001b[0m\u001b[0;34m)\u001b[0m\u001b[0;34m\u001b[0m\u001b[0;34m\u001b[0m\u001b[0m\n\u001b[0m\u001b[1;32m    465\u001b[0m     \u001b[0;32mreturn\u001b[0m \u001b[0m_random_state\u001b[0m\u001b[0;34m\u001b[0m\u001b[0;34m\u001b[0m\u001b[0m\n",
      "\u001b[0;32m~/anaconda3/lib/python3.7/site-packages/networkx/algorithms/centrality/betweenness.py\u001b[0m in \u001b[0;36medge_betweenness_centrality\u001b[0;34m(G, k, normalized, weight, seed)\u001b[0m\n\u001b[1;32m    209\u001b[0m         \u001b[0;31m# single source shortest paths\u001b[0m\u001b[0;34m\u001b[0m\u001b[0;34m\u001b[0m\u001b[0;34m\u001b[0m\u001b[0m\n\u001b[1;32m    210\u001b[0m         \u001b[0;32mif\u001b[0m \u001b[0mweight\u001b[0m \u001b[0;32mis\u001b[0m \u001b[0;32mNone\u001b[0m\u001b[0;34m:\u001b[0m  \u001b[0;31m# use BFS\u001b[0m\u001b[0;34m\u001b[0m\u001b[0;34m\u001b[0m\u001b[0m\n\u001b[0;32m--> 211\u001b[0;31m             \u001b[0mS\u001b[0m\u001b[0;34m,\u001b[0m \u001b[0mP\u001b[0m\u001b[0;34m,\u001b[0m \u001b[0msigma\u001b[0m \u001b[0;34m=\u001b[0m \u001b[0m_single_source_shortest_path_basic\u001b[0m\u001b[0;34m(\u001b[0m\u001b[0mG\u001b[0m\u001b[0;34m,\u001b[0m \u001b[0ms\u001b[0m\u001b[0;34m)\u001b[0m\u001b[0;34m\u001b[0m\u001b[0;34m\u001b[0m\u001b[0m\n\u001b[0m\u001b[1;32m    212\u001b[0m         \u001b[0;32melse\u001b[0m\u001b[0;34m:\u001b[0m  \u001b[0;31m# use Dijkstra's algorithm\u001b[0m\u001b[0;34m\u001b[0m\u001b[0;34m\u001b[0m\u001b[0m\n\u001b[1;32m    213\u001b[0m             \u001b[0mS\u001b[0m\u001b[0;34m,\u001b[0m \u001b[0mP\u001b[0m\u001b[0;34m,\u001b[0m \u001b[0msigma\u001b[0m \u001b[0;34m=\u001b[0m \u001b[0m_single_source_dijkstra_path_basic\u001b[0m\u001b[0;34m(\u001b[0m\u001b[0mG\u001b[0m\u001b[0;34m,\u001b[0m \u001b[0ms\u001b[0m\u001b[0;34m,\u001b[0m \u001b[0mweight\u001b[0m\u001b[0;34m)\u001b[0m\u001b[0;34m\u001b[0m\u001b[0;34m\u001b[0m\u001b[0m\n",
      "\u001b[0;32m~/anaconda3/lib/python3.7/site-packages/networkx/algorithms/centrality/betweenness.py\u001b[0m in \u001b[0;36m_single_source_shortest_path_basic\u001b[0;34m(G, s)\u001b[0m\n\u001b[1;32m    249\u001b[0m                 \u001b[0mQ\u001b[0m\u001b[0;34m.\u001b[0m\u001b[0mappend\u001b[0m\u001b[0;34m(\u001b[0m\u001b[0mw\u001b[0m\u001b[0;34m)\u001b[0m\u001b[0;34m\u001b[0m\u001b[0;34m\u001b[0m\u001b[0m\n\u001b[1;32m    250\u001b[0m                 \u001b[0mD\u001b[0m\u001b[0;34m[\u001b[0m\u001b[0mw\u001b[0m\u001b[0;34m]\u001b[0m \u001b[0;34m=\u001b[0m \u001b[0mDv\u001b[0m \u001b[0;34m+\u001b[0m \u001b[0;36m1\u001b[0m\u001b[0;34m\u001b[0m\u001b[0;34m\u001b[0m\u001b[0m\n\u001b[0;32m--> 251\u001b[0;31m             \u001b[0;32mif\u001b[0m \u001b[0mD\u001b[0m\u001b[0;34m[\u001b[0m\u001b[0mw\u001b[0m\u001b[0;34m]\u001b[0m \u001b[0;34m==\u001b[0m \u001b[0mDv\u001b[0m \u001b[0;34m+\u001b[0m \u001b[0;36m1\u001b[0m\u001b[0;34m:\u001b[0m   \u001b[0;31m# this is a shortest path, count paths\u001b[0m\u001b[0;34m\u001b[0m\u001b[0;34m\u001b[0m\u001b[0m\n\u001b[0m\u001b[1;32m    252\u001b[0m                 \u001b[0msigma\u001b[0m\u001b[0;34m[\u001b[0m\u001b[0mw\u001b[0m\u001b[0;34m]\u001b[0m \u001b[0;34m+=\u001b[0m \u001b[0msigmav\u001b[0m\u001b[0;34m\u001b[0m\u001b[0;34m\u001b[0m\u001b[0m\n\u001b[1;32m    253\u001b[0m                 \u001b[0mP\u001b[0m\u001b[0;34m[\u001b[0m\u001b[0mw\u001b[0m\u001b[0;34m]\u001b[0m\u001b[0;34m.\u001b[0m\u001b[0mappend\u001b[0m\u001b[0;34m(\u001b[0m\u001b[0mv\u001b[0m\u001b[0;34m)\u001b[0m  \u001b[0;31m# predecessors\u001b[0m\u001b[0;34m\u001b[0m\u001b[0;34m\u001b[0m\u001b[0m\n",
      "\u001b[0;31mKeyboardInterrupt\u001b[0m: "
     ]
    }
   ],
   "source": [
    "comms, mods = find_communities_modularities(giant)\n"
   ]
  },
  {
   "cell_type": "code",
   "execution_count": null,
   "metadata": {},
   "outputs": [],
   "source": [
    "plt.plot(list(range(1,len(mods)+1)), mods, ':o')\n",
    "plt.xlabel('number of communities')\n",
    "plt.ylabel('modularity')"
   ]
  },
  {
   "cell_type": "code",
   "execution_count": 30,
   "metadata": {},
   "outputs": [
    {
     "name": "stdout",
     "output_type": "stream",
     "text": [
      "{'leek', 'avocado', 'winter savory', 'dill', 'quince', 'chinese chestnut', 'sorrel', 'abalone', 'roselle', 'onion', 'kiwifruit', 'poppy seed', 'chia', 'cardamom', 'breadfruit', 'peanut', 'loganberry', 'apricot', 'macadamia nut', 'chive', 'basil', 'rambutan', 'wakame', 'fennel', 'purple mangosteen', 'soursop', 'mint', 'thyme', 'blueberry', 'yellow zucchini', 'cashew nut', 'tea leaf willow', 'cinnamon', 'durian', 'naranjilla', 'walnut', 'blackberry', 'hogplum', 'pummelo', 'sparkleberry', 'chard', 'persimmon', 'natal plum', 'mustard', 'starfruit', 'squashberry', 'epazote', 'artemisia', 'enokitake', 'malabar spinach', 'pepper c. baccatum', 'coconut', \"elliott's blueberry\", 'rapini', 'jute', 'cumin', 'turmeric', 'brazil nut', 'pomegranate', 'narrowleaf cattail', 'great horned owl', 'summer savory', 'european chestnut', 'pitanga', 'garlic', 'clove', 'rhubarb', 'rutabaga', 'cabbage', 'bilberry', 'anise', 'water chestnut', 'ohelo berry', 'black crowberry', 'purple laver', 'mulberry', 'mushroom', 'almond', 'fireweed', 'ginger', 'buffalo currant', 'black huckleberry', 'brussels sprout', 'nutmeg', 'conch', 'teff', 'lemon', 'lettuce', 'bayberry', 'turnip', 'passionfruit', 'fig', 'broccoli', 'komatsuna', 'pepper', 'vanilla', 'tarragon', 'silver linden', 'devilfish', 'borage', 'musk melon', 'tamarind', 'burdock', 'shallot', 'butternut squash', 'mexican groundcherry', 'pineapple', 'black mulberry', 'prairie turnip', 'red currant', 'raspberry', 'cherry tomato', 'irish moss', 'litchi', 'acerola', 'mango', 'garden cress', 'jujube', 'muscadine grape', 'beech nut', 'carrot', 'american butterfish', \"jew's ear\", 'pepper c. chinense', 'coriander', 'american pokeweed', 'saskatoon berry', 'pecans', 'horned melon', 'amaranth', 'angelica', 'deerberry', 'rowanberry', 'kai lan', 'allspice', 'bitter cherry', 'pumpkin', 'cauliflower', 'nanking cherry', 'prickly pear', 'evening primrose', 'black currant', 'radish', 'red raspberry', 'lemon balm', 'japanese chestnut', 'mammee apple', 'fenugreek', 'marjoram', 'capsicum', 'malabar plum', 'plum', 'kelp', 'medlar', 'carom seed', 'spinach', 'ginkgo nuts', 'cupua\\x8du', 'skunk currant', 'rocket salad', 'orange', 'redskin onion', 'rose hip', 'oyster mushroom', 'cherimoya', 'jackfruit', 'cherry', 'cloud ear fungus', 'dates', 'apple', 'banana', 'red algae', 'kumquat', 'mexican oregano', 'sourdock', 'spearmint', 'strawberry', 'jostaberry', 'lemon verbena', 'lingonberry', 'hedge mustard', 'buckwheat', 'welsh onion', 'rosemary', 'beetroot', 'corn salad', 'burbot', 'peach', 'sage', 'pak choy', 'pear', 'winter squash', 'kombu', 'chinese bayberry', 'shiitake', 'roseapple', 'sapodilla', 'parsnip', 'mandarin orange', 'okra', 'japanese persimmon', 'common verbena', 'mixed nuts', 'gooseberry', 'chanterelle', 'green beans', 'breadnut tree seed', 'butternut', 'eggplant', 'wasabi', 'swamp cabbage', 'feijoa', 'canada blueberry', 'groundcherry', 'kohlrabi', 'saffron', 'sour cherry', 'sweet potato', 'common persimmon', 'horseradish', 'japanese pumpkin', 'endive', 'chestnut', 'boysenberry', 'cloudberry', 'hazelnut', 'cassia', 'safflower', 'alfalfa', 'sea buckthorns', 'new zealand spinach', 'maitake', 'salmonberry', 'chervil', 'parsley', 'black raspberry', 'dock', 'celery', 'capers', 'pistachio', 'loquat', 'linden', 'kale', 'green zucchini', 'cornmint', 'lime', 'cranberry', 'ginseng', 'star anise', 'grapefruit', 'acorn', 'pili nut', 'atlantic herring', 'cottonseed', 'nance', 'pineappple sage', 'oregano'}\n",
      "{'clam'}\n",
      "{'crab'}\n",
      "{'crayfish'}\n",
      "{'krill'}\n",
      "{'atlantic mackerel', 'northern bluefin tuna', 'whelk', 'striped mullet', 'atlantic croaker', 'bivalvia', 'turbot', 'common tuna', 'european anchovy', 'pacific rockfish', 'pink salmon', 'catfish', 'yellowfin tuna', 'pacific jack mackerel', 'clupeinae', 'snail', 'pacific herring', 'sockeye salmon', 'opossum', 'brown bear', 'scup', 'deer', 'norway haddock', 'spanish mackerel', 'cichlidae', 'north pacific giant octopus', 'pleuronectidae', 'charr', 'dolphin fish', 'caribou', 'european rabbit', 'heart of palm', 'pacific ocean perch', 'whiting', 'sheepshead', 'white sucker', 'common carp', 'garfish', 'moose', 'rock ptarmigan', 'leather chiton', 'freshwater drum', 'cuttlefish', 'grouper', 'sablefish', 'carp bream', 'bluefish', 'greater sturgeon', 'polar bear', 'atlantic halibut', 'florida pompano', 'percoidei', 'alaska pollock', 'northern pike', 'green turtle', 'hippoglossus', 'atlantic salmon', 'swordfish', 'channel catfish', 'chum salmon', 'atlantic wolffish', 'king mackerel', 'spotted seal', 'shark', 'true seal', 'buffalo', 'soy yogurt', 'rainbow smelt', 'lumpsucker', 'walleye', 'chinook salmon', 'beluga whale', 'codfish', 'cetacea', 'monkfish', 'spot croaker', 'other fish product', 'snapper', 'mountain hare', 'cisco', 'squab', 'milkfish', 'mallard duck', 'jellyfish', 'atlantic pollock', 'lingcod', 'ocean pout', 'common dab', 'spiny dogfish', 'true sole', 'pumpkinseed sunfish', 'sheefish', 'scombridae', 'pollock', 'beaver', 'spiny lobster', 'coho salmon', 'true frog', 'anatidae', 'gadiformes', 'orange roughy', 'american shad', 'flatfish', 'morchella', 'red king crab', 'sturgeon', 'lobster', 'haddock', 'chocolate spread', 'yellowtail amberjack', 'common ling', 'norway pout', 'pheasant', 'perciformes', 'lemon sole', 'emu', 'albacore tuna', 'bearded seal', 'atlantic menhaden', 'wild boar', 'tilefish', 'sea trout', 'striped bass', 'greenland halibut', 'beefalo', 'ostrich', 'freshwater eel', 'muskrat', 'horse', 'tofu', 'raccoon', 'cocoa butter', 'smelt', 'other meat product', 'pacific sardine', 'blue whiting', 'pikeperch', 'squirrel', 'common octopus', 'roe', 'greylag goose', 'painted comber', 'rainbow trout', 'salmonidae', 'rabbit', 'ascidians', 'elk', 'columbidae', 'lake trout', 'whitefish', 'quail', 'anchovy', 'cusk', 'bison', 'anguilliformes', 'mule deer'}\n",
      "{'mollusc'}\n",
      "{'oyster'}\n",
      "{'prawn'}\n",
      "{'scallop'}\n",
      "{'shellfish'}\n",
      "{'shrimp'}\n",
      "{'trassi'}\n",
      "{'bonito'}\n",
      "{'caviar'}\n",
      "{'fish'}\n",
      "{'fatty fish'}\n",
      "{'lean fish'}\n",
      "{'fish oil'}\n",
      "{'smoked fish'}\n",
      "{'salmon'}\n",
      "{'apple sauce'}\n",
      "{'babaco'}\n",
      "{'beli'}\n",
      "{'byrsonima crassifolia'}\n",
      "{'cashew apple'}\n",
      "{'white currant', 'currant'}\n",
      "{'grape'}\n",
      "{'guava'}\n",
      "{'malay apple'}\n",
      "{'melon'}\n",
      "{'bitter orange'}\n",
      "{'papaya'}\n",
      "{'mountain papaya'}\n",
      "{'yellow passionfruit'}\n",
      "{'pawpaw'}\n",
      "{'bartlett pear'}\n",
      "{'pepino'}\n",
      "{'plumcot'}\n",
      "{'chinese quince'}\n",
      "{'raisin'}\n",
      "{'spineless monkey orange'}\n",
      "{'woodapple'}\n",
      "{'berry'}\n",
      "{'wild cherry'}\n",
      "{'strawberry jam'}\n",
      "{'bergamot'}\n",
      "{'citrus fruits'}\n",
      "{'satsuma orange'}\n",
      "{'tangerine'}\n",
      "{'truffle'}\n",
      "{'calamus'}\n",
      "{'liqourice'}\n",
      "{'scotch spearmint'}\n",
      "{'beef'}\n",
      "{'beef processed'}\n",
      "{'chicken'}\n",
      "{'ham'}\n",
      "{'lamb'}\n",
      "{'meat'}\n",
      "{'mutton'}\n",
      "{'pork'}\n",
      "{'sukiyaki'}\n",
      "{'turkey'}\n",
      "{'soybean sauce'}\n",
      "{'filbert'}\n",
      "{'nuts'}\n",
      "{'fermented tea'}\n",
      "{'creosote'}\n",
      "{'honey'}\n",
      "{'macaroni'}\n",
      "{'mustard oil'}\n",
      "{'peanut butter'}\n",
      "{'peanut oil'}\n",
      "{'storax'}\n",
      "{'vinegar'}\n",
      "{'anise hyssop'}\n",
      "{'caraway'}\n",
      "{'mace'}\n",
      "{'peppermint'}\n",
      "{'cherry pepper'}\n",
      "{'tomato'}\n",
      "{'asafoetida'}\n",
      "{'apple cider vinegar'}\n",
      "{'curry leaf'}\n",
      "{'drumstick leaf'}\n",
      "{'jalapeno'}\n",
      "{'turkey berry'}\n",
      "{'white pepper'}\n",
      "{'garcinia indica'}\n",
      "{'walrus', 'alaska blackfish', 'ringed seal', 'nuttall cockle', 'bowhead whale', 'broad whitefish', 'sea cucumber', 'black bear'}\n",
      "{'steller sea lion'}\n",
      "{'cocoa powder'}\n",
      "{'chocolate'}\n",
      "{'squid'}\n",
      "{'colocasia'}\n"
     ]
    }
   ],
   "source": [
    "for comp in nx.connected_components(my_graph):\n",
    "    print(comp)"
   ]
  },
  {
   "cell_type": "code",
   "execution_count": 27,
   "metadata": {},
   "outputs": [
    {
     "name": "stderr",
     "output_type": "stream",
     "text": [
      "/home/ryoiwata/anaconda3/lib/python3.7/site-packages/networkx/drawing/nx_pylab.py:611: MatplotlibDeprecationWarning: isinstance(..., numbers.Number)\n",
      "  if cb.is_numlike(alpha):\n"
     ]
    },
    {
     "data": {
      "image/png": "[encoded data removed]",
      "text/plain": [
       "<Figure size 432x288 with 1 Axes>"
      ]
     },
     "metadata": {
      "needs_background": "light"
     },
     "output_type": "display_data"
    }
   ],
   "source": [
    "nx.draw_networkx(my_graph)"
   ]
  },
  {
   "cell_type": "markdown",
   "metadata": {},
   "source": [
    "# Recipe Puppy"
   ]
  },
  {
   "cell_type": "code",
   "execution_count": 10,
   "metadata": {},
   "outputs": [],
   "source": [
    "pickle_in = open(\"./data/pandas/recipe_puppy_pandas.pickle\",\"rb\")\n",
    "\n",
    "#Getting the dictionary from the pickle\n",
    "recipe_puppy = pickle.load(pickle_in)"
   ]
  },
  {
   "cell_type": "code",
   "execution_count": 11,
   "metadata": {},
   "outputs": [
    {
     "data": {
      "text/html": [
       "<div>\n",
       "<style scoped>\n",
       "    .dataframe tbody tr th:only-of-type {\n",
       "        vertical-align: middle;\n",
       "    }\n",
       "\n",
       "    .dataframe tbody tr th {\n",
       "        vertical-align: top;\n",
       "    }\n",
       "\n",
       "    .dataframe thead th {\n",
       "        text-align: right;\n",
       "    }\n",
       "</style>\n",
       "<table border=\"1\" class=\"dataframe\">\n",
       "  <thead>\n",
       "    <tr style=\"text-align: right;\">\n",
       "      <th></th>\n",
       "      <th>_id</th>\n",
       "      <th>recipe_ingredients</th>\n",
       "      <th>recipe_link</th>\n",
       "      <th>recipe_name</th>\n",
       "      <th>searched_ingredient</th>\n",
       "    </tr>\n",
       "  </thead>\n",
       "  <tbody>\n",
       "    <tr>\n",
       "      <th>0</th>\n",
       "      <td>5caa762213218a112b0b979f</td>\n",
       "      <td>[dashi, egg, egg noodles, mushroom, salt, seas...</td>\n",
       "      <td>http://www.grouprecipes.com/31653/egg-noodles-...</td>\n",
       "      <td>Egg Noodles With Wonton Egg And Veggie Recipe</td>\n",
       "      <td>egg</td>\n",
       "    </tr>\n",
       "    <tr>\n",
       "      <th>1</th>\n",
       "      <td>5caa762213218a112b0b97a0</td>\n",
       "      <td>[egg, water]</td>\n",
       "      <td>http://www.recipezaar.com/Egg-Peeling-for-Egg-...</td>\n",
       "      <td>Egg Peeling for Egg Salad</td>\n",
       "      <td>egg</td>\n",
       "    </tr>\n",
       "    <tr>\n",
       "      <th>2</th>\n",
       "      <td>5caa762213218a112b0b97a1</td>\n",
       "      <td>[black pepper, celery, cucumber, curry powder,...</td>\n",
       "      <td>http://www.recipezaar.com/Curried-Egg-Salad-on...</td>\n",
       "      <td>Curried Egg Salad on a Bed of Greens -- an Egg...</td>\n",
       "      <td>egg</td>\n",
       "    </tr>\n",
       "    <tr>\n",
       "      <th>4</th>\n",
       "      <td>5caa762213218a112b0b97a3</td>\n",
       "      <td>[bacon, black pepper, cheese, egg, salt]</td>\n",
       "      <td>http://www.recipezaar.com/Bacon-and-Egg-Cups-1...</td>\n",
       "      <td>Bacon and Egg Cups</td>\n",
       "      <td>egg</td>\n",
       "    </tr>\n",
       "    <tr>\n",
       "      <th>5</th>\n",
       "      <td>5caa762213218a112b0b97a4</td>\n",
       "      <td>[celery, dijon mustard, egg, mayonnaise, papri...</td>\n",
       "      <td>http://www.recipezaar.com/Egg-Salad-Sandwich-D...</td>\n",
       "      <td>Egg Salad Sandwich (Diabetic)</td>\n",
       "      <td>egg</td>\n",
       "    </tr>\n",
       "  </tbody>\n",
       "</table>\n",
       "</div>"
      ],
      "text/plain": [
       "                        _id  \\\n",
       "0  5caa762213218a112b0b979f   \n",
       "1  5caa762213218a112b0b97a0   \n",
       "2  5caa762213218a112b0b97a1   \n",
       "4  5caa762213218a112b0b97a3   \n",
       "5  5caa762213218a112b0b97a4   \n",
       "\n",
       "                                  recipe_ingredients  \\\n",
       "0  [dashi, egg, egg noodles, mushroom, salt, seas...   \n",
       "1                                       [egg, water]   \n",
       "2  [black pepper, celery, cucumber, curry powder,...   \n",
       "4           [bacon, black pepper, cheese, egg, salt]   \n",
       "5  [celery, dijon mustard, egg, mayonnaise, papri...   \n",
       "\n",
       "                                         recipe_link  \\\n",
       "0  http://www.grouprecipes.com/31653/egg-noodles-...   \n",
       "1  http://www.recipezaar.com/Egg-Peeling-for-Egg-...   \n",
       "2  http://www.recipezaar.com/Curried-Egg-Salad-on...   \n",
       "4  http://www.recipezaar.com/Bacon-and-Egg-Cups-1...   \n",
       "5  http://www.recipezaar.com/Egg-Salad-Sandwich-D...   \n",
       "\n",
       "                                         recipe_name searched_ingredient  \n",
       "0      Egg Noodles With Wonton Egg And Veggie Recipe                 egg  \n",
       "1                          Egg Peeling for Egg Salad                 egg  \n",
       "2  Curried Egg Salad on a Bed of Greens -- an Egg...                 egg  \n",
       "4                                 Bacon and Egg Cups                 egg  \n",
       "5                      Egg Salad Sandwich (Diabetic)                 egg  "
      ]
     },
     "execution_count": 11,
     "metadata": {},
     "output_type": "execute_result"
    }
   ],
   "source": [
    "recipe_puppy.head()"
   ]
  },
  {
   "cell_type": "code",
   "execution_count": 13,
   "metadata": {
    "scrolled": true
   },
   "outputs": [
    {
     "data": {
      "text/plain": [
       "(111269, 5)"
      ]
     },
     "execution_count": 13,
     "metadata": {},
     "output_type": "execute_result"
    }
   ],
   "source": [
    "recipe_puppy.shape"
   ]
  },
  {
   "cell_type": "markdown",
   "metadata": {},
   "source": [
    "# Cleaning Up The Data"
   ]
  },
  {
   "cell_type": "markdown",
   "metadata": {},
   "source": [
    "# Text Processing"
   ]
  },
  {
   "cell_type": "markdown",
   "metadata": {},
   "source": [
    "stop ingredient removal"
   ]
  },
  {
   "cell_type": "markdown",
   "metadata": {},
   "source": [
    "stemming and lemitization"
   ]
  },
  {
   "cell_type": "markdown",
   "metadata": {},
   "source": [
    "more nlp stuff"
   ]
  },
  {
   "cell_type": "markdown",
   "metadata": {},
   "source": [
    "# Graph Building"
   ]
  },
  {
   "cell_type": "code",
   "execution_count": null,
   "metadata": {},
   "outputs": [],
   "source": []
  },
  {
   "cell_type": "markdown",
   "metadata": {},
   "source": [
    "# Graph Analysis"
   ]
  },
  {
   "cell_type": "markdown",
   "metadata": {},
   "source": [
    "eigen Vector centrality"
   ]
  },
  {
   "cell_type": "markdown",
   "metadata": {},
   "source": [
    "# Recommender"
   ]
  },
  {
   "cell_type": "code",
   "execution_count": null,
   "metadata": {},
   "outputs": [],
   "source": []
  },
  {
   "cell_type": "markdown",
   "metadata": {},
   "source": [
    "# Interpretation"
   ]
  },
  {
   "cell_type": "code",
   "execution_count": null,
   "metadata": {},
   "outputs": [],
   "source": []
  }
 ],
 "metadata": {
  "kernelspec": {
   "display_name": "Python 3",
   "language": "python",
   "name": "python3"
  },
  "language_info": {
   "codemirror_mode": {
    "name": "ipython",
    "version": 3
   },
   "file_extension": ".py",
   "mimetype": "text/x-python",
   "name": "python",
   "nbconvert_exporter": "python",
   "pygments_lexer": "ipython3",
   "version": "3.7.1"
  }
 },
 "nbformat": 4,
 "nbformat_minor": 2
}
